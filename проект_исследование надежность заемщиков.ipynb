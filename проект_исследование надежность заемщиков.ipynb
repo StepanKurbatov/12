{
 "cells": [
  {
   "cell_type": "markdown",
   "id": "79f179db",
   "metadata": {},
   "source": [
    "# Исследование надежности заемщиков."
   ]
  },
  {
   "cell_type": "markdown",
   "id": "755dc59d",
   "metadata": {},
   "source": [
    "### Шаг 1. Обзор данных"
   ]
  },
  {
   "cell_type": "code",
   "execution_count": 1,
   "id": "1c1b8309",
   "metadata": {
    "scrolled": false
   },
   "outputs": [],
   "source": [
    "import pandas as pd\n",
    "data = pd.read_csv('/datasets/data.csv')"
   ]
  },
  {
   "cell_type": "code",
   "execution_count": 2,
   "id": "7e83222e",
   "metadata": {},
   "outputs": [
    {
     "name": "stdout",
     "output_type": "stream",
     "text": [
      "<class 'pandas.core.frame.DataFrame'>\n",
      "RangeIndex: 21525 entries, 0 to 21524\n",
      "Data columns (total 12 columns):\n",
      " #   Column            Non-Null Count  Dtype  \n",
      "---  ------            --------------  -----  \n",
      " 0   children          21525 non-null  int64  \n",
      " 1   days_employed     19351 non-null  float64\n",
      " 2   dob_years         21525 non-null  int64  \n",
      " 3   education         21525 non-null  object \n",
      " 4   education_id      21525 non-null  int64  \n",
      " 5   family_status     21525 non-null  object \n",
      " 6   family_status_id  21525 non-null  int64  \n",
      " 7   gender            21525 non-null  object \n",
      " 8   income_type       21525 non-null  object \n",
      " 9   debt              21525 non-null  int64  \n",
      " 10  total_income      19351 non-null  float64\n",
      " 11  purpose           21525 non-null  object \n",
      "dtypes: float64(2), int64(5), object(5)\n",
      "memory usage: 2.0+ MB\n"
     ]
    },
    {
     "data": {
      "text/html": [
       "<div>\n",
       "<style scoped>\n",
       "    .dataframe tbody tr th:only-of-type {\n",
       "        vertical-align: middle;\n",
       "    }\n",
       "\n",
       "    .dataframe tbody tr th {\n",
       "        vertical-align: top;\n",
       "    }\n",
       "\n",
       "    .dataframe thead th {\n",
       "        text-align: right;\n",
       "    }\n",
       "</style>\n",
       "<table border=\"1\" class=\"dataframe\">\n",
       "  <thead>\n",
       "    <tr style=\"text-align: right;\">\n",
       "      <th></th>\n",
       "      <th>children</th>\n",
       "      <th>days_employed</th>\n",
       "      <th>dob_years</th>\n",
       "      <th>education</th>\n",
       "      <th>education_id</th>\n",
       "      <th>family_status</th>\n",
       "      <th>family_status_id</th>\n",
       "      <th>gender</th>\n",
       "      <th>income_type</th>\n",
       "      <th>debt</th>\n",
       "      <th>total_income</th>\n",
       "      <th>purpose</th>\n",
       "    </tr>\n",
       "  </thead>\n",
       "  <tbody>\n",
       "    <tr>\n",
       "      <th>0</th>\n",
       "      <td>1</td>\n",
       "      <td>-8437.673028</td>\n",
       "      <td>42</td>\n",
       "      <td>высшее</td>\n",
       "      <td>0</td>\n",
       "      <td>женат / замужем</td>\n",
       "      <td>0</td>\n",
       "      <td>F</td>\n",
       "      <td>сотрудник</td>\n",
       "      <td>0</td>\n",
       "      <td>253875.639453</td>\n",
       "      <td>покупка жилья</td>\n",
       "    </tr>\n",
       "    <tr>\n",
       "      <th>1</th>\n",
       "      <td>1</td>\n",
       "      <td>-4024.803754</td>\n",
       "      <td>36</td>\n",
       "      <td>среднее</td>\n",
       "      <td>1</td>\n",
       "      <td>женат / замужем</td>\n",
       "      <td>0</td>\n",
       "      <td>F</td>\n",
       "      <td>сотрудник</td>\n",
       "      <td>0</td>\n",
       "      <td>112080.014102</td>\n",
       "      <td>приобретение автомобиля</td>\n",
       "    </tr>\n",
       "    <tr>\n",
       "      <th>2</th>\n",
       "      <td>0</td>\n",
       "      <td>-5623.422610</td>\n",
       "      <td>33</td>\n",
       "      <td>Среднее</td>\n",
       "      <td>1</td>\n",
       "      <td>женат / замужем</td>\n",
       "      <td>0</td>\n",
       "      <td>M</td>\n",
       "      <td>сотрудник</td>\n",
       "      <td>0</td>\n",
       "      <td>145885.952297</td>\n",
       "      <td>покупка жилья</td>\n",
       "    </tr>\n",
       "    <tr>\n",
       "      <th>3</th>\n",
       "      <td>3</td>\n",
       "      <td>-4124.747207</td>\n",
       "      <td>32</td>\n",
       "      <td>среднее</td>\n",
       "      <td>1</td>\n",
       "      <td>женат / замужем</td>\n",
       "      <td>0</td>\n",
       "      <td>M</td>\n",
       "      <td>сотрудник</td>\n",
       "      <td>0</td>\n",
       "      <td>267628.550329</td>\n",
       "      <td>дополнительное образование</td>\n",
       "    </tr>\n",
       "    <tr>\n",
       "      <th>4</th>\n",
       "      <td>0</td>\n",
       "      <td>340266.072047</td>\n",
       "      <td>53</td>\n",
       "      <td>среднее</td>\n",
       "      <td>1</td>\n",
       "      <td>гражданский брак</td>\n",
       "      <td>1</td>\n",
       "      <td>F</td>\n",
       "      <td>пенсионер</td>\n",
       "      <td>0</td>\n",
       "      <td>158616.077870</td>\n",
       "      <td>сыграть свадьбу</td>\n",
       "    </tr>\n",
       "    <tr>\n",
       "      <th>5</th>\n",
       "      <td>0</td>\n",
       "      <td>-926.185831</td>\n",
       "      <td>27</td>\n",
       "      <td>высшее</td>\n",
       "      <td>0</td>\n",
       "      <td>гражданский брак</td>\n",
       "      <td>1</td>\n",
       "      <td>M</td>\n",
       "      <td>компаньон</td>\n",
       "      <td>0</td>\n",
       "      <td>255763.565419</td>\n",
       "      <td>покупка жилья</td>\n",
       "    </tr>\n",
       "    <tr>\n",
       "      <th>6</th>\n",
       "      <td>0</td>\n",
       "      <td>-2879.202052</td>\n",
       "      <td>43</td>\n",
       "      <td>высшее</td>\n",
       "      <td>0</td>\n",
       "      <td>женат / замужем</td>\n",
       "      <td>0</td>\n",
       "      <td>F</td>\n",
       "      <td>компаньон</td>\n",
       "      <td>0</td>\n",
       "      <td>240525.971920</td>\n",
       "      <td>операции с жильем</td>\n",
       "    </tr>\n",
       "    <tr>\n",
       "      <th>7</th>\n",
       "      <td>0</td>\n",
       "      <td>-152.779569</td>\n",
       "      <td>50</td>\n",
       "      <td>СРЕДНЕЕ</td>\n",
       "      <td>1</td>\n",
       "      <td>женат / замужем</td>\n",
       "      <td>0</td>\n",
       "      <td>M</td>\n",
       "      <td>сотрудник</td>\n",
       "      <td>0</td>\n",
       "      <td>135823.934197</td>\n",
       "      <td>образование</td>\n",
       "    </tr>\n",
       "    <tr>\n",
       "      <th>8</th>\n",
       "      <td>2</td>\n",
       "      <td>-6929.865299</td>\n",
       "      <td>35</td>\n",
       "      <td>ВЫСШЕЕ</td>\n",
       "      <td>0</td>\n",
       "      <td>гражданский брак</td>\n",
       "      <td>1</td>\n",
       "      <td>F</td>\n",
       "      <td>сотрудник</td>\n",
       "      <td>0</td>\n",
       "      <td>95856.832424</td>\n",
       "      <td>на проведение свадьбы</td>\n",
       "    </tr>\n",
       "    <tr>\n",
       "      <th>9</th>\n",
       "      <td>0</td>\n",
       "      <td>-2188.756445</td>\n",
       "      <td>41</td>\n",
       "      <td>среднее</td>\n",
       "      <td>1</td>\n",
       "      <td>женат / замужем</td>\n",
       "      <td>0</td>\n",
       "      <td>M</td>\n",
       "      <td>сотрудник</td>\n",
       "      <td>0</td>\n",
       "      <td>144425.938277</td>\n",
       "      <td>покупка жилья для семьи</td>\n",
       "    </tr>\n",
       "  </tbody>\n",
       "</table>\n",
       "</div>"
      ],
      "text/plain": [
       "   children  days_employed  dob_years education  education_id  \\\n",
       "0         1   -8437.673028         42    высшее             0   \n",
       "1         1   -4024.803754         36   среднее             1   \n",
       "2         0   -5623.422610         33   Среднее             1   \n",
       "3         3   -4124.747207         32   среднее             1   \n",
       "4         0  340266.072047         53   среднее             1   \n",
       "5         0    -926.185831         27    высшее             0   \n",
       "6         0   -2879.202052         43    высшее             0   \n",
       "7         0    -152.779569         50   СРЕДНЕЕ             1   \n",
       "8         2   -6929.865299         35    ВЫСШЕЕ             0   \n",
       "9         0   -2188.756445         41   среднее             1   \n",
       "\n",
       "      family_status  family_status_id gender income_type  debt   total_income  \\\n",
       "0   женат / замужем                 0      F   сотрудник     0  253875.639453   \n",
       "1   женат / замужем                 0      F   сотрудник     0  112080.014102   \n",
       "2   женат / замужем                 0      M   сотрудник     0  145885.952297   \n",
       "3   женат / замужем                 0      M   сотрудник     0  267628.550329   \n",
       "4  гражданский брак                 1      F   пенсионер     0  158616.077870   \n",
       "5  гражданский брак                 1      M   компаньон     0  255763.565419   \n",
       "6   женат / замужем                 0      F   компаньон     0  240525.971920   \n",
       "7   женат / замужем                 0      M   сотрудник     0  135823.934197   \n",
       "8  гражданский брак                 1      F   сотрудник     0   95856.832424   \n",
       "9   женат / замужем                 0      M   сотрудник     0  144425.938277   \n",
       "\n",
       "                      purpose  \n",
       "0               покупка жилья  \n",
       "1     приобретение автомобиля  \n",
       "2               покупка жилья  \n",
       "3  дополнительное образование  \n",
       "4             сыграть свадьбу  \n",
       "5               покупка жилья  \n",
       "6           операции с жильем  \n",
       "7                 образование  \n",
       "8       на проведение свадьбы  \n",
       "9     покупка жилья для семьи  "
      ]
     },
     "metadata": {},
     "output_type": "display_data"
    }
   ],
   "source": [
    "data.info()\n",
    "\n",
    "display(data.head(10))"
   ]
  },
  {
   "cell_type": "markdown",
   "id": "5e607a5b",
   "metadata": {},
   "source": [
    "### Шаг 2.1 Заполнение пропусков"
   ]
  },
  {
   "cell_type": "code",
   "execution_count": 3,
   "id": "9593c47b",
   "metadata": {
    "scrolled": false
   },
   "outputs": [
    {
     "data": {
      "text/plain": [
       "children               0\n",
       "days_employed       2174\n",
       "dob_years              0\n",
       "education              0\n",
       "education_id           0\n",
       "family_status          0\n",
       "family_status_id       0\n",
       "gender                 0\n",
       "income_type            0\n",
       "debt                   0\n",
       "total_income        2174\n",
       "purpose                0\n",
       "dtype: int64"
      ]
     },
     "metadata": {},
     "output_type": "display_data"
    }
   ],
   "source": [
    "display(data.isna().sum())"
   ]
  },
  {
   "cell_type": "markdown",
   "id": "c7c7c950",
   "metadata": {},
   "source": [
    "В двух столбцах присутствуют пропущенные значения в количестве 2174: days_employed и total_income.\n",
    "\n",
    "Пропущены количественные значения в данных столбцах."
   ]
  },
  {
   "cell_type": "code",
   "execution_count": 4,
   "id": "2c27e552",
   "metadata": {
    "scrolled": false
   },
   "outputs": [
    {
     "data": {
      "text/plain": [
       "children            0.000000\n",
       "days_employed       0.100999\n",
       "dob_years           0.000000\n",
       "education           0.000000\n",
       "education_id        0.000000\n",
       "family_status       0.000000\n",
       "family_status_id    0.000000\n",
       "gender              0.000000\n",
       "income_type         0.000000\n",
       "debt                0.000000\n",
       "total_income        0.100999\n",
       "purpose             0.000000\n",
       "dtype: float64"
      ]
     },
     "metadata": {},
     "output_type": "display_data"
    }
   ],
   "source": [
    "display(data.isna().sum()/data.shape[0])"
   ]
  },
  {
   "cell_type": "markdown",
   "id": "7e78dd2d",
   "metadata": {},
   "source": [
    "Согласно результату видим, что доля пропущенных значений в столбцах days_employed и total_income составляет 0.100999"
   ]
  },
  {
   "cell_type": "code",
   "execution_count": 5,
   "id": "47587825",
   "metadata": {},
   "outputs": [
    {
     "data": {
      "text/html": [
       "<div>\n",
       "<style scoped>\n",
       "    .dataframe tbody tr th:only-of-type {\n",
       "        vertical-align: middle;\n",
       "    }\n",
       "\n",
       "    .dataframe tbody tr th {\n",
       "        vertical-align: top;\n",
       "    }\n",
       "\n",
       "    .dataframe thead th {\n",
       "        text-align: right;\n",
       "    }\n",
       "</style>\n",
       "<table border=\"1\" class=\"dataframe\">\n",
       "  <thead>\n",
       "    <tr style=\"text-align: right;\">\n",
       "      <th></th>\n",
       "      <th>children</th>\n",
       "      <th>days_employed</th>\n",
       "      <th>dob_years</th>\n",
       "      <th>education</th>\n",
       "      <th>education_id</th>\n",
       "      <th>family_status</th>\n",
       "      <th>family_status_id</th>\n",
       "      <th>gender</th>\n",
       "      <th>income_type</th>\n",
       "      <th>debt</th>\n",
       "      <th>total_income</th>\n",
       "      <th>purpose</th>\n",
       "    </tr>\n",
       "  </thead>\n",
       "  <tbody>\n",
       "    <tr>\n",
       "      <th>12</th>\n",
       "      <td>0</td>\n",
       "      <td>NaN</td>\n",
       "      <td>65</td>\n",
       "      <td>среднее</td>\n",
       "      <td>1</td>\n",
       "      <td>гражданский брак</td>\n",
       "      <td>1</td>\n",
       "      <td>M</td>\n",
       "      <td>пенсионер</td>\n",
       "      <td>0</td>\n",
       "      <td>NaN</td>\n",
       "      <td>сыграть свадьбу</td>\n",
       "    </tr>\n",
       "    <tr>\n",
       "      <th>26</th>\n",
       "      <td>0</td>\n",
       "      <td>NaN</td>\n",
       "      <td>41</td>\n",
       "      <td>среднее</td>\n",
       "      <td>1</td>\n",
       "      <td>женат / замужем</td>\n",
       "      <td>0</td>\n",
       "      <td>M</td>\n",
       "      <td>госслужащий</td>\n",
       "      <td>0</td>\n",
       "      <td>NaN</td>\n",
       "      <td>образование</td>\n",
       "    </tr>\n",
       "    <tr>\n",
       "      <th>29</th>\n",
       "      <td>0</td>\n",
       "      <td>NaN</td>\n",
       "      <td>63</td>\n",
       "      <td>среднее</td>\n",
       "      <td>1</td>\n",
       "      <td>Не женат / не замужем</td>\n",
       "      <td>4</td>\n",
       "      <td>F</td>\n",
       "      <td>пенсионер</td>\n",
       "      <td>0</td>\n",
       "      <td>NaN</td>\n",
       "      <td>строительство жилой недвижимости</td>\n",
       "    </tr>\n",
       "    <tr>\n",
       "      <th>41</th>\n",
       "      <td>0</td>\n",
       "      <td>NaN</td>\n",
       "      <td>50</td>\n",
       "      <td>среднее</td>\n",
       "      <td>1</td>\n",
       "      <td>женат / замужем</td>\n",
       "      <td>0</td>\n",
       "      <td>F</td>\n",
       "      <td>госслужащий</td>\n",
       "      <td>0</td>\n",
       "      <td>NaN</td>\n",
       "      <td>сделка с подержанным автомобилем</td>\n",
       "    </tr>\n",
       "    <tr>\n",
       "      <th>55</th>\n",
       "      <td>0</td>\n",
       "      <td>NaN</td>\n",
       "      <td>54</td>\n",
       "      <td>среднее</td>\n",
       "      <td>1</td>\n",
       "      <td>гражданский брак</td>\n",
       "      <td>1</td>\n",
       "      <td>F</td>\n",
       "      <td>пенсионер</td>\n",
       "      <td>1</td>\n",
       "      <td>NaN</td>\n",
       "      <td>сыграть свадьбу</td>\n",
       "    </tr>\n",
       "  </tbody>\n",
       "</table>\n",
       "</div>"
      ],
      "text/plain": [
       "    children  days_employed  dob_years education  education_id  \\\n",
       "12         0            NaN         65   среднее             1   \n",
       "26         0            NaN         41   среднее             1   \n",
       "29         0            NaN         63   среднее             1   \n",
       "41         0            NaN         50   среднее             1   \n",
       "55         0            NaN         54   среднее             1   \n",
       "\n",
       "            family_status  family_status_id gender  income_type  debt  \\\n",
       "12       гражданский брак                 1      M    пенсионер     0   \n",
       "26        женат / замужем                 0      M  госслужащий     0   \n",
       "29  Не женат / не замужем                 4      F    пенсионер     0   \n",
       "41        женат / замужем                 0      F  госслужащий     0   \n",
       "55       гражданский брак                 1      F    пенсионер     1   \n",
       "\n",
       "    total_income                           purpose  \n",
       "12           NaN                   сыграть свадьбу  \n",
       "26           NaN                       образование  \n",
       "29           NaN  строительство жилой недвижимости  \n",
       "41           NaN  сделка с подержанным автомобилем  \n",
       "55           NaN                   сыграть свадьбу  "
      ]
     },
     "metadata": {},
     "output_type": "display_data"
    }
   ],
   "source": [
    "display(data[data['total_income'].isna()].head())"
   ]
  },
  {
   "cell_type": "markdown",
   "id": "ce62f758",
   "metadata": {},
   "source": [
    "Согласно результату можно сделать вывод, что пропуски не зависят от других результатов по строкам, следовательно пропуски вероятно были случайные, для заполнения пропусков можно использовать медианные значения по группам income_type."
   ]
  },
  {
   "cell_type": "code",
   "execution_count": 6,
   "id": "033875a8",
   "metadata": {
    "scrolled": false
   },
   "outputs": [],
   "source": [
    "total_income_median = data['total_income'].median()"
   ]
  },
  {
   "cell_type": "markdown",
   "id": "9176a0d2",
   "metadata": {},
   "source": [
    "Выявляем медианное значение по столбцу 'total_income'."
   ]
  },
  {
   "cell_type": "code",
   "execution_count": 7,
   "id": "3c0ce86d",
   "metadata": {},
   "outputs": [],
   "source": [
    "data['total_income'] = data['total_income'].fillna(total_income_median)"
   ]
  },
  {
   "cell_type": "markdown",
   "id": "9f16e34f",
   "metadata": {},
   "source": [
    "Добавлены медианные значения вместо пропусков столбце 'income_type'."
   ]
  },
  {
   "cell_type": "code",
   "execution_count": 8,
   "id": "52234b21",
   "metadata": {},
   "outputs": [
    {
     "data": {
      "text/html": [
       "<div>\n",
       "<style scoped>\n",
       "    .dataframe tbody tr th:only-of-type {\n",
       "        vertical-align: middle;\n",
       "    }\n",
       "\n",
       "    .dataframe tbody tr th {\n",
       "        vertical-align: top;\n",
       "    }\n",
       "\n",
       "    .dataframe thead th {\n",
       "        text-align: right;\n",
       "    }\n",
       "</style>\n",
       "<table border=\"1\" class=\"dataframe\">\n",
       "  <thead>\n",
       "    <tr style=\"text-align: right;\">\n",
       "      <th></th>\n",
       "      <th>children</th>\n",
       "      <th>days_employed</th>\n",
       "      <th>dob_years</th>\n",
       "      <th>education</th>\n",
       "      <th>education_id</th>\n",
       "      <th>family_status</th>\n",
       "      <th>family_status_id</th>\n",
       "      <th>gender</th>\n",
       "      <th>income_type</th>\n",
       "      <th>debt</th>\n",
       "      <th>total_income</th>\n",
       "      <th>purpose</th>\n",
       "    </tr>\n",
       "  </thead>\n",
       "  <tbody>\n",
       "  </tbody>\n",
       "</table>\n",
       "</div>"
      ],
      "text/plain": [
       "Empty DataFrame\n",
       "Columns: [children, days_employed, dob_years, education, education_id, family_status, family_status_id, gender, income_type, debt, total_income, purpose]\n",
       "Index: []"
      ]
     },
     "metadata": {},
     "output_type": "display_data"
    }
   ],
   "source": [
    "display(data[data['total_income'].isna()].head()) #отсутствуют пропуски в столбце total_income"
   ]
  },
  {
   "cell_type": "markdown",
   "id": "c9466c7c",
   "metadata": {},
   "source": [
    "### Шаг 2.2 Проверка данных на аномалии и исправления."
   ]
  },
  {
   "cell_type": "markdown",
   "id": "c37e68e1",
   "metadata": {},
   "source": [
    "Выявление аномалии в столбце 'children':"
   ]
  },
  {
   "cell_type": "code",
   "execution_count": 9,
   "id": "e06b9b56",
   "metadata": {
    "scrolled": true
   },
   "outputs": [
    {
     "data": {
      "text/plain": [
       " 0     14149\n",
       " 1      4818\n",
       " 2      2055\n",
       " 3       330\n",
       " 20       76\n",
       "-1        47\n",
       " 4        41\n",
       " 5         9\n",
       "Name: children, dtype: int64"
      ]
     },
     "metadata": {},
     "output_type": "display_data"
    }
   ],
   "source": [
    "display(data['children'].value_counts())"
   ]
  },
  {
   "cell_type": "markdown",
   "id": "6e57f16a",
   "metadata": {},
   "source": [
    "Выявлены значения в данных: 20 и -1, судя по результатам это является отклонением и аномалием в таблице.\n",
    "Заменяем данные значения:"
   ]
  },
  {
   "cell_type": "code",
   "execution_count": 10,
   "id": "299fbbf3",
   "metadata": {},
   "outputs": [],
   "source": [
    "data.loc[data['children'] == 20, 'children'] = 2\n",
    "data.loc[data['children'] == -1, 'children'] = 1"
   ]
  },
  {
   "cell_type": "code",
   "execution_count": 11,
   "id": "db6b2f87",
   "metadata": {
    "scrolled": true
   },
   "outputs": [
    {
     "data": {
      "text/plain": [
       "0    14149\n",
       "1     4865\n",
       "2     2131\n",
       "3      330\n",
       "4       41\n",
       "5        9\n",
       "Name: children, dtype: int64"
      ]
     },
     "metadata": {},
     "output_type": "display_data"
    }
   ],
   "source": [
    "display(data['children'].value_counts())"
   ]
  },
  {
   "cell_type": "markdown",
   "id": "bda68061",
   "metadata": {},
   "source": [
    "Следующим шагом проверим столбец days_employed на аномалии (в данном столбце встречаются отрицательные значения - данные значения заменим на модульное значение, также стоит проверить насколько корректно введены дни в таблице) - и заменим пропуски Nan медианным значением после обработки на аномалии."
   ]
  },
  {
   "cell_type": "code",
   "execution_count": 12,
   "id": "c16a45fd",
   "metadata": {},
   "outputs": [],
   "source": [
    "data.loc[data['days_employed'] < 0, 'days_employed'] = abs(data['days_employed']) #заменены отрицательные значения на положительные"
   ]
  },
  {
   "cell_type": "code",
   "execution_count": 13,
   "id": "fbc211ce",
   "metadata": {
    "scrolled": true
   },
   "outputs": [
    {
     "data": {
      "text/plain": [
       "6954     401755.400475\n",
       "10006    401715.811749\n",
       "7664     401675.093434\n",
       "2156     401674.466633\n",
       "7794     401663.850046\n",
       "4697     401635.032697\n",
       "13420    401619.633298\n",
       "17823    401614.475622\n",
       "10991    401591.828457\n",
       "8369     401590.452231\n",
       "Name: days_employed, dtype: float64"
      ]
     },
     "execution_count": 13,
     "metadata": {},
     "output_type": "execute_result"
    }
   ],
   "source": [
    "data['days_employed'].sort_values(ascending=False).head(10) "
   ]
  },
  {
   "cell_type": "markdown",
   "id": "9b073044",
   "metadata": {},
   "source": [
    "В результате сортивровки, видим, что в столбце присутствуют значения с показателями более 1000 лет, 401755 дней / 365. Данные аномалии необходимо заменить на медианные значения."
   ]
  },
  {
   "cell_type": "code",
   "execution_count": 14,
   "id": "35d8a943",
   "metadata": {
    "scrolled": true
   },
   "outputs": [
    {
     "data": {
      "text/plain": [
       "16335    18388.949901\n",
       "4299     17615.563266\n",
       "7329     16593.472817\n",
       "17838    16264.699501\n",
       "16825    16119.687737\n",
       "3974     15835.725775\n",
       "1539     15785.678893\n",
       "4321     15773.061335\n",
       "7731     15618.063786\n",
       "15675    15410.040779\n",
       "Name: days_employed, dtype: float64"
      ]
     },
     "execution_count": 14,
     "metadata": {},
     "output_type": "execute_result"
    }
   ],
   "source": [
    "days_employed_median = data['days_employed'].median()\n",
    "data.loc[data['days_employed']/365 >= data['dob_years'], 'days_employed'] = days_employed_median\n",
    "data['days_employed'].sort_values(ascending=False).head(10)"
   ]
  },
  {
   "cell_type": "code",
   "execution_count": 15,
   "id": "a8d2346e",
   "metadata": {},
   "outputs": [
    {
     "data": {
      "text/plain": [
       "children                                   1\n",
       "days_employed                   18388.949901\n",
       "dob_years                                 61\n",
       "education                            среднее\n",
       "education_id                               1\n",
       "family_status                женат / замужем\n",
       "family_status_id                           0\n",
       "gender                                     F\n",
       "income_type                        сотрудник\n",
       "debt                                       0\n",
       "total_income                   186178.934089\n",
       "purpose             операции с недвижимостью\n",
       "Name: 16335, dtype: object"
      ]
     },
     "metadata": {},
     "output_type": "display_data"
    },
    {
     "name": "stdout",
     "output_type": "stream",
     "text": [
      "максимальный стаж: 50.38068465909146 кол-во лет: 61\n"
     ]
    }
   ],
   "source": [
    "display(data.loc[16335])\n",
    "\n",
    "print('максимальный стаж:', data['days_employed'].max()/365, 'кол-во лет:', data.loc[16335, 'dob_years'])"
   ]
  },
  {
   "cell_type": "markdown",
   "id": "9f130240",
   "metadata": {},
   "source": [
    "После изменения данных в столбце days_employed отсутствуют аномальные отклонения в стаже. максимальный стаж составляет в таблице 50 лет, при возрасте 61 год.\n",
    "\n",
    "Далее произведем замену пропусков медианным значением."
   ]
  },
  {
   "cell_type": "code",
   "execution_count": 16,
   "id": "018c8228",
   "metadata": {},
   "outputs": [],
   "source": [
    "data['days_employed'] = data['days_employed'].fillna(days_employed_median)"
   ]
  },
  {
   "cell_type": "code",
   "execution_count": 17,
   "id": "1f79a2e8",
   "metadata": {},
   "outputs": [
    {
     "data": {
      "text/html": [
       "<div>\n",
       "<style scoped>\n",
       "    .dataframe tbody tr th:only-of-type {\n",
       "        vertical-align: middle;\n",
       "    }\n",
       "\n",
       "    .dataframe tbody tr th {\n",
       "        vertical-align: top;\n",
       "    }\n",
       "\n",
       "    .dataframe thead th {\n",
       "        text-align: right;\n",
       "    }\n",
       "</style>\n",
       "<table border=\"1\" class=\"dataframe\">\n",
       "  <thead>\n",
       "    <tr style=\"text-align: right;\">\n",
       "      <th></th>\n",
       "      <th>children</th>\n",
       "      <th>days_employed</th>\n",
       "      <th>dob_years</th>\n",
       "      <th>education</th>\n",
       "      <th>education_id</th>\n",
       "      <th>family_status</th>\n",
       "      <th>family_status_id</th>\n",
       "      <th>gender</th>\n",
       "      <th>income_type</th>\n",
       "      <th>debt</th>\n",
       "      <th>total_income</th>\n",
       "      <th>purpose</th>\n",
       "    </tr>\n",
       "  </thead>\n",
       "  <tbody>\n",
       "  </tbody>\n",
       "</table>\n",
       "</div>"
      ],
      "text/plain": [
       "Empty DataFrame\n",
       "Columns: [children, days_employed, dob_years, education, education_id, family_status, family_status_id, gender, income_type, debt, total_income, purpose]\n",
       "Index: []"
      ]
     },
     "metadata": {},
     "output_type": "display_data"
    }
   ],
   "source": [
    "display(data[data['days_employed'].isna()].head()) #отсутствуют пропуски в столбце days_employed"
   ]
  },
  {
   "cell_type": "markdown",
   "id": "637b28b4",
   "metadata": {},
   "source": [
    "Финальная проперка на пропуски:"
   ]
  },
  {
   "cell_type": "code",
   "execution_count": 18,
   "id": "12baf121",
   "metadata": {},
   "outputs": [
    {
     "data": {
      "text/plain": [
       "children            0\n",
       "days_employed       0\n",
       "dob_years           0\n",
       "education           0\n",
       "education_id        0\n",
       "family_status       0\n",
       "family_status_id    0\n",
       "gender              0\n",
       "income_type         0\n",
       "debt                0\n",
       "total_income        0\n",
       "purpose             0\n",
       "dtype: int64"
      ]
     },
     "metadata": {},
     "output_type": "display_data"
    }
   ],
   "source": [
    "display(data.isna().sum()) #пропуски отсутствуют"
   ]
  },
  {
   "cell_type": "markdown",
   "id": "783e695a",
   "metadata": {},
   "source": [
    "### Шаг 2.3. Изменение типов данных."
   ]
  },
  {
   "cell_type": "code",
   "execution_count": 19,
   "id": "ae12aa79",
   "metadata": {
    "scrolled": true
   },
   "outputs": [],
   "source": [
    "data['total_income'] = data['total_income'].astype(int)"
   ]
  },
  {
   "cell_type": "code",
   "execution_count": 20,
   "id": "06e85b21",
   "metadata": {
    "scrolled": true
   },
   "outputs": [
    {
     "name": "stdout",
     "output_type": "stream",
     "text": [
      "<class 'pandas.core.frame.DataFrame'>\n",
      "RangeIndex: 21525 entries, 0 to 21524\n",
      "Data columns (total 12 columns):\n",
      " #   Column            Non-Null Count  Dtype  \n",
      "---  ------            --------------  -----  \n",
      " 0   children          21525 non-null  int64  \n",
      " 1   days_employed     21525 non-null  float64\n",
      " 2   dob_years         21525 non-null  int64  \n",
      " 3   education         21525 non-null  object \n",
      " 4   education_id      21525 non-null  int64  \n",
      " 5   family_status     21525 non-null  object \n",
      " 6   family_status_id  21525 non-null  int64  \n",
      " 7   gender            21525 non-null  object \n",
      " 8   income_type       21525 non-null  object \n",
      " 9   debt              21525 non-null  int64  \n",
      " 10  total_income      21525 non-null  int64  \n",
      " 11  purpose           21525 non-null  object \n",
      "dtypes: float64(1), int64(6), object(5)\n",
      "memory usage: 2.0+ MB\n"
     ]
    },
    {
     "data": {
      "text/plain": [
       "None"
      ]
     },
     "metadata": {},
     "output_type": "display_data"
    }
   ],
   "source": [
    "display(data.info())"
   ]
  },
  {
   "cell_type": "markdown",
   "id": "d198c93d",
   "metadata": {},
   "source": [
    "### Шаг 2.4. Удаление дубликатов."
   ]
  },
  {
   "cell_type": "code",
   "execution_count": 21,
   "id": "237b70a1",
   "metadata": {},
   "outputs": [
    {
     "name": "stdout",
     "output_type": "stream",
     "text": [
      "Дубликатов в таблице: 54\n"
     ]
    }
   ],
   "source": [
    "print('Дубликатов в таблице:', data.duplicated().sum())"
   ]
  },
  {
   "cell_type": "code",
   "execution_count": 22,
   "id": "7c20b7d1",
   "metadata": {
    "scrolled": false
   },
   "outputs": [
    {
     "name": "stdout",
     "output_type": "stream",
     "text": [
      "Дубликатов в таблице: 0\n"
     ]
    }
   ],
   "source": [
    "data = data.drop_duplicates()\n",
    "\n",
    "print('Дубликатов в таблице:', data.duplicated().sum())"
   ]
  },
  {
   "cell_type": "markdown",
   "id": "d0ef7012",
   "metadata": {},
   "source": [
    "для поиска дубликатов использовал полностью таблицу, методом drop_duplicates() были удалены дубликаты из таблицы.\n",
    "\n",
    "Возможные причины появления дубликатов:\n",
    "1. подача заявки на кредит одним человеком несколько раз.\n",
    "2. техническое дублирование заявок.\n",
    "3. человеческий фактор при формировании списка."
   ]
  },
  {
   "cell_type": "markdown",
   "id": "87235f7e",
   "metadata": {},
   "source": [
    "Обработка неявных дубликатов в таблице.\n",
    "\n",
    "Выявим какие уникальные значения в столбцах с категориальными значениями, где могут быть неявные дубликаты."
   ]
  },
  {
   "cell_type": "code",
   "execution_count": 23,
   "id": "75b52d37",
   "metadata": {
    "scrolled": true
   },
   "outputs": [
    {
     "name": "stdout",
     "output_type": "stream",
     "text": [
      "['ВЫСШЕЕ', 'Высшее', 'НАЧАЛЬНОЕ', 'НЕОКОНЧЕННОЕ ВЫСШЕЕ', 'Начальное', 'Неоконченное высшее', 'СРЕДНЕЕ', 'Среднее', 'УЧЕНАЯ СТЕПЕНЬ', 'Ученая степень', 'высшее', 'начальное', 'неоконченное высшее', 'среднее', 'ученая степень']\n"
     ]
    }
   ],
   "source": [
    "print(sorted(data['education'].unique()))"
   ]
  },
  {
   "cell_type": "code",
   "execution_count": 24,
   "id": "9839fc71",
   "metadata": {},
   "outputs": [
    {
     "name": "stdout",
     "output_type": "stream",
     "text": [
      "['Не женат / не замужем', 'в разводе', 'вдовец / вдова', 'гражданский брак', 'женат / замужем']\n"
     ]
    }
   ],
   "source": [
    "print(sorted(data['family_status'].unique()))"
   ]
  },
  {
   "cell_type": "code",
   "execution_count": 25,
   "id": "099979d0",
   "metadata": {
    "scrolled": true
   },
   "outputs": [
    {
     "name": "stdout",
     "output_type": "stream",
     "text": [
      "['безработный', 'в декрете', 'госслужащий', 'компаньон', 'пенсионер', 'предприниматель', 'сотрудник', 'студент']\n"
     ]
    }
   ],
   "source": [
    "print(sorted(data['income_type'].unique()))"
   ]
  },
  {
   "cell_type": "markdown",
   "id": "8d1e17cd",
   "metadata": {},
   "source": [
    "Таким образом, в столбцах education присутствуют неявные дубликаты.\n",
    "Столбец education необходимо привести в один формат (строчные буквы)."
   ]
  },
  {
   "cell_type": "code",
   "execution_count": 26,
   "id": "3754e4c3",
   "metadata": {},
   "outputs": [
    {
     "name": "stdout",
     "output_type": "stream",
     "text": [
      "['высшее', 'начальное', 'неоконченное высшее', 'среднее', 'ученая степень']\n"
     ]
    }
   ],
   "source": [
    "data['education'] = data['education'].str.lower()\n",
    "print(sorted(data['education'].unique()))"
   ]
  },
  {
   "cell_type": "markdown",
   "id": "678bbba0",
   "metadata": {},
   "source": [
    "### Шаг 2.5. Формирование дополнительных датафреймов словарей, декомпозиция исходного датафрейма."
   ]
  },
  {
   "cell_type": "markdown",
   "id": "262198f7",
   "metadata": {},
   "source": [
    "Создание двух новых датафреймов (словарей): \n",
    "1. каждому уникальному значению из education соответствует уникальное значение education_id.\n",
    "2. каждому уникальному значению из family_status соответствует уникальное значение family_status_id."
   ]
  },
  {
   "cell_type": "code",
   "execution_count": 27,
   "id": "2a750c7b",
   "metadata": {
    "scrolled": true
   },
   "outputs": [
    {
     "data": {
      "text/html": [
       "<div>\n",
       "<style scoped>\n",
       "    .dataframe tbody tr th:only-of-type {\n",
       "        vertical-align: middle;\n",
       "    }\n",
       "\n",
       "    .dataframe tbody tr th {\n",
       "        vertical-align: top;\n",
       "    }\n",
       "\n",
       "    .dataframe thead th {\n",
       "        text-align: right;\n",
       "    }\n",
       "</style>\n",
       "<table border=\"1\" class=\"dataframe\">\n",
       "  <thead>\n",
       "    <tr style=\"text-align: right;\">\n",
       "      <th></th>\n",
       "      <th>education</th>\n",
       "      <th>education_id</th>\n",
       "    </tr>\n",
       "  </thead>\n",
       "  <tbody>\n",
       "    <tr>\n",
       "      <th>0</th>\n",
       "      <td>высшее</td>\n",
       "      <td>0</td>\n",
       "    </tr>\n",
       "    <tr>\n",
       "      <th>1</th>\n",
       "      <td>среднее</td>\n",
       "      <td>1</td>\n",
       "    </tr>\n",
       "    <tr>\n",
       "      <th>2</th>\n",
       "      <td>среднее</td>\n",
       "      <td>1</td>\n",
       "    </tr>\n",
       "    <tr>\n",
       "      <th>3</th>\n",
       "      <td>среднее</td>\n",
       "      <td>1</td>\n",
       "    </tr>\n",
       "    <tr>\n",
       "      <th>4</th>\n",
       "      <td>среднее</td>\n",
       "      <td>1</td>\n",
       "    </tr>\n",
       "  </tbody>\n",
       "</table>\n",
       "</div>"
      ],
      "text/plain": [
       "  education  education_id\n",
       "0    высшее             0\n",
       "1   среднее             1\n",
       "2   среднее             1\n",
       "3   среднее             1\n",
       "4   среднее             1"
      ]
     },
     "metadata": {},
     "output_type": "display_data"
    }
   ],
   "source": [
    "education_data = data[['education', 'education_id']]\n",
    "display(education_data.head())"
   ]
  },
  {
   "cell_type": "code",
   "execution_count": 28,
   "id": "5072c2d3",
   "metadata": {
    "scrolled": true
   },
   "outputs": [
    {
     "data": {
      "text/html": [
       "<div>\n",
       "<style scoped>\n",
       "    .dataframe tbody tr th:only-of-type {\n",
       "        vertical-align: middle;\n",
       "    }\n",
       "\n",
       "    .dataframe tbody tr th {\n",
       "        vertical-align: top;\n",
       "    }\n",
       "\n",
       "    .dataframe thead th {\n",
       "        text-align: right;\n",
       "    }\n",
       "</style>\n",
       "<table border=\"1\" class=\"dataframe\">\n",
       "  <thead>\n",
       "    <tr style=\"text-align: right;\">\n",
       "      <th></th>\n",
       "      <th>family_status</th>\n",
       "      <th>family_status_id</th>\n",
       "    </tr>\n",
       "  </thead>\n",
       "  <tbody>\n",
       "    <tr>\n",
       "      <th>0</th>\n",
       "      <td>женат / замужем</td>\n",
       "      <td>0</td>\n",
       "    </tr>\n",
       "    <tr>\n",
       "      <th>1</th>\n",
       "      <td>женат / замужем</td>\n",
       "      <td>0</td>\n",
       "    </tr>\n",
       "    <tr>\n",
       "      <th>2</th>\n",
       "      <td>женат / замужем</td>\n",
       "      <td>0</td>\n",
       "    </tr>\n",
       "    <tr>\n",
       "      <th>3</th>\n",
       "      <td>женат / замужем</td>\n",
       "      <td>0</td>\n",
       "    </tr>\n",
       "    <tr>\n",
       "      <th>4</th>\n",
       "      <td>гражданский брак</td>\n",
       "      <td>1</td>\n",
       "    </tr>\n",
       "  </tbody>\n",
       "</table>\n",
       "</div>"
      ],
      "text/plain": [
       "      family_status  family_status_id\n",
       "0   женат / замужем                 0\n",
       "1   женат / замужем                 0\n",
       "2   женат / замужем                 0\n",
       "3   женат / замужем                 0\n",
       "4  гражданский брак                 1"
      ]
     },
     "metadata": {},
     "output_type": "display_data"
    }
   ],
   "source": [
    "family_status_data = data[['family_status', 'family_status_id']]\n",
    "display(family_status_data.head())"
   ]
  },
  {
   "cell_type": "markdown",
   "id": "a449fd4e",
   "metadata": {},
   "source": [
    "Из исходной таблицы удаляем столбцы education и family_status:"
   ]
  },
  {
   "cell_type": "code",
   "execution_count": 29,
   "id": "59217280",
   "metadata": {
    "scrolled": true
   },
   "outputs": [
    {
     "data": {
      "text/html": [
       "<div>\n",
       "<style scoped>\n",
       "    .dataframe tbody tr th:only-of-type {\n",
       "        vertical-align: middle;\n",
       "    }\n",
       "\n",
       "    .dataframe tbody tr th {\n",
       "        vertical-align: top;\n",
       "    }\n",
       "\n",
       "    .dataframe thead th {\n",
       "        text-align: right;\n",
       "    }\n",
       "</style>\n",
       "<table border=\"1\" class=\"dataframe\">\n",
       "  <thead>\n",
       "    <tr style=\"text-align: right;\">\n",
       "      <th></th>\n",
       "      <th>children</th>\n",
       "      <th>days_employed</th>\n",
       "      <th>dob_years</th>\n",
       "      <th>education_id</th>\n",
       "      <th>family_status_id</th>\n",
       "      <th>gender</th>\n",
       "      <th>income_type</th>\n",
       "      <th>debt</th>\n",
       "      <th>total_income</th>\n",
       "      <th>purpose</th>\n",
       "    </tr>\n",
       "  </thead>\n",
       "  <tbody>\n",
       "    <tr>\n",
       "      <th>0</th>\n",
       "      <td>1</td>\n",
       "      <td>8437.673028</td>\n",
       "      <td>42</td>\n",
       "      <td>0</td>\n",
       "      <td>0</td>\n",
       "      <td>F</td>\n",
       "      <td>сотрудник</td>\n",
       "      <td>0</td>\n",
       "      <td>253875</td>\n",
       "      <td>покупка жилья</td>\n",
       "    </tr>\n",
       "    <tr>\n",
       "      <th>1</th>\n",
       "      <td>1</td>\n",
       "      <td>4024.803754</td>\n",
       "      <td>36</td>\n",
       "      <td>1</td>\n",
       "      <td>0</td>\n",
       "      <td>F</td>\n",
       "      <td>сотрудник</td>\n",
       "      <td>0</td>\n",
       "      <td>112080</td>\n",
       "      <td>приобретение автомобиля</td>\n",
       "    </tr>\n",
       "    <tr>\n",
       "      <th>2</th>\n",
       "      <td>0</td>\n",
       "      <td>5623.422610</td>\n",
       "      <td>33</td>\n",
       "      <td>1</td>\n",
       "      <td>0</td>\n",
       "      <td>M</td>\n",
       "      <td>сотрудник</td>\n",
       "      <td>0</td>\n",
       "      <td>145885</td>\n",
       "      <td>покупка жилья</td>\n",
       "    </tr>\n",
       "    <tr>\n",
       "      <th>3</th>\n",
       "      <td>3</td>\n",
       "      <td>4124.747207</td>\n",
       "      <td>32</td>\n",
       "      <td>1</td>\n",
       "      <td>0</td>\n",
       "      <td>M</td>\n",
       "      <td>сотрудник</td>\n",
       "      <td>0</td>\n",
       "      <td>267628</td>\n",
       "      <td>дополнительное образование</td>\n",
       "    </tr>\n",
       "    <tr>\n",
       "      <th>4</th>\n",
       "      <td>0</td>\n",
       "      <td>2194.220567</td>\n",
       "      <td>53</td>\n",
       "      <td>1</td>\n",
       "      <td>1</td>\n",
       "      <td>F</td>\n",
       "      <td>пенсионер</td>\n",
       "      <td>0</td>\n",
       "      <td>158616</td>\n",
       "      <td>сыграть свадьбу</td>\n",
       "    </tr>\n",
       "  </tbody>\n",
       "</table>\n",
       "</div>"
      ],
      "text/plain": [
       "   children  days_employed  dob_years  education_id  family_status_id gender  \\\n",
       "0         1    8437.673028         42             0                 0      F   \n",
       "1         1    4024.803754         36             1                 0      F   \n",
       "2         0    5623.422610         33             1                 0      M   \n",
       "3         3    4124.747207         32             1                 0      M   \n",
       "4         0    2194.220567         53             1                 1      F   \n",
       "\n",
       "  income_type  debt  total_income                     purpose  \n",
       "0   сотрудник     0        253875               покупка жилья  \n",
       "1   сотрудник     0        112080     приобретение автомобиля  \n",
       "2   сотрудник     0        145885               покупка жилья  \n",
       "3   сотрудник     0        267628  дополнительное образование  \n",
       "4   пенсионер     0        158616             сыграть свадьбу  "
      ]
     },
     "metadata": {},
     "output_type": "display_data"
    }
   ],
   "source": [
    "data = data.drop(columns=['education', 'family_status'])\n",
    "display(data.head())"
   ]
  },
  {
   "cell_type": "markdown",
   "id": "b65ddaa6",
   "metadata": {},
   "source": [
    "### Шаг 2.6. Категоризация дохода."
   ]
  },
  {
   "cell_type": "markdown",
   "id": "3c486e12",
   "metadata": {},
   "source": [
    "На основании диапазонов, указанных ниже, создается столбец total_income_category с категориями:\n",
    "- 0–30000 — 'E';\n",
    "- 30001–50000 — 'D';\n",
    "- 50001–200000 — 'C';\n",
    "- 200001–1000000 — 'B';\n",
    "- 1000001 и выше — 'A'."
   ]
  },
  {
   "cell_type": "code",
   "execution_count": 30,
   "id": "9950fb59",
   "metadata": {},
   "outputs": [],
   "source": [
    "def total_income_category(total_income):\n",
    "    if total_income <= 30000:\n",
    "        return 'E'\n",
    "    if total_income <= 50000:\n",
    "        return 'D'\n",
    "    if total_income <= 200000:\n",
    "        return 'C'\n",
    "    if total_income <= 1000000:\n",
    "        return 'B'\n",
    "    if total_income > 1000001:\n",
    "        return 'A'"
   ]
  },
  {
   "cell_type": "code",
   "execution_count": 31,
   "id": "5c5e49c5",
   "metadata": {},
   "outputs": [
    {
     "data": {
      "text/html": [
       "<div>\n",
       "<style scoped>\n",
       "    .dataframe tbody tr th:only-of-type {\n",
       "        vertical-align: middle;\n",
       "    }\n",
       "\n",
       "    .dataframe tbody tr th {\n",
       "        vertical-align: top;\n",
       "    }\n",
       "\n",
       "    .dataframe thead th {\n",
       "        text-align: right;\n",
       "    }\n",
       "</style>\n",
       "<table border=\"1\" class=\"dataframe\">\n",
       "  <thead>\n",
       "    <tr style=\"text-align: right;\">\n",
       "      <th></th>\n",
       "      <th>children</th>\n",
       "      <th>days_employed</th>\n",
       "      <th>dob_years</th>\n",
       "      <th>education_id</th>\n",
       "      <th>family_status_id</th>\n",
       "      <th>gender</th>\n",
       "      <th>income_type</th>\n",
       "      <th>debt</th>\n",
       "      <th>total_income</th>\n",
       "      <th>purpose</th>\n",
       "      <th>total_income_category</th>\n",
       "    </tr>\n",
       "  </thead>\n",
       "  <tbody>\n",
       "    <tr>\n",
       "      <th>0</th>\n",
       "      <td>1</td>\n",
       "      <td>8437.673028</td>\n",
       "      <td>42</td>\n",
       "      <td>0</td>\n",
       "      <td>0</td>\n",
       "      <td>F</td>\n",
       "      <td>сотрудник</td>\n",
       "      <td>0</td>\n",
       "      <td>253875</td>\n",
       "      <td>покупка жилья</td>\n",
       "      <td>B</td>\n",
       "    </tr>\n",
       "    <tr>\n",
       "      <th>1</th>\n",
       "      <td>1</td>\n",
       "      <td>4024.803754</td>\n",
       "      <td>36</td>\n",
       "      <td>1</td>\n",
       "      <td>0</td>\n",
       "      <td>F</td>\n",
       "      <td>сотрудник</td>\n",
       "      <td>0</td>\n",
       "      <td>112080</td>\n",
       "      <td>приобретение автомобиля</td>\n",
       "      <td>C</td>\n",
       "    </tr>\n",
       "    <tr>\n",
       "      <th>2</th>\n",
       "      <td>0</td>\n",
       "      <td>5623.422610</td>\n",
       "      <td>33</td>\n",
       "      <td>1</td>\n",
       "      <td>0</td>\n",
       "      <td>M</td>\n",
       "      <td>сотрудник</td>\n",
       "      <td>0</td>\n",
       "      <td>145885</td>\n",
       "      <td>покупка жилья</td>\n",
       "      <td>C</td>\n",
       "    </tr>\n",
       "    <tr>\n",
       "      <th>3</th>\n",
       "      <td>3</td>\n",
       "      <td>4124.747207</td>\n",
       "      <td>32</td>\n",
       "      <td>1</td>\n",
       "      <td>0</td>\n",
       "      <td>M</td>\n",
       "      <td>сотрудник</td>\n",
       "      <td>0</td>\n",
       "      <td>267628</td>\n",
       "      <td>дополнительное образование</td>\n",
       "      <td>B</td>\n",
       "    </tr>\n",
       "    <tr>\n",
       "      <th>4</th>\n",
       "      <td>0</td>\n",
       "      <td>2194.220567</td>\n",
       "      <td>53</td>\n",
       "      <td>1</td>\n",
       "      <td>1</td>\n",
       "      <td>F</td>\n",
       "      <td>пенсионер</td>\n",
       "      <td>0</td>\n",
       "      <td>158616</td>\n",
       "      <td>сыграть свадьбу</td>\n",
       "      <td>C</td>\n",
       "    </tr>\n",
       "  </tbody>\n",
       "</table>\n",
       "</div>"
      ],
      "text/plain": [
       "   children  days_employed  dob_years  education_id  family_status_id gender  \\\n",
       "0         1    8437.673028         42             0                 0      F   \n",
       "1         1    4024.803754         36             1                 0      F   \n",
       "2         0    5623.422610         33             1                 0      M   \n",
       "3         3    4124.747207         32             1                 0      M   \n",
       "4         0    2194.220567         53             1                 1      F   \n",
       "\n",
       "  income_type  debt  total_income                     purpose  \\\n",
       "0   сотрудник     0        253875               покупка жилья   \n",
       "1   сотрудник     0        112080     приобретение автомобиля   \n",
       "2   сотрудник     0        145885               покупка жилья   \n",
       "3   сотрудник     0        267628  дополнительное образование   \n",
       "4   пенсионер     0        158616             сыграть свадьбу   \n",
       "\n",
       "  total_income_category  \n",
       "0                     B  \n",
       "1                     C  \n",
       "2                     C  \n",
       "3                     B  \n",
       "4                     C  "
      ]
     },
     "metadata": {},
     "output_type": "display_data"
    }
   ],
   "source": [
    "data['total_income_category'] = data['total_income'].apply(total_income_category)\n",
    "display(data.head())"
   ]
  },
  {
   "cell_type": "markdown",
   "id": "da4f4a0b",
   "metadata": {},
   "source": [
    "### Шаг 2.7. Категоризация целей кредита."
   ]
  },
  {
   "cell_type": "markdown",
   "id": "ae100817",
   "metadata": {},
   "source": [
    "Создаем новый столбец 'purpose_category' на основании столбца purpose, в который войдут следующие категории:\n",
    "- 'операции с автомобилем',\n",
    "- 'операции с недвижимостью',\n",
    "- 'проведение свадьбы',\n",
    "- 'получение образования'."
   ]
  },
  {
   "cell_type": "code",
   "execution_count": 32,
   "id": "7e153118",
   "metadata": {
    "scrolled": true
   },
   "outputs": [
    {
     "name": "stdout",
     "output_type": "stream",
     "text": [
      "['автомобили', 'автомобиль', 'высшее образование', 'дополнительное образование', 'жилье', 'заняться высшим образованием', 'заняться образованием', 'на покупку автомобиля', 'на покупку подержанного автомобиля', 'на покупку своего автомобиля', 'на проведение свадьбы', 'недвижимость', 'образование', 'операции с жильем', 'операции с коммерческой недвижимостью', 'операции с недвижимостью', 'операции со своей недвижимостью', 'покупка жилой недвижимости', 'покупка жилья', 'покупка жилья для сдачи', 'покупка жилья для семьи', 'покупка коммерческой недвижимости', 'покупка недвижимости', 'покупка своего жилья', 'получение высшего образования', 'получение дополнительного образования', 'получение образования', 'приобретение автомобиля', 'профильное образование', 'ремонт жилью', 'свадьба', 'свой автомобиль', 'сделка с автомобилем', 'сделка с подержанным автомобилем', 'строительство жилой недвижимости', 'строительство недвижимости', 'строительство собственной недвижимости', 'сыграть свадьбу']\n"
     ]
    }
   ],
   "source": [
    "print(sorted(data['purpose'].unique()))"
   ]
  },
  {
   "cell_type": "code",
   "execution_count": 33,
   "id": "887d0b8e",
   "metadata": {},
   "outputs": [],
   "source": [
    "def purpose_category_row(row):\n",
    "    purpose = row['purpose']\n",
    "    \n",
    "    if 'авто' in purpose:\n",
    "        return 'операции с автомобилем'\n",
    "    if 'недвижим' in purpose:\n",
    "        return 'операции с недвижимостью'\n",
    "    if 'жиль' in purpose:\n",
    "        return 'операции с недвижимостью'\n",
    "    if 'свадьб' in purpose:\n",
    "        return 'проведение свадьбы'\n",
    "    if 'образован' in purpose:\n",
    "        return 'получение образования'"
   ]
  },
  {
   "cell_type": "code",
   "execution_count": 34,
   "id": "8823a135",
   "metadata": {
    "scrolled": true
   },
   "outputs": [
    {
     "data": {
      "text/html": [
       "<div>\n",
       "<style scoped>\n",
       "    .dataframe tbody tr th:only-of-type {\n",
       "        vertical-align: middle;\n",
       "    }\n",
       "\n",
       "    .dataframe tbody tr th {\n",
       "        vertical-align: top;\n",
       "    }\n",
       "\n",
       "    .dataframe thead th {\n",
       "        text-align: right;\n",
       "    }\n",
       "</style>\n",
       "<table border=\"1\" class=\"dataframe\">\n",
       "  <thead>\n",
       "    <tr style=\"text-align: right;\">\n",
       "      <th></th>\n",
       "      <th>children</th>\n",
       "      <th>days_employed</th>\n",
       "      <th>dob_years</th>\n",
       "      <th>education_id</th>\n",
       "      <th>family_status_id</th>\n",
       "      <th>gender</th>\n",
       "      <th>income_type</th>\n",
       "      <th>debt</th>\n",
       "      <th>total_income</th>\n",
       "      <th>purpose</th>\n",
       "      <th>total_income_category</th>\n",
       "      <th>purpose_category</th>\n",
       "    </tr>\n",
       "  </thead>\n",
       "  <tbody>\n",
       "    <tr>\n",
       "      <th>0</th>\n",
       "      <td>1</td>\n",
       "      <td>8437.673028</td>\n",
       "      <td>42</td>\n",
       "      <td>0</td>\n",
       "      <td>0</td>\n",
       "      <td>F</td>\n",
       "      <td>сотрудник</td>\n",
       "      <td>0</td>\n",
       "      <td>253875</td>\n",
       "      <td>покупка жилья</td>\n",
       "      <td>B</td>\n",
       "      <td>операции с недвижимостью</td>\n",
       "    </tr>\n",
       "    <tr>\n",
       "      <th>1</th>\n",
       "      <td>1</td>\n",
       "      <td>4024.803754</td>\n",
       "      <td>36</td>\n",
       "      <td>1</td>\n",
       "      <td>0</td>\n",
       "      <td>F</td>\n",
       "      <td>сотрудник</td>\n",
       "      <td>0</td>\n",
       "      <td>112080</td>\n",
       "      <td>приобретение автомобиля</td>\n",
       "      <td>C</td>\n",
       "      <td>операции с автомобилем</td>\n",
       "    </tr>\n",
       "    <tr>\n",
       "      <th>2</th>\n",
       "      <td>0</td>\n",
       "      <td>5623.422610</td>\n",
       "      <td>33</td>\n",
       "      <td>1</td>\n",
       "      <td>0</td>\n",
       "      <td>M</td>\n",
       "      <td>сотрудник</td>\n",
       "      <td>0</td>\n",
       "      <td>145885</td>\n",
       "      <td>покупка жилья</td>\n",
       "      <td>C</td>\n",
       "      <td>операции с недвижимостью</td>\n",
       "    </tr>\n",
       "    <tr>\n",
       "      <th>3</th>\n",
       "      <td>3</td>\n",
       "      <td>4124.747207</td>\n",
       "      <td>32</td>\n",
       "      <td>1</td>\n",
       "      <td>0</td>\n",
       "      <td>M</td>\n",
       "      <td>сотрудник</td>\n",
       "      <td>0</td>\n",
       "      <td>267628</td>\n",
       "      <td>дополнительное образование</td>\n",
       "      <td>B</td>\n",
       "      <td>получение образования</td>\n",
       "    </tr>\n",
       "    <tr>\n",
       "      <th>4</th>\n",
       "      <td>0</td>\n",
       "      <td>2194.220567</td>\n",
       "      <td>53</td>\n",
       "      <td>1</td>\n",
       "      <td>1</td>\n",
       "      <td>F</td>\n",
       "      <td>пенсионер</td>\n",
       "      <td>0</td>\n",
       "      <td>158616</td>\n",
       "      <td>сыграть свадьбу</td>\n",
       "      <td>C</td>\n",
       "      <td>проведение свадьбы</td>\n",
       "    </tr>\n",
       "  </tbody>\n",
       "</table>\n",
       "</div>"
      ],
      "text/plain": [
       "   children  days_employed  dob_years  education_id  family_status_id gender  \\\n",
       "0         1    8437.673028         42             0                 0      F   \n",
       "1         1    4024.803754         36             1                 0      F   \n",
       "2         0    5623.422610         33             1                 0      M   \n",
       "3         3    4124.747207         32             1                 0      M   \n",
       "4         0    2194.220567         53             1                 1      F   \n",
       "\n",
       "  income_type  debt  total_income                     purpose  \\\n",
       "0   сотрудник     0        253875               покупка жилья   \n",
       "1   сотрудник     0        112080     приобретение автомобиля   \n",
       "2   сотрудник     0        145885               покупка жилья   \n",
       "3   сотрудник     0        267628  дополнительное образование   \n",
       "4   пенсионер     0        158616             сыграть свадьбу   \n",
       "\n",
       "  total_income_category          purpose_category  \n",
       "0                     B  операции с недвижимостью  \n",
       "1                     C    операции с автомобилем  \n",
       "2                     C  операции с недвижимостью  \n",
       "3                     B     получение образования  \n",
       "4                     C        проведение свадьбы  "
      ]
     },
     "metadata": {},
     "output_type": "display_data"
    }
   ],
   "source": [
    "data['purpose_category'] = data.apply(purpose_category_row, axis=1)\n",
    "display(data.head())"
   ]
  },
  {
   "cell_type": "code",
   "execution_count": 35,
   "id": "d7d29b4e",
   "metadata": {
    "scrolled": true
   },
   "outputs": [
    {
     "data": {
      "text/plain": [
       "операции с недвижимостью    10814\n",
       "операции с автомобилем       4308\n",
       "получение образования        4014\n",
       "проведение свадьбы           2335\n",
       "Name: purpose_category, dtype: int64"
      ]
     },
     "metadata": {},
     "output_type": "display_data"
    }
   ],
   "source": [
    "display(data['purpose_category'].value_counts())"
   ]
  },
  {
   "cell_type": "markdown",
   "id": "1289b66e",
   "metadata": {},
   "source": [
    "### Ответы на вопросы."
   ]
  },
  {
   "cell_type": "markdown",
   "id": "75a5e4e7",
   "metadata": {},
   "source": [
    "##### Вопрос 1:  Есть ли зависимость между количеством детей и возвратом кредита в срок?"
   ]
  },
  {
   "cell_type": "code",
   "execution_count": 36,
   "id": "2858edf6",
   "metadata": {
    "scrolled": false
   },
   "outputs": [
    {
     "data": {
      "text/html": [
       "<div>\n",
       "<style scoped>\n",
       "    .dataframe tbody tr th:only-of-type {\n",
       "        vertical-align: middle;\n",
       "    }\n",
       "\n",
       "    .dataframe tbody tr th {\n",
       "        vertical-align: top;\n",
       "    }\n",
       "\n",
       "    .dataframe thead th {\n",
       "        text-align: right;\n",
       "    }\n",
       "</style>\n",
       "<table border=\"1\" class=\"dataframe\">\n",
       "  <thead>\n",
       "    <tr style=\"text-align: right;\">\n",
       "      <th>debt</th>\n",
       "      <th>0</th>\n",
       "      <th>1</th>\n",
       "    </tr>\n",
       "    <tr>\n",
       "      <th>children</th>\n",
       "      <th></th>\n",
       "      <th></th>\n",
       "    </tr>\n",
       "  </thead>\n",
       "  <tbody>\n",
       "    <tr>\n",
       "      <th>0</th>\n",
       "      <td>13044.0</td>\n",
       "      <td>1063.0</td>\n",
       "    </tr>\n",
       "    <tr>\n",
       "      <th>1</th>\n",
       "      <td>4411.0</td>\n",
       "      <td>445.0</td>\n",
       "    </tr>\n",
       "    <tr>\n",
       "      <th>2</th>\n",
       "      <td>1926.0</td>\n",
       "      <td>202.0</td>\n",
       "    </tr>\n",
       "    <tr>\n",
       "      <th>3</th>\n",
       "      <td>303.0</td>\n",
       "      <td>27.0</td>\n",
       "    </tr>\n",
       "    <tr>\n",
       "      <th>4</th>\n",
       "      <td>37.0</td>\n",
       "      <td>4.0</td>\n",
       "    </tr>\n",
       "    <tr>\n",
       "      <th>5</th>\n",
       "      <td>9.0</td>\n",
       "      <td>NaN</td>\n",
       "    </tr>\n",
       "  </tbody>\n",
       "</table>\n",
       "</div>"
      ],
      "text/plain": [
       "debt            0       1\n",
       "children                 \n",
       "0         13044.0  1063.0\n",
       "1          4411.0   445.0\n",
       "2          1926.0   202.0\n",
       "3           303.0    27.0\n",
       "4            37.0     4.0\n",
       "5             9.0     NaN"
      ]
     },
     "metadata": {},
     "output_type": "display_data"
    }
   ],
   "source": [
    "data_pivot_children = data.pivot_table(index=['children'], columns='debt', values='dob_years', aggfunc='count')\n",
    "display(data_pivot_children)"
   ]
  },
  {
   "cell_type": "code",
   "execution_count": 37,
   "id": "cd27639b",
   "metadata": {
    "scrolled": false
   },
   "outputs": [
    {
     "data": {
      "text/html": [
       "<div>\n",
       "<style scoped>\n",
       "    .dataframe tbody tr th:only-of-type {\n",
       "        vertical-align: middle;\n",
       "    }\n",
       "\n",
       "    .dataframe tbody tr th {\n",
       "        vertical-align: top;\n",
       "    }\n",
       "\n",
       "    .dataframe thead th {\n",
       "        text-align: right;\n",
       "    }\n",
       "</style>\n",
       "<table border=\"1\" class=\"dataframe\">\n",
       "  <thead>\n",
       "    <tr style=\"text-align: right;\">\n",
       "      <th>debt</th>\n",
       "      <th>0</th>\n",
       "      <th>1</th>\n",
       "      <th>ratio</th>\n",
       "    </tr>\n",
       "    <tr>\n",
       "      <th>children</th>\n",
       "      <th></th>\n",
       "      <th></th>\n",
       "      <th></th>\n",
       "    </tr>\n",
       "  </thead>\n",
       "  <tbody>\n",
       "    <tr>\n",
       "      <th>0</th>\n",
       "      <td>13044.0</td>\n",
       "      <td>1063.0</td>\n",
       "      <td>0.081493</td>\n",
       "    </tr>\n",
       "    <tr>\n",
       "      <th>1</th>\n",
       "      <td>4411.0</td>\n",
       "      <td>445.0</td>\n",
       "      <td>0.100884</td>\n",
       "    </tr>\n",
       "    <tr>\n",
       "      <th>2</th>\n",
       "      <td>1926.0</td>\n",
       "      <td>202.0</td>\n",
       "      <td>0.104881</td>\n",
       "    </tr>\n",
       "    <tr>\n",
       "      <th>3</th>\n",
       "      <td>303.0</td>\n",
       "      <td>27.0</td>\n",
       "      <td>0.089109</td>\n",
       "    </tr>\n",
       "    <tr>\n",
       "      <th>4</th>\n",
       "      <td>37.0</td>\n",
       "      <td>4.0</td>\n",
       "      <td>0.108108</td>\n",
       "    </tr>\n",
       "    <tr>\n",
       "      <th>5</th>\n",
       "      <td>9.0</td>\n",
       "      <td>NaN</td>\n",
       "      <td>NaN</td>\n",
       "    </tr>\n",
       "  </tbody>\n",
       "</table>\n",
       "</div>"
      ],
      "text/plain": [
       "debt            0       1     ratio\n",
       "children                           \n",
       "0         13044.0  1063.0  0.081493\n",
       "1          4411.0   445.0  0.100884\n",
       "2          1926.0   202.0  0.104881\n",
       "3           303.0    27.0  0.089109\n",
       "4            37.0     4.0  0.108108\n",
       "5             9.0     NaN       NaN"
      ]
     },
     "metadata": {},
     "output_type": "display_data"
    }
   ],
   "source": [
    "data_pivot_children['ratio'] = data_pivot_children[1]/data_pivot_children[0]\n",
    "display(data_pivot_children)"
   ]
  },
  {
   "cell_type": "code",
   "execution_count": 38,
   "id": "d031286a",
   "metadata": {},
   "outputs": [
    {
     "data": {
      "text/plain": [
       "0.07535266179910682"
      ]
     },
     "metadata": {},
     "output_type": "display_data"
    }
   ],
   "source": [
    "#v1.расчет зависимости наличия задолженности у группы без детей: \n",
    "without_children_without_debt = data_pivot_children.loc[0, 0]\n",
    "without_children_with_debt = data_pivot_children.loc[0, 1]\n",
    "display(without_children_with_debt/(without_children_with_debt+without_children_without_debt))"
   ]
  },
  {
   "cell_type": "code",
   "execution_count": 39,
   "id": "ba1bd582",
   "metadata": {},
   "outputs": [
    {
     "data": {
      "text/plain": [
       "0.09163920922570017"
      ]
     },
     "metadata": {},
     "output_type": "display_data"
    }
   ],
   "source": [
    "#v1.расчет зависимости наличия задолженности у группы с 1 ребенком:\n",
    "one_children_without_debt = data_pivot_children.loc[1, 0]\n",
    "one_children_with_debt = data_pivot_children.loc[1, 1]\n",
    "display(one_children_with_debt/(one_children_with_debt+one_children_without_debt))"
   ]
  },
  {
   "cell_type": "code",
   "execution_count": 40,
   "id": "a8e235b8",
   "metadata": {},
   "outputs": [
    {
     "data": {
      "text/plain": [
       "0.09492481203007519"
      ]
     },
     "metadata": {},
     "output_type": "display_data"
    }
   ],
   "source": [
    "#v1.расчет зависимости наличия задолженности у группы с 2 детьми:\n",
    "two_children_without_debt = data_pivot_children.loc[2, 0]\n",
    "two_children_with_debt = data_pivot_children.loc[2, 1]\n",
    "display(two_children_with_debt/(two_children_with_debt+two_children_without_debt))"
   ]
  },
  {
   "cell_type": "code",
   "execution_count": 41,
   "id": "d8462559",
   "metadata": {},
   "outputs": [
    {
     "data": {
      "text/plain": [
       "0.08181818181818182"
      ]
     },
     "metadata": {},
     "output_type": "display_data"
    }
   ],
   "source": [
    "#v1.расчет зависимости наличия задолженности у группы с 3 детьми:\n",
    "three_children_without_debt = data_pivot_children.loc[3, 0]\n",
    "three_children_with_debt = data_pivot_children.loc[3, 1]\n",
    "display(three_children_with_debt/(three_children_with_debt+three_children_without_debt))"
   ]
  },
  {
   "cell_type": "code",
   "execution_count": 42,
   "id": "50333038",
   "metadata": {},
   "outputs": [
    {
     "data": {
      "text/plain": [
       "0.0975609756097561"
      ]
     },
     "metadata": {},
     "output_type": "display_data"
    }
   ],
   "source": [
    "#v1.расчет зависимости наличия задолженности у группы с 4 детьми:\n",
    "four_children_without_debt = data_pivot_children.loc[4, 0]\n",
    "four_children_with_debt = data_pivot_children.loc[4, 1]\n",
    "display(four_children_with_debt/(four_children_with_debt+four_children_without_debt))"
   ]
  },
  {
   "cell_type": "markdown",
   "id": "a3e63897",
   "metadata": {},
   "source": [
    "##### Вывод 1: Согласно результату самая высокая доля по наличиям задолженности по возвратам кредита по группам количества детей у семей с 4,2,1 детьми - 9%. Но общий разброс не высокий, всего 2%, следовательно можно сделать вывод, что зависимость детей в семье не влияет на наличие задолженнсоти по кредитам. Семьи с 5 детьми не имели задолженности по возвратам кредита, но количество заявок с 5 детьми составляет менее 1% от общего количества заявок, не является репрезентативной группой."
   ]
  },
  {
   "cell_type": "markdown",
   "id": "20457570",
   "metadata": {},
   "source": [
    "##### Вопрос 2:  Есть ли зависимость между семейным положением и возвратом кредита в срок?"
   ]
  },
  {
   "cell_type": "code",
   "execution_count": 43,
   "id": "98ff176d",
   "metadata": {
    "scrolled": false
   },
   "outputs": [
    {
     "data": {
      "text/html": [
       "<div>\n",
       "<style scoped>\n",
       "    .dataframe tbody tr th:only-of-type {\n",
       "        vertical-align: middle;\n",
       "    }\n",
       "\n",
       "    .dataframe tbody tr th {\n",
       "        vertical-align: top;\n",
       "    }\n",
       "\n",
       "    .dataframe thead th {\n",
       "        text-align: right;\n",
       "    }\n",
       "</style>\n",
       "<table border=\"1\" class=\"dataframe\">\n",
       "  <thead>\n",
       "    <tr style=\"text-align: right;\">\n",
       "      <th>debt</th>\n",
       "      <th>0</th>\n",
       "      <th>1</th>\n",
       "    </tr>\n",
       "    <tr>\n",
       "      <th>family_status_id</th>\n",
       "      <th></th>\n",
       "      <th></th>\n",
       "    </tr>\n",
       "  </thead>\n",
       "  <tbody>\n",
       "    <tr>\n",
       "      <th>0</th>\n",
       "      <td>11413</td>\n",
       "      <td>931</td>\n",
       "    </tr>\n",
       "    <tr>\n",
       "      <th>1</th>\n",
       "      <td>3775</td>\n",
       "      <td>388</td>\n",
       "    </tr>\n",
       "    <tr>\n",
       "      <th>2</th>\n",
       "      <td>896</td>\n",
       "      <td>63</td>\n",
       "    </tr>\n",
       "    <tr>\n",
       "      <th>3</th>\n",
       "      <td>1110</td>\n",
       "      <td>85</td>\n",
       "    </tr>\n",
       "    <tr>\n",
       "      <th>4</th>\n",
       "      <td>2536</td>\n",
       "      <td>274</td>\n",
       "    </tr>\n",
       "  </tbody>\n",
       "</table>\n",
       "</div>"
      ],
      "text/plain": [
       "debt                  0    1\n",
       "family_status_id            \n",
       "0                 11413  931\n",
       "1                  3775  388\n",
       "2                   896   63\n",
       "3                  1110   85\n",
       "4                  2536  274"
      ]
     },
     "metadata": {},
     "output_type": "display_data"
    }
   ],
   "source": [
    "data_pivot_family = data.pivot_table(index=['family_status_id'], columns='debt', values='dob_years', aggfunc='count')\n",
    "display(data_pivot_family)\n",
    "\n",
    "# женат / замужем 0\n",
    "# гражданский брак 1\n",
    "# вдовец / вдова 2\n",
    "# в разводе 3\n",
    "# Не женат / не замужем 4"
   ]
  },
  {
   "cell_type": "code",
   "execution_count": 44,
   "id": "00d40d0f",
   "metadata": {
    "scrolled": false
   },
   "outputs": [
    {
     "data": {
      "text/html": [
       "<div>\n",
       "<style scoped>\n",
       "    .dataframe tbody tr th:only-of-type {\n",
       "        vertical-align: middle;\n",
       "    }\n",
       "\n",
       "    .dataframe tbody tr th {\n",
       "        vertical-align: top;\n",
       "    }\n",
       "\n",
       "    .dataframe thead th {\n",
       "        text-align: right;\n",
       "    }\n",
       "</style>\n",
       "<table border=\"1\" class=\"dataframe\">\n",
       "  <thead>\n",
       "    <tr style=\"text-align: right;\">\n",
       "      <th>debt</th>\n",
       "      <th>0</th>\n",
       "      <th>1</th>\n",
       "      <th>ratio</th>\n",
       "    </tr>\n",
       "    <tr>\n",
       "      <th>family_status_id</th>\n",
       "      <th></th>\n",
       "      <th></th>\n",
       "      <th></th>\n",
       "    </tr>\n",
       "  </thead>\n",
       "  <tbody>\n",
       "    <tr>\n",
       "      <th>0</th>\n",
       "      <td>11413</td>\n",
       "      <td>931</td>\n",
       "      <td>0.081574</td>\n",
       "    </tr>\n",
       "    <tr>\n",
       "      <th>1</th>\n",
       "      <td>3775</td>\n",
       "      <td>388</td>\n",
       "      <td>0.102781</td>\n",
       "    </tr>\n",
       "    <tr>\n",
       "      <th>2</th>\n",
       "      <td>896</td>\n",
       "      <td>63</td>\n",
       "      <td>0.070312</td>\n",
       "    </tr>\n",
       "    <tr>\n",
       "      <th>3</th>\n",
       "      <td>1110</td>\n",
       "      <td>85</td>\n",
       "      <td>0.076577</td>\n",
       "    </tr>\n",
       "    <tr>\n",
       "      <th>4</th>\n",
       "      <td>2536</td>\n",
       "      <td>274</td>\n",
       "      <td>0.108044</td>\n",
       "    </tr>\n",
       "  </tbody>\n",
       "</table>\n",
       "</div>"
      ],
      "text/plain": [
       "debt                  0    1     ratio\n",
       "family_status_id                      \n",
       "0                 11413  931  0.081574\n",
       "1                  3775  388  0.102781\n",
       "2                   896   63  0.070312\n",
       "3                  1110   85  0.076577\n",
       "4                  2536  274  0.108044"
      ]
     },
     "metadata": {},
     "output_type": "display_data"
    }
   ],
   "source": [
    "data_pivot_family['ratio'] = data_pivot_family[1]/data_pivot_family[0]\n",
    "display(data_pivot_family)"
   ]
  },
  {
   "cell_type": "code",
   "execution_count": 45,
   "id": "ae6353c2",
   "metadata": {},
   "outputs": [
    {
     "data": {
      "text/plain": [
       "0.07542125729099157"
      ]
     },
     "metadata": {},
     "output_type": "display_data"
    }
   ],
   "source": [
    "#v1.расчет зависимости наличия задолженности у группы женат/замужем (0):\n",
    "zero_without_debt = data_pivot_family.loc[0, 0]\n",
    "zero_with_debt = data_pivot_family.loc[0, 1]\n",
    "display(zero_with_debt/(zero_with_debt+zero_without_debt))"
   ]
  },
  {
   "cell_type": "code",
   "execution_count": 46,
   "id": "3f1a1a93",
   "metadata": {},
   "outputs": [
    {
     "data": {
      "text/plain": [
       "0.09320201777564256"
      ]
     },
     "metadata": {},
     "output_type": "display_data"
    }
   ],
   "source": [
    "#v1.расчет зависимости наличия задолженности у группы гражданский брак (1):\n",
    "first_without_debt = data_pivot_family.loc[1, 0]\n",
    "first_with_debt = data_pivot_family.loc[1, 1]\n",
    "display(first_with_debt/(first_with_debt+first_without_debt))"
   ]
  },
  {
   "cell_type": "code",
   "execution_count": 47,
   "id": "b74d9de8",
   "metadata": {},
   "outputs": [
    {
     "data": {
      "text/plain": [
       "0.06569343065693431"
      ]
     },
     "metadata": {},
     "output_type": "display_data"
    }
   ],
   "source": [
    "#v1.расчет зависимости наличия задолженности у группы вдовец / вдова (2):\n",
    "second_without_debt = data_pivot_family.loc[2, 0]\n",
    "second_with_debt = data_pivot_family.loc[2, 1]\n",
    "display(second_with_debt/(second_with_debt+second_without_debt))"
   ]
  },
  {
   "cell_type": "code",
   "execution_count": 48,
   "id": "854926cb",
   "metadata": {},
   "outputs": [
    {
     "data": {
      "text/plain": [
       "0.07112970711297072"
      ]
     },
     "metadata": {},
     "output_type": "display_data"
    }
   ],
   "source": [
    "#v1.расчет зависимости наличия задолженности у группы в разводе (3):\n",
    "third_without_debt = data_pivot_family.loc[3, 0]\n",
    "third_with_debt = data_pivot_family.loc[3, 1]\n",
    "display(third_with_debt/(third_with_debt+third_without_debt))"
   ]
  },
  {
   "cell_type": "code",
   "execution_count": 49,
   "id": "9812a392",
   "metadata": {},
   "outputs": [
    {
     "data": {
      "text/plain": [
       "0.09750889679715302"
      ]
     },
     "metadata": {},
     "output_type": "display_data"
    }
   ],
   "source": [
    "#v1.расчет зависимости наличия задолженности у группы Не женат / не замужем (4):\n",
    "fourth_without_debt = data_pivot_family.loc[4, 0]\n",
    "fourth_with_debt = data_pivot_family.loc[4, 1]\n",
    "display(fourth_with_debt/(fourth_with_debt+fourth_without_debt))"
   ]
  },
  {
   "cell_type": "markdown",
   "id": "dc269e56",
   "metadata": {},
   "source": [
    "##### Вывод 2: Согласно результату самая высокая доля наличия задолженности по возвратам кредита по группам семейного статуса у семей гражданского брака и не женатых/не замужних. Также доля в каждой группе не превышает 3%, что говорит о том, что влияние семейного статуса на наличие задолженности по кредитам отсутствует или минимальна."
   ]
  },
  {
   "cell_type": "markdown",
   "id": "26c04dff",
   "metadata": {},
   "source": [
    "##### Вопрос 3: Есть ли зависимость между уровнем дохода и возвратом кредита в срок?"
   ]
  },
  {
   "cell_type": "code",
   "execution_count": 50,
   "id": "404a740b",
   "metadata": {},
   "outputs": [
    {
     "data": {
      "text/html": [
       "<div>\n",
       "<style scoped>\n",
       "    .dataframe tbody tr th:only-of-type {\n",
       "        vertical-align: middle;\n",
       "    }\n",
       "\n",
       "    .dataframe tbody tr th {\n",
       "        vertical-align: top;\n",
       "    }\n",
       "\n",
       "    .dataframe thead th {\n",
       "        text-align: right;\n",
       "    }\n",
       "</style>\n",
       "<table border=\"1\" class=\"dataframe\">\n",
       "  <thead>\n",
       "    <tr style=\"text-align: right;\">\n",
       "      <th>debt</th>\n",
       "      <th>0</th>\n",
       "      <th>1</th>\n",
       "    </tr>\n",
       "    <tr>\n",
       "      <th>total_income_category</th>\n",
       "      <th></th>\n",
       "      <th></th>\n",
       "    </tr>\n",
       "  </thead>\n",
       "  <tbody>\n",
       "    <tr>\n",
       "      <th>A</th>\n",
       "      <td>23</td>\n",
       "      <td>2</td>\n",
       "    </tr>\n",
       "    <tr>\n",
       "      <th>B</th>\n",
       "      <td>4685</td>\n",
       "      <td>356</td>\n",
       "    </tr>\n",
       "    <tr>\n",
       "      <th>C</th>\n",
       "      <td>14673</td>\n",
       "      <td>1360</td>\n",
       "    </tr>\n",
       "    <tr>\n",
       "      <th>D</th>\n",
       "      <td>329</td>\n",
       "      <td>21</td>\n",
       "    </tr>\n",
       "    <tr>\n",
       "      <th>E</th>\n",
       "      <td>20</td>\n",
       "      <td>2</td>\n",
       "    </tr>\n",
       "  </tbody>\n",
       "</table>\n",
       "</div>"
      ],
      "text/plain": [
       "debt                       0     1\n",
       "total_income_category             \n",
       "A                         23     2\n",
       "B                       4685   356\n",
       "C                      14673  1360\n",
       "D                        329    21\n",
       "E                         20     2"
      ]
     },
     "metadata": {},
     "output_type": "display_data"
    }
   ],
   "source": [
    "data_pivot_income = data.pivot_table(index=['total_income_category'], columns='debt', values='dob_years', aggfunc='count')\n",
    "display(data_pivot_income)\n",
    "\n",
    "#0–30.000 — 'E';\n",
    "#30.001–50.000 — 'D';\n",
    "#50.001–200.000 — 'C';\n",
    "#200.001–1.000.000 — 'B';\n",
    "#1.000.001 и выше — 'A'."
   ]
  },
  {
   "cell_type": "code",
   "execution_count": 51,
   "id": "271481f5",
   "metadata": {
    "scrolled": true
   },
   "outputs": [
    {
     "data": {
      "text/html": [
       "<div>\n",
       "<style scoped>\n",
       "    .dataframe tbody tr th:only-of-type {\n",
       "        vertical-align: middle;\n",
       "    }\n",
       "\n",
       "    .dataframe tbody tr th {\n",
       "        vertical-align: top;\n",
       "    }\n",
       "\n",
       "    .dataframe thead th {\n",
       "        text-align: right;\n",
       "    }\n",
       "</style>\n",
       "<table border=\"1\" class=\"dataframe\">\n",
       "  <thead>\n",
       "    <tr style=\"text-align: right;\">\n",
       "      <th>debt</th>\n",
       "      <th>0</th>\n",
       "      <th>1</th>\n",
       "      <th>ratio</th>\n",
       "    </tr>\n",
       "    <tr>\n",
       "      <th>total_income_category</th>\n",
       "      <th></th>\n",
       "      <th></th>\n",
       "      <th></th>\n",
       "    </tr>\n",
       "  </thead>\n",
       "  <tbody>\n",
       "    <tr>\n",
       "      <th>A</th>\n",
       "      <td>23</td>\n",
       "      <td>2</td>\n",
       "      <td>0.086957</td>\n",
       "    </tr>\n",
       "    <tr>\n",
       "      <th>B</th>\n",
       "      <td>4685</td>\n",
       "      <td>356</td>\n",
       "      <td>0.075987</td>\n",
       "    </tr>\n",
       "    <tr>\n",
       "      <th>C</th>\n",
       "      <td>14673</td>\n",
       "      <td>1360</td>\n",
       "      <td>0.092687</td>\n",
       "    </tr>\n",
       "    <tr>\n",
       "      <th>D</th>\n",
       "      <td>329</td>\n",
       "      <td>21</td>\n",
       "      <td>0.063830</td>\n",
       "    </tr>\n",
       "    <tr>\n",
       "      <th>E</th>\n",
       "      <td>20</td>\n",
       "      <td>2</td>\n",
       "      <td>0.100000</td>\n",
       "    </tr>\n",
       "  </tbody>\n",
       "</table>\n",
       "</div>"
      ],
      "text/plain": [
       "debt                       0     1     ratio\n",
       "total_income_category                       \n",
       "A                         23     2  0.086957\n",
       "B                       4685   356  0.075987\n",
       "C                      14673  1360  0.092687\n",
       "D                        329    21  0.063830\n",
       "E                         20     2  0.100000"
      ]
     },
     "metadata": {},
     "output_type": "display_data"
    }
   ],
   "source": [
    "data_pivot_income['ratio'] = data_pivot_income[1]/data_pivot_income[0]\n",
    "display(data_pivot_income)"
   ]
  },
  {
   "cell_type": "code",
   "execution_count": 52,
   "id": "8b65c6af",
   "metadata": {},
   "outputs": [
    {
     "data": {
      "text/plain": [
       "0.08"
      ]
     },
     "metadata": {},
     "output_type": "display_data"
    }
   ],
   "source": [
    "#v1.расчет зависимости наличия задолженности у группы А:\n",
    "А_without_debt = data_pivot_income.loc['A', 0]\n",
    "А_with_debt = data_pivot_income.loc['A', 1]\n",
    "display(А_with_debt/(А_with_debt+А_without_debt))"
   ]
  },
  {
   "cell_type": "code",
   "execution_count": 53,
   "id": "2baa0a5c",
   "metadata": {},
   "outputs": [
    {
     "data": {
      "text/plain": [
       "0.07062090854989089"
      ]
     },
     "metadata": {},
     "output_type": "display_data"
    }
   ],
   "source": [
    "#v1.расчет зависимости наличия задолженности у группы B:\n",
    "B_without_debt = data_pivot_income.loc['B', 0]\n",
    "B_with_debt = data_pivot_income.loc['B', 1]\n",
    "display(B_with_debt/(B_with_debt+B_without_debt))"
   ]
  },
  {
   "cell_type": "code",
   "execution_count": 54,
   "id": "22e19dac",
   "metadata": {},
   "outputs": [
    {
     "data": {
      "text/plain": [
       "0.08482504833780329"
      ]
     },
     "metadata": {},
     "output_type": "display_data"
    }
   ],
   "source": [
    "#v1.расчет зависимости наличия задолженности у группы C:\n",
    "C_without_debt = data_pivot_income.loc['C', 0]\n",
    "C_with_debt = data_pivot_income.loc['C', 1]\n",
    "display(C_with_debt/(C_with_debt+C_without_debt))"
   ]
  },
  {
   "cell_type": "code",
   "execution_count": 55,
   "id": "c24590ea",
   "metadata": {},
   "outputs": [
    {
     "data": {
      "text/plain": [
       "0.06"
      ]
     },
     "metadata": {},
     "output_type": "display_data"
    }
   ],
   "source": [
    "#v1.расчет зависимости наличия задолженности у группы D:\n",
    "D_without_debt = data_pivot_income.loc['D', 0]\n",
    "D_with_debt = data_pivot_income.loc['D', 1]\n",
    "display(D_with_debt/(D_with_debt+D_without_debt))"
   ]
  },
  {
   "cell_type": "code",
   "execution_count": 56,
   "id": "52caad3b",
   "metadata": {},
   "outputs": [
    {
     "data": {
      "text/plain": [
       "0.09090909090909091"
      ]
     },
     "metadata": {},
     "output_type": "display_data"
    }
   ],
   "source": [
    "#v1.расчет зависимости наличия задолженности у группы E:\n",
    "E_without_debt = data_pivot_income.loc['E', 0]\n",
    "E_with_debt = data_pivot_income.loc['E', 1]\n",
    "display(E_with_debt/(E_with_debt+E_without_debt))"
   ]
  },
  {
   "cell_type": "markdown",
   "id": "1aed45b7",
   "metadata": {},
   "source": [
    "##### Вывод 3: Согласно результату самая высокая доля наличия задолженности по возвратам кредита по группам дохода у групп Е и С. Самая многочисленная группа С, доля наличием задолженности по данной группе 8%, самая добросовестная группа с низкой долей наличия задолженности является группа D.  "
   ]
  },
  {
   "cell_type": "markdown",
   "id": "a6510ea0",
   "metadata": {},
   "source": [
    "##### Вопрос 4: Как разные цели кредита влияют на его возврат в срок?"
   ]
  },
  {
   "cell_type": "code",
   "execution_count": 57,
   "id": "f1775475",
   "metadata": {
    "scrolled": true
   },
   "outputs": [
    {
     "data": {
      "text/html": [
       "<div>\n",
       "<style scoped>\n",
       "    .dataframe tbody tr th:only-of-type {\n",
       "        vertical-align: middle;\n",
       "    }\n",
       "\n",
       "    .dataframe tbody tr th {\n",
       "        vertical-align: top;\n",
       "    }\n",
       "\n",
       "    .dataframe thead th {\n",
       "        text-align: right;\n",
       "    }\n",
       "</style>\n",
       "<table border=\"1\" class=\"dataframe\">\n",
       "  <thead>\n",
       "    <tr style=\"text-align: right;\">\n",
       "      <th>debt</th>\n",
       "      <th>0</th>\n",
       "      <th>1</th>\n",
       "    </tr>\n",
       "    <tr>\n",
       "      <th>purpose_category</th>\n",
       "      <th></th>\n",
       "      <th></th>\n",
       "    </tr>\n",
       "  </thead>\n",
       "  <tbody>\n",
       "    <tr>\n",
       "      <th>операции с автомобилем</th>\n",
       "      <td>3905</td>\n",
       "      <td>403</td>\n",
       "    </tr>\n",
       "    <tr>\n",
       "      <th>операции с недвижимостью</th>\n",
       "      <td>10032</td>\n",
       "      <td>782</td>\n",
       "    </tr>\n",
       "    <tr>\n",
       "      <th>получение образования</th>\n",
       "      <td>3644</td>\n",
       "      <td>370</td>\n",
       "    </tr>\n",
       "    <tr>\n",
       "      <th>проведение свадьбы</th>\n",
       "      <td>2149</td>\n",
       "      <td>186</td>\n",
       "    </tr>\n",
       "  </tbody>\n",
       "</table>\n",
       "</div>"
      ],
      "text/plain": [
       "debt                          0    1\n",
       "purpose_category                    \n",
       "операции с автомобилем     3905  403\n",
       "операции с недвижимостью  10032  782\n",
       "получение образования      3644  370\n",
       "проведение свадьбы         2149  186"
      ]
     },
     "metadata": {},
     "output_type": "display_data"
    }
   ],
   "source": [
    "data_pivot_category = data.pivot_table(index=['purpose_category'], columns='debt', values='dob_years', aggfunc='count')\n",
    "display(data_pivot_category)"
   ]
  },
  {
   "cell_type": "code",
   "execution_count": 58,
   "id": "bed47a21",
   "metadata": {
    "scrolled": true
   },
   "outputs": [
    {
     "data": {
      "text/html": [
       "<div>\n",
       "<style scoped>\n",
       "    .dataframe tbody tr th:only-of-type {\n",
       "        vertical-align: middle;\n",
       "    }\n",
       "\n",
       "    .dataframe tbody tr th {\n",
       "        vertical-align: top;\n",
       "    }\n",
       "\n",
       "    .dataframe thead th {\n",
       "        text-align: right;\n",
       "    }\n",
       "</style>\n",
       "<table border=\"1\" class=\"dataframe\">\n",
       "  <thead>\n",
       "    <tr style=\"text-align: right;\">\n",
       "      <th>debt</th>\n",
       "      <th>0</th>\n",
       "      <th>1</th>\n",
       "      <th>ratio</th>\n",
       "    </tr>\n",
       "    <tr>\n",
       "      <th>purpose_category</th>\n",
       "      <th></th>\n",
       "      <th></th>\n",
       "      <th></th>\n",
       "    </tr>\n",
       "  </thead>\n",
       "  <tbody>\n",
       "    <tr>\n",
       "      <th>операции с автомобилем</th>\n",
       "      <td>3905</td>\n",
       "      <td>403</td>\n",
       "      <td>0.103201</td>\n",
       "    </tr>\n",
       "    <tr>\n",
       "      <th>операции с недвижимостью</th>\n",
       "      <td>10032</td>\n",
       "      <td>782</td>\n",
       "      <td>0.077951</td>\n",
       "    </tr>\n",
       "    <tr>\n",
       "      <th>получение образования</th>\n",
       "      <td>3644</td>\n",
       "      <td>370</td>\n",
       "      <td>0.101537</td>\n",
       "    </tr>\n",
       "    <tr>\n",
       "      <th>проведение свадьбы</th>\n",
       "      <td>2149</td>\n",
       "      <td>186</td>\n",
       "      <td>0.086552</td>\n",
       "    </tr>\n",
       "  </tbody>\n",
       "</table>\n",
       "</div>"
      ],
      "text/plain": [
       "debt                          0    1     ratio\n",
       "purpose_category                              \n",
       "операции с автомобилем     3905  403  0.103201\n",
       "операции с недвижимостью  10032  782  0.077951\n",
       "получение образования      3644  370  0.101537\n",
       "проведение свадьбы         2149  186  0.086552"
      ]
     },
     "metadata": {},
     "output_type": "display_data"
    }
   ],
   "source": [
    "data_pivot_category['ratio'] = data_pivot_category[1]/data_pivot_category[0]\n",
    "display(data_pivot_category)"
   ]
  },
  {
   "cell_type": "code",
   "execution_count": 59,
   "id": "23fbb126",
   "metadata": {},
   "outputs": [
    {
     "data": {
      "text/plain": [
       "0.09354688950789229"
      ]
     },
     "metadata": {},
     "output_type": "display_data"
    }
   ],
   "source": [
    "#v1.расчет зависимости наличия задолженности у группы операции с автомобилем:\n",
    "auto_without_debt = data_pivot_category.loc['операции с автомобилем', 0]\n",
    "auto_with_debt = data_pivot_category.loc['операции с автомобилем', 1]\n",
    "display(auto_with_debt/(auto_with_debt+auto_without_debt))"
   ]
  },
  {
   "cell_type": "code",
   "execution_count": 60,
   "id": "e0d361cf",
   "metadata": {},
   "outputs": [
    {
     "data": {
      "text/plain": [
       "0.0723136674680969"
      ]
     },
     "metadata": {},
     "output_type": "display_data"
    }
   ],
   "source": [
    "#v1.расчет зависимости наличия задолженности у группы операции с недвижимостью:\n",
    "estate_without_debt = data_pivot_category.loc['операции с недвижимостью', 0]\n",
    "estate_with_debt = data_pivot_category.loc['операции с недвижимостью', 1]\n",
    "display(estate_with_debt/(estate_with_debt+estate_without_debt))"
   ]
  },
  {
   "cell_type": "code",
   "execution_count": 61,
   "id": "1a040fa0",
   "metadata": {},
   "outputs": [
    {
     "data": {
      "text/plain": [
       "0.09217737917289487"
      ]
     },
     "metadata": {},
     "output_type": "display_data"
    }
   ],
   "source": [
    "#v1.расчет зависимости наличия задолженности у группы получение образования:\n",
    "education_without_debt = data_pivot_category.loc['получение образования', 0]\n",
    "education_with_debt = data_pivot_category.loc['получение образования', 1]\n",
    "display(education_with_debt/(education_with_debt+education_without_debt))"
   ]
  },
  {
   "cell_type": "code",
   "execution_count": 62,
   "id": "83223383",
   "metadata": {},
   "outputs": [
    {
     "data": {
      "text/plain": [
       "0.07965738758029979"
      ]
     },
     "metadata": {},
     "output_type": "display_data"
    }
   ],
   "source": [
    "#v1.расчет зависимости наличия задолженности у группы проведение свадьбы:\n",
    "wedding_without_debt = data_pivot_category.loc['проведение свадьбы', 0]\n",
    "wedding_with_debt = data_pivot_category.loc['проведение свадьбы', 1]\n",
    "display(wedding_with_debt/(wedding_with_debt+wedding_without_debt))"
   ]
  },
  {
   "cell_type": "markdown",
   "id": "c67de441",
   "metadata": {},
   "source": [
    "##### Вывод 4: Самая добросовестная группа по целевым категориям кредита является группа по операциям с недвижимостью, доля в 9% по наличиям невозвратов кредитов группы по операциям с автомобилями и получением образования. Разброс по долям невысокий."
   ]
  },
  {
   "cell_type": "code",
   "execution_count": 63,
   "id": "a85a4695",
   "metadata": {},
   "outputs": [
    {
     "data": {
      "text/html": [
       "<div>\n",
       "<style scoped>\n",
       "    .dataframe tbody tr th:only-of-type {\n",
       "        vertical-align: middle;\n",
       "    }\n",
       "\n",
       "    .dataframe tbody tr th {\n",
       "        vertical-align: top;\n",
       "    }\n",
       "\n",
       "    .dataframe thead tr th {\n",
       "        text-align: left;\n",
       "    }\n",
       "\n",
       "    .dataframe thead tr:last-of-type th {\n",
       "        text-align: right;\n",
       "    }\n",
       "</style>\n",
       "<table border=\"1\" class=\"dataframe\">\n",
       "  <thead>\n",
       "    <tr>\n",
       "      <th></th>\n",
       "      <th>count</th>\n",
       "      <th>sum</th>\n",
       "      <th>mean</th>\n",
       "    </tr>\n",
       "    <tr>\n",
       "      <th></th>\n",
       "      <th>debt</th>\n",
       "      <th>debt</th>\n",
       "      <th>debt</th>\n",
       "    </tr>\n",
       "    <tr>\n",
       "      <th>children</th>\n",
       "      <th></th>\n",
       "      <th></th>\n",
       "      <th></th>\n",
       "    </tr>\n",
       "  </thead>\n",
       "  <tbody>\n",
       "    <tr>\n",
       "      <th>0</th>\n",
       "      <td>14107</td>\n",
       "      <td>1063</td>\n",
       "      <td>0.075353</td>\n",
       "    </tr>\n",
       "    <tr>\n",
       "      <th>1</th>\n",
       "      <td>4856</td>\n",
       "      <td>445</td>\n",
       "      <td>0.091639</td>\n",
       "    </tr>\n",
       "    <tr>\n",
       "      <th>2</th>\n",
       "      <td>2128</td>\n",
       "      <td>202</td>\n",
       "      <td>0.094925</td>\n",
       "    </tr>\n",
       "    <tr>\n",
       "      <th>3</th>\n",
       "      <td>330</td>\n",
       "      <td>27</td>\n",
       "      <td>0.081818</td>\n",
       "    </tr>\n",
       "    <tr>\n",
       "      <th>4</th>\n",
       "      <td>41</td>\n",
       "      <td>4</td>\n",
       "      <td>0.097561</td>\n",
       "    </tr>\n",
       "    <tr>\n",
       "      <th>5</th>\n",
       "      <td>9</td>\n",
       "      <td>0</td>\n",
       "      <td>0.000000</td>\n",
       "    </tr>\n",
       "  </tbody>\n",
       "</table>\n",
       "</div>"
      ],
      "text/plain": [
       "          count   sum      mean\n",
       "           debt  debt      debt\n",
       "children                       \n",
       "0         14107  1063  0.075353\n",
       "1          4856   445  0.091639\n",
       "2          2128   202  0.094925\n",
       "3           330    27  0.081818\n",
       "4            41     4  0.097561\n",
       "5             9     0  0.000000"
      ]
     },
     "execution_count": 63,
     "metadata": {},
     "output_type": "execute_result"
    }
   ],
   "source": [
    "#код ревьюера\n",
    "data.pivot_table(index=['children'], values='debt', aggfunc=['count', 'sum', 'mean'])"
   ]
  },
  {
   "cell_type": "code",
   "execution_count": 64,
   "id": "0e1ce959",
   "metadata": {},
   "outputs": [
    {
     "data": {
      "text/html": [
       "<div>\n",
       "<style scoped>\n",
       "    .dataframe tbody tr th:only-of-type {\n",
       "        vertical-align: middle;\n",
       "    }\n",
       "\n",
       "    .dataframe tbody tr th {\n",
       "        vertical-align: top;\n",
       "    }\n",
       "\n",
       "    .dataframe thead th {\n",
       "        text-align: right;\n",
       "    }\n",
       "</style>\n",
       "<table border=\"1\" class=\"dataframe\">\n",
       "  <thead>\n",
       "    <tr style=\"text-align: right;\">\n",
       "      <th></th>\n",
       "      <th>debt</th>\n",
       "    </tr>\n",
       "    <tr>\n",
       "      <th>children</th>\n",
       "      <th></th>\n",
       "    </tr>\n",
       "  </thead>\n",
       "  <tbody>\n",
       "    <tr>\n",
       "      <th>0</th>\n",
       "      <td>0.075353</td>\n",
       "    </tr>\n",
       "    <tr>\n",
       "      <th>1</th>\n",
       "      <td>0.091639</td>\n",
       "    </tr>\n",
       "    <tr>\n",
       "      <th>2</th>\n",
       "      <td>0.094925</td>\n",
       "    </tr>\n",
       "    <tr>\n",
       "      <th>3</th>\n",
       "      <td>0.081818</td>\n",
       "    </tr>\n",
       "    <tr>\n",
       "      <th>4</th>\n",
       "      <td>0.097561</td>\n",
       "    </tr>\n",
       "    <tr>\n",
       "      <th>5</th>\n",
       "      <td>0.000000</td>\n",
       "    </tr>\n",
       "  </tbody>\n",
       "</table>\n",
       "</div>"
      ],
      "text/plain": [
       "              debt\n",
       "children          \n",
       "0         0.075353\n",
       "1         0.091639\n",
       "2         0.094925\n",
       "3         0.081818\n",
       "4         0.097561\n",
       "5         0.000000"
      ]
     },
     "execution_count": 64,
     "metadata": {},
     "output_type": "execute_result"
    }
   ],
   "source": [
    "#код ревьюера\n",
    "children_pivot = data.pivot_table(index=['children'], values='debt', aggfunc=['sum', 'count'])\n",
    "children_pivot = children_pivot['sum'] / children_pivot['count']\n",
    "children_pivot"
   ]
  },
  {
   "cell_type": "markdown",
   "id": "17755e79",
   "metadata": {},
   "source": [
    "## Общий вывод:"
   ]
  },
  {
   "cell_type": "markdown",
   "id": "2b95a77a",
   "metadata": {},
   "source": [
    "### Общий вывод: согласно полученным результатам, влияние на наличие задолженности по кредитам, по выделенным группам в анализе, минимальное, в отношении доли наличия или отсутствия задолженности.\n",
    "### Для более реалистичного анализа необходимо получить данные в средних суммах кредитов по группам, чтобы определить долю в суммарном отношении недобросовестных заемщиков, например, по операциям с недвижимостью суммарная доля невозмещаемых кредитов должна быть выше суммарной доли группы на проведение свадьбы, что может послужить более достоверным выводом о рисках для выдачи кредитов по определенным группам и целям кредита.    "
   ]
  }
 ],
 "metadata": {
  "ExecuteTimeLog": [
   {
    "duration": 870,
    "start_time": "2022-05-19T19:40:52.554Z"
   },
   {
    "duration": 94,
    "start_time": "2022-05-19T19:54:53.099Z"
   },
   {
    "duration": 87,
    "start_time": "2022-05-19T20:41:51.184Z"
   },
   {
    "duration": 9,
    "start_time": "2022-05-19T21:04:42.279Z"
   },
   {
    "duration": 100,
    "start_time": "2022-05-19T21:05:27.232Z"
   },
   {
    "duration": 97,
    "start_time": "2022-05-19T21:05:42.757Z"
   },
   {
    "duration": 85,
    "start_time": "2022-05-19T21:06:00.920Z"
   },
   {
    "duration": 92,
    "start_time": "2022-05-19T21:06:07.454Z"
   },
   {
    "duration": 53,
    "start_time": "2022-05-20T19:03:36.785Z"
   },
   {
    "duration": 7,
    "start_time": "2022-05-20T19:03:52.482Z"
   },
   {
    "duration": 879,
    "start_time": "2022-05-20T19:04:09.771Z"
   },
   {
    "duration": 6,
    "start_time": "2022-05-20T19:04:10.652Z"
   },
   {
    "duration": 7,
    "start_time": "2022-05-20T19:09:17.684Z"
   },
   {
    "duration": 240,
    "start_time": "2022-05-20T19:11:03.430Z"
   },
   {
    "duration": 7,
    "start_time": "2022-05-20T19:18:30.180Z"
   },
   {
    "duration": 7,
    "start_time": "2022-05-20T19:19:07.761Z"
   },
   {
    "duration": 4,
    "start_time": "2022-05-20T19:19:25.081Z"
   },
   {
    "duration": 7,
    "start_time": "2022-05-20T19:19:38.429Z"
   },
   {
    "duration": 12,
    "start_time": "2022-05-20T19:24:00.443Z"
   },
   {
    "duration": 17,
    "start_time": "2022-05-20T19:24:04.332Z"
   },
   {
    "duration": 31,
    "start_time": "2022-05-20T19:24:16.792Z"
   },
   {
    "duration": 8,
    "start_time": "2022-05-20T19:24:21.178Z"
   },
   {
    "duration": 11,
    "start_time": "2022-05-20T19:24:26.435Z"
   },
   {
    "duration": 103,
    "start_time": "2022-05-20T19:25:35.776Z"
   },
   {
    "duration": 85,
    "start_time": "2022-05-21T07:00:15.668Z"
   },
   {
    "duration": 9,
    "start_time": "2022-05-21T07:00:15.755Z"
   },
   {
    "duration": 10,
    "start_time": "2022-05-21T07:08:09.608Z"
   },
   {
    "duration": 47,
    "start_time": "2022-05-21T07:10:28.686Z"
   },
   {
    "duration": 11,
    "start_time": "2022-05-21T07:10:33.415Z"
   },
   {
    "duration": 93,
    "start_time": "2022-05-21T07:27:16.903Z"
   },
   {
    "duration": 83,
    "start_time": "2022-05-21T07:27:56.287Z"
   },
   {
    "duration": 83,
    "start_time": "2022-05-21T07:29:06.287Z"
   },
   {
    "duration": 8,
    "start_time": "2022-05-21T07:29:06.372Z"
   },
   {
    "duration": 9,
    "start_time": "2022-05-21T07:29:06.382Z"
   },
   {
    "duration": 11,
    "start_time": "2022-05-21T07:44:42.588Z"
   },
   {
    "duration": 8,
    "start_time": "2022-05-21T07:56:28.218Z"
   },
   {
    "duration": 6,
    "start_time": "2022-05-21T07:57:08.244Z"
   },
   {
    "duration": 14,
    "start_time": "2022-05-21T08:37:14.706Z"
   },
   {
    "duration": 6,
    "start_time": "2022-05-21T08:38:13.706Z"
   },
   {
    "duration": 6,
    "start_time": "2022-05-21T08:38:21.676Z"
   },
   {
    "duration": 22,
    "start_time": "2022-05-21T08:39:35.789Z"
   },
   {
    "duration": 19,
    "start_time": "2022-05-21T08:40:05.271Z"
   },
   {
    "duration": 11,
    "start_time": "2022-05-21T08:40:45.112Z"
   },
   {
    "duration": 13,
    "start_time": "2022-05-21T08:41:04.572Z"
   },
   {
    "duration": 13,
    "start_time": "2022-05-21T08:41:42.322Z"
   },
   {
    "duration": 11,
    "start_time": "2022-05-21T08:41:50.288Z"
   },
   {
    "duration": 14,
    "start_time": "2022-05-21T08:43:03.927Z"
   },
   {
    "duration": 17,
    "start_time": "2022-05-21T08:44:31.224Z"
   },
   {
    "duration": 16,
    "start_time": "2022-05-21T08:45:32.376Z"
   },
   {
    "duration": 16,
    "start_time": "2022-05-21T08:45:48.682Z"
   },
   {
    "duration": 17,
    "start_time": "2022-05-21T08:46:09.680Z"
   },
   {
    "duration": 18,
    "start_time": "2022-05-21T08:46:18.173Z"
   },
   {
    "duration": 84,
    "start_time": "2022-05-21T09:59:25.707Z"
   },
   {
    "duration": 9,
    "start_time": "2022-05-21T09:59:25.792Z"
   },
   {
    "duration": 11,
    "start_time": "2022-05-21T09:59:25.802Z"
   },
   {
    "duration": 11,
    "start_time": "2022-05-21T09:59:25.815Z"
   },
   {
    "duration": 6,
    "start_time": "2022-05-21T09:59:25.827Z"
   },
   {
    "duration": 13,
    "start_time": "2022-05-21T09:59:25.837Z"
   },
   {
    "duration": 26,
    "start_time": "2022-05-21T10:10:28.496Z"
   },
   {
    "duration": 27,
    "start_time": "2022-05-21T10:10:42.526Z"
   },
   {
    "duration": 24,
    "start_time": "2022-05-21T10:12:56.701Z"
   },
   {
    "duration": 19,
    "start_time": "2022-05-21T10:13:18.154Z"
   },
   {
    "duration": 23,
    "start_time": "2022-05-21T10:13:43.366Z"
   },
   {
    "duration": 13,
    "start_time": "2022-05-21T10:14:15.787Z"
   },
   {
    "duration": 16,
    "start_time": "2022-05-21T10:14:24.759Z"
   },
   {
    "duration": 13,
    "start_time": "2022-05-21T10:15:56.582Z"
   },
   {
    "duration": 18,
    "start_time": "2022-05-21T10:16:06.435Z"
   },
   {
    "duration": 19,
    "start_time": "2022-05-21T10:18:52.215Z"
   },
   {
    "duration": 18,
    "start_time": "2022-05-21T10:20:02.071Z"
   },
   {
    "duration": 20,
    "start_time": "2022-05-21T10:21:47.070Z"
   },
   {
    "duration": 20,
    "start_time": "2022-05-21T10:22:44.952Z"
   },
   {
    "duration": 32,
    "start_time": "2022-05-21T19:40:03.511Z"
   },
   {
    "duration": 29,
    "start_time": "2022-05-21T19:41:31.043Z"
   },
   {
    "duration": 193,
    "start_time": "2022-05-21T19:41:44.521Z"
   },
   {
    "duration": 11,
    "start_time": "2022-05-21T19:41:44.716Z"
   },
   {
    "duration": 14,
    "start_time": "2022-05-21T19:41:44.729Z"
   },
   {
    "duration": 14,
    "start_time": "2022-05-21T19:41:44.746Z"
   },
   {
    "duration": 11,
    "start_time": "2022-05-21T19:41:44.762Z"
   },
   {
    "duration": 69,
    "start_time": "2022-05-21T19:41:44.775Z"
   },
   {
    "duration": 31,
    "start_time": "2022-05-21T19:42:30.078Z"
   },
   {
    "duration": 35,
    "start_time": "2022-05-21T19:50:47.638Z"
   },
   {
    "duration": 330,
    "start_time": "2022-05-21T19:51:53.664Z"
   },
   {
    "duration": 37,
    "start_time": "2022-05-21T19:52:21.310Z"
   },
   {
    "duration": 18,
    "start_time": "2022-05-21T20:09:05.021Z"
   },
   {
    "duration": 14,
    "start_time": "2022-05-21T20:10:33.160Z"
   },
   {
    "duration": 30,
    "start_time": "2022-05-21T20:12:19.476Z"
   },
   {
    "duration": 13,
    "start_time": "2022-05-21T20:12:30.785Z"
   },
   {
    "duration": 84,
    "start_time": "2022-05-21T20:12:45.025Z"
   },
   {
    "duration": 9,
    "start_time": "2022-05-21T20:12:45.111Z"
   },
   {
    "duration": 12,
    "start_time": "2022-05-21T20:12:45.121Z"
   },
   {
    "duration": 27,
    "start_time": "2022-05-21T20:12:45.135Z"
   },
   {
    "duration": 16,
    "start_time": "2022-05-21T20:12:45.164Z"
   },
   {
    "duration": 39,
    "start_time": "2022-05-21T20:12:45.182Z"
   },
   {
    "duration": 20,
    "start_time": "2022-05-21T20:12:50.932Z"
   },
   {
    "duration": 15,
    "start_time": "2022-05-21T20:13:08.692Z"
   },
   {
    "duration": 12,
    "start_time": "2022-05-21T20:13:30.421Z"
   },
   {
    "duration": 93,
    "start_time": "2022-05-21T20:13:35.194Z"
   },
   {
    "duration": 11,
    "start_time": "2022-05-21T20:13:35.289Z"
   },
   {
    "duration": 18,
    "start_time": "2022-05-21T20:13:35.302Z"
   },
   {
    "duration": 18,
    "start_time": "2022-05-21T20:13:35.321Z"
   },
   {
    "duration": 7,
    "start_time": "2022-05-21T20:13:35.341Z"
   },
   {
    "duration": 21,
    "start_time": "2022-05-21T20:13:35.351Z"
   },
   {
    "duration": 19,
    "start_time": "2022-05-21T20:13:40.601Z"
   },
   {
    "duration": 29,
    "start_time": "2022-05-21T20:24:32.209Z"
   },
   {
    "duration": 12,
    "start_time": "2022-05-21T20:26:22.568Z"
   },
   {
    "duration": 89,
    "start_time": "2022-05-21T20:26:27.685Z"
   },
   {
    "duration": 10,
    "start_time": "2022-05-21T20:26:27.775Z"
   },
   {
    "duration": 26,
    "start_time": "2022-05-21T20:26:27.787Z"
   },
   {
    "duration": 15,
    "start_time": "2022-05-21T20:26:27.815Z"
   },
   {
    "duration": 6,
    "start_time": "2022-05-21T20:26:27.832Z"
   },
   {
    "duration": 70,
    "start_time": "2022-05-21T20:26:27.840Z"
   },
   {
    "duration": 36,
    "start_time": "2022-05-21T20:27:05.568Z"
   },
   {
    "duration": 37,
    "start_time": "2022-05-21T20:27:43.877Z"
   },
   {
    "duration": 28,
    "start_time": "2022-05-21T20:27:52.280Z"
   },
   {
    "duration": 34,
    "start_time": "2022-05-21T20:28:25.220Z"
   },
   {
    "duration": 30,
    "start_time": "2022-05-21T20:28:35.497Z"
   },
   {
    "duration": 56,
    "start_time": "2022-05-21T20:28:41.330Z"
   },
   {
    "duration": 40,
    "start_time": "2022-05-21T20:28:48.650Z"
   },
   {
    "duration": 7,
    "start_time": "2022-05-21T20:31:56.206Z"
   },
   {
    "duration": 4,
    "start_time": "2022-05-21T20:34:17.183Z"
   },
   {
    "duration": 4,
    "start_time": "2022-05-21T20:35:16.433Z"
   },
   {
    "duration": 4,
    "start_time": "2022-05-21T20:35:58.762Z"
   },
   {
    "duration": 4,
    "start_time": "2022-05-21T20:36:33.710Z"
   },
   {
    "duration": 87,
    "start_time": "2022-05-21T20:36:41.171Z"
   },
   {
    "duration": 8,
    "start_time": "2022-05-21T20:36:41.260Z"
   },
   {
    "duration": 12,
    "start_time": "2022-05-21T20:36:41.269Z"
   },
   {
    "duration": 13,
    "start_time": "2022-05-21T20:36:41.282Z"
   },
   {
    "duration": 4,
    "start_time": "2022-05-21T20:36:41.311Z"
   },
   {
    "duration": 4,
    "start_time": "2022-05-21T20:36:41.316Z"
   },
   {
    "duration": 7,
    "start_time": "2022-05-21T20:36:41.321Z"
   },
   {
    "duration": 5,
    "start_time": "2022-05-21T20:36:55.168Z"
   },
   {
    "duration": 10,
    "start_time": "2022-05-21T20:37:13.785Z"
   },
   {
    "duration": 28,
    "start_time": "2022-05-21T20:37:54.119Z"
   },
   {
    "duration": 32,
    "start_time": "2022-05-21T20:38:03.032Z"
   },
   {
    "duration": 3,
    "start_time": "2022-05-21T20:39:43.295Z"
   },
   {
    "duration": 4,
    "start_time": "2022-05-21T20:40:14.090Z"
   },
   {
    "duration": 84,
    "start_time": "2022-05-21T20:40:18.045Z"
   },
   {
    "duration": 8,
    "start_time": "2022-05-21T20:40:18.131Z"
   },
   {
    "duration": 10,
    "start_time": "2022-05-21T20:40:18.140Z"
   },
   {
    "duration": 12,
    "start_time": "2022-05-21T20:40:18.152Z"
   },
   {
    "duration": 4,
    "start_time": "2022-05-21T20:40:18.166Z"
   },
   {
    "duration": 5,
    "start_time": "2022-05-21T20:40:18.171Z"
   },
   {
    "duration": 5,
    "start_time": "2022-05-21T20:40:18.178Z"
   },
   {
    "duration": 129,
    "start_time": "2022-05-22T09:00:25.269Z"
   },
   {
    "duration": 16,
    "start_time": "2022-05-22T09:00:25.401Z"
   },
   {
    "duration": 16,
    "start_time": "2022-05-22T09:00:25.419Z"
   },
   {
    "duration": 51,
    "start_time": "2022-05-22T09:00:25.437Z"
   },
   {
    "duration": 5,
    "start_time": "2022-05-22T09:00:25.491Z"
   },
   {
    "duration": 15,
    "start_time": "2022-05-22T09:00:25.498Z"
   },
   {
    "duration": 7,
    "start_time": "2022-05-22T09:00:25.515Z"
   },
   {
    "duration": 11,
    "start_time": "2022-05-22T09:02:26.389Z"
   },
   {
    "duration": 8,
    "start_time": "2022-05-22T09:02:56.403Z"
   },
   {
    "duration": 14,
    "start_time": "2022-05-22T09:03:11.688Z"
   },
   {
    "duration": 16,
    "start_time": "2022-05-22T09:03:56.092Z"
   },
   {
    "duration": 127,
    "start_time": "2022-05-22T09:04:04.981Z"
   },
   {
    "duration": 15,
    "start_time": "2022-05-22T09:04:05.110Z"
   },
   {
    "duration": 10,
    "start_time": "2022-05-22T09:04:05.127Z"
   },
   {
    "duration": 47,
    "start_time": "2022-05-22T09:04:05.139Z"
   },
   {
    "duration": 7,
    "start_time": "2022-05-22T09:04:05.189Z"
   },
   {
    "duration": 11,
    "start_time": "2022-05-22T09:04:05.198Z"
   },
   {
    "duration": 0,
    "start_time": "2022-05-22T09:04:05.211Z"
   },
   {
    "duration": 0,
    "start_time": "2022-05-22T09:04:05.212Z"
   },
   {
    "duration": 4,
    "start_time": "2022-05-22T09:05:45.071Z"
   },
   {
    "duration": 4,
    "start_time": "2022-05-22T09:05:49.672Z"
   },
   {
    "duration": 118,
    "start_time": "2022-05-22T09:05:56.680Z"
   },
   {
    "duration": 13,
    "start_time": "2022-05-22T09:05:56.800Z"
   },
   {
    "duration": 23,
    "start_time": "2022-05-22T09:05:56.814Z"
   },
   {
    "duration": 18,
    "start_time": "2022-05-22T09:05:56.840Z"
   },
   {
    "duration": 5,
    "start_time": "2022-05-22T09:05:56.860Z"
   },
   {
    "duration": 34,
    "start_time": "2022-05-22T09:05:56.866Z"
   },
   {
    "duration": 19,
    "start_time": "2022-05-22T09:05:56.902Z"
   },
   {
    "duration": 26,
    "start_time": "2022-05-22T09:05:56.924Z"
   },
   {
    "duration": 7,
    "start_time": "2022-05-22T09:06:50.350Z"
   },
   {
    "duration": 5,
    "start_time": "2022-05-22T09:12:58.801Z"
   },
   {
    "duration": 6,
    "start_time": "2022-05-22T09:13:23.703Z"
   },
   {
    "duration": 10,
    "start_time": "2022-05-22T09:13:42.464Z"
   },
   {
    "duration": 7,
    "start_time": "2022-05-22T09:20:15.654Z"
   },
   {
    "duration": 9,
    "start_time": "2022-05-22T09:20:38.358Z"
   },
   {
    "duration": 13,
    "start_time": "2022-05-22T09:39:39.759Z"
   },
   {
    "duration": 125,
    "start_time": "2022-05-22T09:40:19.353Z"
   },
   {
    "duration": 13,
    "start_time": "2022-05-22T09:40:19.480Z"
   },
   {
    "duration": 15,
    "start_time": "2022-05-22T09:40:19.494Z"
   },
   {
    "duration": 14,
    "start_time": "2022-05-22T09:40:19.511Z"
   },
   {
    "duration": 5,
    "start_time": "2022-05-22T09:40:19.528Z"
   },
   {
    "duration": 7,
    "start_time": "2022-05-22T09:40:19.535Z"
   },
   {
    "duration": 45,
    "start_time": "2022-05-22T09:40:19.544Z"
   },
   {
    "duration": 9,
    "start_time": "2022-05-22T09:40:19.591Z"
   },
   {
    "duration": 7,
    "start_time": "2022-05-22T09:40:19.602Z"
   },
   {
    "duration": 6,
    "start_time": "2022-05-22T09:40:19.612Z"
   },
   {
    "duration": 13,
    "start_time": "2022-05-22T09:44:27.565Z"
   },
   {
    "duration": 11,
    "start_time": "2022-05-22T09:44:56.128Z"
   },
   {
    "duration": 14,
    "start_time": "2022-05-22T09:45:05.885Z"
   },
   {
    "duration": 4,
    "start_time": "2022-05-22T09:45:26.429Z"
   },
   {
    "duration": 98,
    "start_time": "2022-05-22T09:45:36.933Z"
   },
   {
    "duration": 25,
    "start_time": "2022-05-22T09:45:53.803Z"
   },
   {
    "duration": 2375,
    "start_time": "2022-05-22T09:47:56.654Z"
   },
   {
    "duration": 43,
    "start_time": "2022-05-22T09:48:37.783Z"
   },
   {
    "duration": 195,
    "start_time": "2022-05-22T09:55:30.583Z"
   },
   {
    "duration": 17,
    "start_time": "2022-05-22T09:55:30.782Z"
   },
   {
    "duration": 30,
    "start_time": "2022-05-22T09:55:30.802Z"
   },
   {
    "duration": 28,
    "start_time": "2022-05-22T09:55:30.836Z"
   },
   {
    "duration": 5,
    "start_time": "2022-05-22T09:55:30.871Z"
   },
   {
    "duration": 15,
    "start_time": "2022-05-22T09:55:30.880Z"
   },
   {
    "duration": 14,
    "start_time": "2022-05-22T09:55:30.899Z"
   },
   {
    "duration": 16,
    "start_time": "2022-05-22T09:55:30.917Z"
   },
   {
    "duration": 10,
    "start_time": "2022-05-22T09:55:30.936Z"
   },
   {
    "duration": 12,
    "start_time": "2022-05-22T09:55:30.950Z"
   },
   {
    "duration": 120,
    "start_time": "2022-05-22T09:58:27.053Z"
   },
   {
    "duration": 12,
    "start_time": "2022-05-22T09:58:41.649Z"
   },
   {
    "duration": 12,
    "start_time": "2022-05-22T09:58:59.056Z"
   },
   {
    "duration": 16,
    "start_time": "2022-05-22T09:59:11.710Z"
   },
   {
    "duration": 23,
    "start_time": "2022-05-22T09:59:39.167Z"
   },
   {
    "duration": 17,
    "start_time": "2022-05-22T10:08:43.689Z"
   },
   {
    "duration": 26,
    "start_time": "2022-05-22T10:09:07.622Z"
   },
   {
    "duration": 57,
    "start_time": "2022-05-22T10:15:57.855Z"
   },
   {
    "duration": 33,
    "start_time": "2022-05-22T10:17:33.984Z"
   },
   {
    "duration": 8,
    "start_time": "2022-05-22T10:18:19.761Z"
   },
   {
    "duration": 14,
    "start_time": "2022-05-22T10:18:35.927Z"
   },
   {
    "duration": 15,
    "start_time": "2022-05-22T10:19:53.593Z"
   },
   {
    "duration": 10,
    "start_time": "2022-05-22T10:19:59.321Z"
   },
   {
    "duration": 114,
    "start_time": "2022-05-22T10:20:04.648Z"
   },
   {
    "duration": 10,
    "start_time": "2022-05-22T10:20:04.765Z"
   },
   {
    "duration": 31,
    "start_time": "2022-05-22T10:20:04.785Z"
   },
   {
    "duration": 14,
    "start_time": "2022-05-22T10:20:04.822Z"
   },
   {
    "duration": 4,
    "start_time": "2022-05-22T10:20:04.839Z"
   },
   {
    "duration": 5,
    "start_time": "2022-05-22T10:20:04.845Z"
   },
   {
    "duration": 10,
    "start_time": "2022-05-22T10:20:04.851Z"
   },
   {
    "duration": 37,
    "start_time": "2022-05-22T10:20:04.863Z"
   },
   {
    "duration": 13,
    "start_time": "2022-05-22T10:20:04.902Z"
   },
   {
    "duration": 11,
    "start_time": "2022-05-22T10:20:04.917Z"
   },
   {
    "duration": 7,
    "start_time": "2022-05-22T10:20:04.930Z"
   },
   {
    "duration": 11,
    "start_time": "2022-05-22T10:20:04.939Z"
   },
   {
    "duration": 15,
    "start_time": "2022-05-22T10:20:04.952Z"
   },
   {
    "duration": 11,
    "start_time": "2022-05-22T10:20:19.765Z"
   },
   {
    "duration": 819,
    "start_time": "2022-05-22T13:07:02.397Z"
   },
   {
    "duration": 25,
    "start_time": "2022-05-22T13:07:03.219Z"
   },
   {
    "duration": 18,
    "start_time": "2022-05-22T13:07:03.250Z"
   },
   {
    "duration": 30,
    "start_time": "2022-05-22T13:07:03.270Z"
   },
   {
    "duration": 7,
    "start_time": "2022-05-22T13:07:03.303Z"
   },
   {
    "duration": 5,
    "start_time": "2022-05-22T13:07:03.312Z"
   },
   {
    "duration": 22,
    "start_time": "2022-05-22T13:07:03.318Z"
   },
   {
    "duration": 8,
    "start_time": "2022-05-22T13:07:03.342Z"
   },
   {
    "duration": 6,
    "start_time": "2022-05-22T13:07:03.352Z"
   },
   {
    "duration": 7,
    "start_time": "2022-05-22T13:07:03.384Z"
   },
   {
    "duration": 7,
    "start_time": "2022-05-22T13:07:03.393Z"
   },
   {
    "duration": 9,
    "start_time": "2022-05-22T13:07:03.403Z"
   },
   {
    "duration": 13,
    "start_time": "2022-05-22T13:07:03.414Z"
   },
   {
    "duration": 6,
    "start_time": "2022-05-22T13:08:43.258Z"
   },
   {
    "duration": 7,
    "start_time": "2022-05-22T13:08:49.558Z"
   },
   {
    "duration": 7,
    "start_time": "2022-05-22T13:12:32.865Z"
   },
   {
    "duration": 7,
    "start_time": "2022-05-22T13:13:11.919Z"
   },
   {
    "duration": 5,
    "start_time": "2022-05-22T13:13:22.966Z"
   },
   {
    "duration": 8,
    "start_time": "2022-05-22T13:13:31.398Z"
   },
   {
    "duration": 14,
    "start_time": "2022-05-22T13:15:02.397Z"
   },
   {
    "duration": 9,
    "start_time": "2022-05-22T13:15:15.698Z"
   },
   {
    "duration": 122,
    "start_time": "2022-05-22T13:21:31.385Z"
   },
   {
    "duration": 13,
    "start_time": "2022-05-22T13:21:31.509Z"
   },
   {
    "duration": 21,
    "start_time": "2022-05-22T13:21:31.524Z"
   },
   {
    "duration": 15,
    "start_time": "2022-05-22T13:21:31.548Z"
   },
   {
    "duration": 6,
    "start_time": "2022-05-22T13:21:31.585Z"
   },
   {
    "duration": 19,
    "start_time": "2022-05-22T13:21:31.593Z"
   },
   {
    "duration": 15,
    "start_time": "2022-05-22T13:21:31.615Z"
   },
   {
    "duration": 9,
    "start_time": "2022-05-22T13:21:31.632Z"
   },
   {
    "duration": 16,
    "start_time": "2022-05-22T13:21:31.643Z"
   },
   {
    "duration": 22,
    "start_time": "2022-05-22T13:21:31.661Z"
   },
   {
    "duration": 9,
    "start_time": "2022-05-22T13:21:31.686Z"
   },
   {
    "duration": 13,
    "start_time": "2022-05-22T13:21:31.697Z"
   },
   {
    "duration": 13,
    "start_time": "2022-05-22T13:21:31.713Z"
   },
   {
    "duration": 22,
    "start_time": "2022-05-22T13:21:31.730Z"
   },
   {
    "duration": 5,
    "start_time": "2022-05-22T13:23:36.264Z"
   },
   {
    "duration": 12,
    "start_time": "2022-05-22T13:24:22.089Z"
   },
   {
    "duration": 10,
    "start_time": "2022-05-22T13:25:02.545Z"
   },
   {
    "duration": 17,
    "start_time": "2022-05-22T13:30:17.159Z"
   },
   {
    "duration": 14,
    "start_time": "2022-05-22T13:30:57.361Z"
   },
   {
    "duration": 110,
    "start_time": "2022-05-22T13:32:29.429Z"
   },
   {
    "duration": 16,
    "start_time": "2022-05-22T13:32:44.748Z"
   },
   {
    "duration": 11,
    "start_time": "2022-05-22T13:34:06.209Z"
   },
   {
    "duration": 8,
    "start_time": "2022-05-22T13:34:15.753Z"
   },
   {
    "duration": 20,
    "start_time": "2022-05-22T13:34:36.319Z"
   },
   {
    "duration": 8,
    "start_time": "2022-05-22T13:35:36.568Z"
   },
   {
    "duration": 6,
    "start_time": "2022-05-22T13:35:42.733Z"
   },
   {
    "duration": 21,
    "start_time": "2022-05-22T13:35:49.315Z"
   },
   {
    "duration": 127,
    "start_time": "2022-05-22T13:36:17.846Z"
   },
   {
    "duration": 24,
    "start_time": "2022-05-22T13:36:17.976Z"
   },
   {
    "duration": 24,
    "start_time": "2022-05-22T13:36:18.002Z"
   },
   {
    "duration": 20,
    "start_time": "2022-05-22T13:36:18.028Z"
   },
   {
    "duration": 5,
    "start_time": "2022-05-22T13:36:18.051Z"
   },
   {
    "duration": 4,
    "start_time": "2022-05-22T13:36:18.059Z"
   },
   {
    "duration": 28,
    "start_time": "2022-05-22T13:36:18.066Z"
   },
   {
    "duration": 18,
    "start_time": "2022-05-22T13:36:18.096Z"
   },
   {
    "duration": 9,
    "start_time": "2022-05-22T13:36:18.119Z"
   },
   {
    "duration": 9,
    "start_time": "2022-05-22T13:36:18.130Z"
   },
   {
    "duration": 8,
    "start_time": "2022-05-22T13:36:18.143Z"
   },
   {
    "duration": 34,
    "start_time": "2022-05-22T13:36:18.154Z"
   },
   {
    "duration": 19,
    "start_time": "2022-05-22T13:36:18.195Z"
   },
   {
    "duration": 9,
    "start_time": "2022-05-22T13:36:18.218Z"
   },
   {
    "duration": 4,
    "start_time": "2022-05-22T13:36:18.229Z"
   },
   {
    "duration": 13,
    "start_time": "2022-05-22T13:36:18.235Z"
   },
   {
    "duration": 42,
    "start_time": "2022-05-22T13:36:18.251Z"
   },
   {
    "duration": 11,
    "start_time": "2022-05-22T13:36:18.296Z"
   },
   {
    "duration": 22,
    "start_time": "2022-05-22T13:36:18.309Z"
   },
   {
    "duration": 22,
    "start_time": "2022-05-22T13:36:57.698Z"
   },
   {
    "duration": 4,
    "start_time": "2022-05-22T13:38:10.625Z"
   },
   {
    "duration": 17,
    "start_time": "2022-05-22T13:38:13.418Z"
   },
   {
    "duration": 102,
    "start_time": "2022-05-22T13:38:18.467Z"
   },
   {
    "duration": 26,
    "start_time": "2022-05-22T13:38:18.572Z"
   },
   {
    "duration": 12,
    "start_time": "2022-05-22T13:38:18.603Z"
   },
   {
    "duration": 19,
    "start_time": "2022-05-22T13:38:18.617Z"
   },
   {
    "duration": 5,
    "start_time": "2022-05-22T13:38:18.638Z"
   },
   {
    "duration": 5,
    "start_time": "2022-05-22T13:38:18.646Z"
   },
   {
    "duration": 17,
    "start_time": "2022-05-22T13:38:18.653Z"
   },
   {
    "duration": 38,
    "start_time": "2022-05-22T13:38:18.672Z"
   },
   {
    "duration": 16,
    "start_time": "2022-05-22T13:38:18.712Z"
   },
   {
    "duration": 18,
    "start_time": "2022-05-22T13:38:18.730Z"
   },
   {
    "duration": 29,
    "start_time": "2022-05-22T13:38:18.750Z"
   },
   {
    "duration": 14,
    "start_time": "2022-05-22T13:38:18.781Z"
   },
   {
    "duration": 16,
    "start_time": "2022-05-22T13:38:18.797Z"
   },
   {
    "duration": 7,
    "start_time": "2022-05-22T13:38:18.817Z"
   },
   {
    "duration": 5,
    "start_time": "2022-05-22T13:38:18.826Z"
   },
   {
    "duration": 13,
    "start_time": "2022-05-22T13:38:18.833Z"
   },
   {
    "duration": 55,
    "start_time": "2022-05-22T13:38:18.848Z"
   },
   {
    "duration": 5,
    "start_time": "2022-05-22T13:38:18.905Z"
   },
   {
    "duration": 18,
    "start_time": "2022-05-22T13:38:18.911Z"
   },
   {
    "duration": 18,
    "start_time": "2022-05-22T13:41:18.705Z"
   },
   {
    "duration": 17,
    "start_time": "2022-05-22T13:41:26.069Z"
   },
   {
    "duration": 35,
    "start_time": "2022-05-22T13:46:15.389Z"
   },
   {
    "duration": 35,
    "start_time": "2022-05-22T13:46:47.807Z"
   },
   {
    "duration": 31,
    "start_time": "2022-05-22T13:46:58.540Z"
   },
   {
    "duration": 105,
    "start_time": "2022-05-22T13:47:13.061Z"
   },
   {
    "duration": 24,
    "start_time": "2022-05-22T13:47:13.168Z"
   },
   {
    "duration": 15,
    "start_time": "2022-05-22T13:47:13.194Z"
   },
   {
    "duration": 22,
    "start_time": "2022-05-22T13:47:13.211Z"
   },
   {
    "duration": 5,
    "start_time": "2022-05-22T13:47:13.235Z"
   },
   {
    "duration": 3,
    "start_time": "2022-05-22T13:47:13.242Z"
   },
   {
    "duration": 10,
    "start_time": "2022-05-22T13:47:13.247Z"
   },
   {
    "duration": 35,
    "start_time": "2022-05-22T13:47:13.259Z"
   },
   {
    "duration": 9,
    "start_time": "2022-05-22T13:47:13.297Z"
   },
   {
    "duration": 7,
    "start_time": "2022-05-22T13:47:13.307Z"
   },
   {
    "duration": 5,
    "start_time": "2022-05-22T13:47:13.316Z"
   },
   {
    "duration": 8,
    "start_time": "2022-05-22T13:47:13.322Z"
   },
   {
    "duration": 10,
    "start_time": "2022-05-22T13:47:13.331Z"
   },
   {
    "duration": 45,
    "start_time": "2022-05-22T13:47:13.345Z"
   },
   {
    "duration": 5,
    "start_time": "2022-05-22T13:47:13.394Z"
   },
   {
    "duration": 11,
    "start_time": "2022-05-22T13:47:13.400Z"
   },
   {
    "duration": 11,
    "start_time": "2022-05-22T13:47:13.412Z"
   },
   {
    "duration": 4,
    "start_time": "2022-05-22T13:47:13.425Z"
   },
   {
    "duration": 20,
    "start_time": "2022-05-22T13:47:13.430Z"
   },
   {
    "duration": 55,
    "start_time": "2022-05-22T13:47:13.451Z"
   },
   {
    "duration": 47,
    "start_time": "2022-05-22T13:47:13.508Z"
   },
   {
    "duration": 112,
    "start_time": "2022-05-22T13:56:21.710Z"
   },
   {
    "duration": 11,
    "start_time": "2022-05-22T13:56:21.824Z"
   },
   {
    "duration": 14,
    "start_time": "2022-05-22T13:56:21.837Z"
   },
   {
    "duration": 32,
    "start_time": "2022-05-22T13:56:21.853Z"
   },
   {
    "duration": 9,
    "start_time": "2022-05-22T13:56:21.893Z"
   },
   {
    "duration": 7,
    "start_time": "2022-05-22T13:56:21.903Z"
   },
   {
    "duration": 13,
    "start_time": "2022-05-22T13:56:21.912Z"
   },
   {
    "duration": 12,
    "start_time": "2022-05-22T13:56:21.927Z"
   },
   {
    "duration": 6,
    "start_time": "2022-05-22T13:56:21.941Z"
   },
   {
    "duration": 6,
    "start_time": "2022-05-22T13:56:21.950Z"
   },
   {
    "duration": 30,
    "start_time": "2022-05-22T13:56:21.958Z"
   },
   {
    "duration": 15,
    "start_time": "2022-05-22T13:56:21.994Z"
   },
   {
    "duration": 11,
    "start_time": "2022-05-22T13:56:22.011Z"
   },
   {
    "duration": 9,
    "start_time": "2022-05-22T13:56:22.024Z"
   },
   {
    "duration": 5,
    "start_time": "2022-05-22T13:56:22.035Z"
   },
   {
    "duration": 14,
    "start_time": "2022-05-22T13:56:22.042Z"
   },
   {
    "duration": 46,
    "start_time": "2022-05-22T13:56:22.059Z"
   },
   {
    "duration": 6,
    "start_time": "2022-05-22T13:56:22.107Z"
   },
   {
    "duration": 25,
    "start_time": "2022-05-22T13:56:22.115Z"
   },
   {
    "duration": 45,
    "start_time": "2022-05-22T13:56:22.142Z"
   },
   {
    "duration": 43,
    "start_time": "2022-05-22T13:56:22.189Z"
   },
   {
    "duration": 625,
    "start_time": "2022-05-23T12:12:19.740Z"
   },
   {
    "duration": 12,
    "start_time": "2022-05-23T12:12:20.368Z"
   },
   {
    "duration": 33,
    "start_time": "2022-05-23T12:12:20.382Z"
   },
   {
    "duration": 17,
    "start_time": "2022-05-23T12:12:20.417Z"
   },
   {
    "duration": 7,
    "start_time": "2022-05-23T12:12:20.436Z"
   },
   {
    "duration": 10,
    "start_time": "2022-05-23T12:12:20.444Z"
   },
   {
    "duration": 17,
    "start_time": "2022-05-23T12:12:20.456Z"
   },
   {
    "duration": 8,
    "start_time": "2022-05-23T12:12:20.475Z"
   },
   {
    "duration": 8,
    "start_time": "2022-05-23T12:12:20.484Z"
   },
   {
    "duration": 13,
    "start_time": "2022-05-23T12:12:20.494Z"
   },
   {
    "duration": 14,
    "start_time": "2022-05-23T12:12:20.508Z"
   },
   {
    "duration": 20,
    "start_time": "2022-05-23T12:12:20.525Z"
   },
   {
    "duration": 28,
    "start_time": "2022-05-23T12:12:20.546Z"
   },
   {
    "duration": 8,
    "start_time": "2022-05-23T12:12:20.578Z"
   },
   {
    "duration": 3,
    "start_time": "2022-05-23T12:12:20.588Z"
   },
   {
    "duration": 19,
    "start_time": "2022-05-23T12:12:20.593Z"
   },
   {
    "duration": 22,
    "start_time": "2022-05-23T12:12:20.614Z"
   },
   {
    "duration": 29,
    "start_time": "2022-05-23T12:12:20.638Z"
   },
   {
    "duration": 18,
    "start_time": "2022-05-23T12:12:20.669Z"
   },
   {
    "duration": 18,
    "start_time": "2022-05-23T12:12:20.689Z"
   },
   {
    "duration": 32,
    "start_time": "2022-05-23T12:12:20.708Z"
   },
   {
    "duration": 107,
    "start_time": "2022-05-23T17:56:34.117Z"
   },
   {
    "duration": 11,
    "start_time": "2022-05-23T17:56:34.225Z"
   },
   {
    "duration": 11,
    "start_time": "2022-05-23T17:56:34.238Z"
   },
   {
    "duration": 15,
    "start_time": "2022-05-23T17:56:34.266Z"
   },
   {
    "duration": 4,
    "start_time": "2022-05-23T17:56:34.283Z"
   },
   {
    "duration": 8,
    "start_time": "2022-05-23T17:56:34.288Z"
   },
   {
    "duration": 9,
    "start_time": "2022-05-23T17:56:34.297Z"
   },
   {
    "duration": 7,
    "start_time": "2022-05-23T17:56:34.308Z"
   },
   {
    "duration": 6,
    "start_time": "2022-05-23T17:56:34.317Z"
   },
   {
    "duration": 5,
    "start_time": "2022-05-23T17:56:34.326Z"
   },
   {
    "duration": 36,
    "start_time": "2022-05-23T17:56:34.332Z"
   },
   {
    "duration": 13,
    "start_time": "2022-05-23T17:56:34.370Z"
   },
   {
    "duration": 9,
    "start_time": "2022-05-23T17:56:34.385Z"
   },
   {
    "duration": 6,
    "start_time": "2022-05-23T17:56:34.395Z"
   },
   {
    "duration": 3,
    "start_time": "2022-05-23T17:56:34.403Z"
   },
   {
    "duration": 12,
    "start_time": "2022-05-23T17:56:34.408Z"
   },
   {
    "duration": 44,
    "start_time": "2022-05-23T17:56:34.421Z"
   },
   {
    "duration": 4,
    "start_time": "2022-05-23T17:56:34.467Z"
   },
   {
    "duration": 19,
    "start_time": "2022-05-23T17:56:34.473Z"
   },
   {
    "duration": 15,
    "start_time": "2022-05-23T17:56:34.493Z"
   },
   {
    "duration": 28,
    "start_time": "2022-05-23T17:56:34.510Z"
   },
   {
    "duration": 705,
    "start_time": "2022-05-23T18:21:55.029Z"
   },
   {
    "duration": 10,
    "start_time": "2022-05-23T18:22:23.584Z"
   },
   {
    "duration": 8,
    "start_time": "2022-05-23T18:28:52.246Z"
   },
   {
    "duration": 6,
    "start_time": "2022-05-23T18:29:38.191Z"
   },
   {
    "duration": 9,
    "start_time": "2022-05-23T18:31:02.696Z"
   },
   {
    "duration": 7,
    "start_time": "2022-05-23T18:31:57.189Z"
   },
   {
    "duration": 5,
    "start_time": "2022-05-23T18:39:24.294Z"
   },
   {
    "duration": 5,
    "start_time": "2022-05-23T18:39:37.852Z"
   },
   {
    "duration": 4,
    "start_time": "2022-05-23T18:39:56.287Z"
   },
   {
    "duration": 5,
    "start_time": "2022-05-23T18:40:19.587Z"
   },
   {
    "duration": 4,
    "start_time": "2022-05-23T18:40:38.791Z"
   },
   {
    "duration": 6,
    "start_time": "2022-05-23T18:41:00.254Z"
   },
   {
    "duration": 18,
    "start_time": "2022-05-23T18:48:12.950Z"
   },
   {
    "duration": 110,
    "start_time": "2022-05-23T18:48:31.192Z"
   },
   {
    "duration": 12,
    "start_time": "2022-05-23T18:48:31.305Z"
   },
   {
    "duration": 12,
    "start_time": "2022-05-23T18:48:31.319Z"
   },
   {
    "duration": 48,
    "start_time": "2022-05-23T18:48:31.333Z"
   },
   {
    "duration": 13,
    "start_time": "2022-05-23T18:48:31.382Z"
   },
   {
    "duration": 11,
    "start_time": "2022-05-23T18:48:31.402Z"
   },
   {
    "duration": 9,
    "start_time": "2022-05-23T18:48:31.415Z"
   },
   {
    "duration": 8,
    "start_time": "2022-05-23T18:48:31.426Z"
   },
   {
    "duration": 6,
    "start_time": "2022-05-23T18:48:31.435Z"
   },
   {
    "duration": 4,
    "start_time": "2022-05-23T18:48:31.444Z"
   },
   {
    "duration": 7,
    "start_time": "2022-05-23T18:48:31.450Z"
   },
   {
    "duration": 12,
    "start_time": "2022-05-23T18:48:31.459Z"
   },
   {
    "duration": 36,
    "start_time": "2022-05-23T18:48:31.472Z"
   },
   {
    "duration": 7,
    "start_time": "2022-05-23T18:48:31.511Z"
   },
   {
    "duration": 9,
    "start_time": "2022-05-23T18:48:31.519Z"
   },
   {
    "duration": 10,
    "start_time": "2022-05-23T18:48:31.530Z"
   },
   {
    "duration": 15,
    "start_time": "2022-05-23T18:48:31.542Z"
   },
   {
    "duration": 8,
    "start_time": "2022-05-23T18:48:31.559Z"
   },
   {
    "duration": 50,
    "start_time": "2022-05-23T18:48:31.568Z"
   },
   {
    "duration": 17,
    "start_time": "2022-05-23T18:48:31.619Z"
   },
   {
    "duration": 41,
    "start_time": "2022-05-23T18:48:31.638Z"
   },
   {
    "duration": 12,
    "start_time": "2022-05-23T18:48:31.684Z"
   },
   {
    "duration": 26,
    "start_time": "2022-05-23T18:48:31.700Z"
   },
   {
    "duration": 13,
    "start_time": "2022-05-23T18:48:31.728Z"
   },
   {
    "duration": 17,
    "start_time": "2022-05-23T18:48:31.742Z"
   },
   {
    "duration": 18,
    "start_time": "2022-05-23T18:48:31.761Z"
   },
   {
    "duration": 4,
    "start_time": "2022-05-23T19:04:25.351Z"
   },
   {
    "duration": 14,
    "start_time": "2022-05-23T19:04:49.481Z"
   },
   {
    "duration": 12,
    "start_time": "2022-05-23T19:09:22.651Z"
   },
   {
    "duration": 3,
    "start_time": "2022-05-23T19:20:55.549Z"
   },
   {
    "duration": 5,
    "start_time": "2022-05-23T19:21:22.680Z"
   },
   {
    "duration": 15,
    "start_time": "2022-05-23T19:21:30.271Z"
   },
   {
    "duration": 3,
    "start_time": "2022-05-23T19:21:38.395Z"
   },
   {
    "duration": 3,
    "start_time": "2022-05-23T19:21:43.414Z"
   },
   {
    "duration": 17,
    "start_time": "2022-05-23T19:23:54.090Z"
   },
   {
    "duration": 108,
    "start_time": "2022-05-23T19:25:22.894Z"
   },
   {
    "duration": 11,
    "start_time": "2022-05-23T19:25:23.004Z"
   },
   {
    "duration": 11,
    "start_time": "2022-05-23T19:25:23.017Z"
   },
   {
    "duration": 38,
    "start_time": "2022-05-23T19:25:23.030Z"
   },
   {
    "duration": 8,
    "start_time": "2022-05-23T19:25:23.071Z"
   },
   {
    "duration": 19,
    "start_time": "2022-05-23T19:25:23.086Z"
   },
   {
    "duration": 10,
    "start_time": "2022-05-23T19:25:23.107Z"
   },
   {
    "duration": 9,
    "start_time": "2022-05-23T19:25:23.119Z"
   },
   {
    "duration": 6,
    "start_time": "2022-05-23T19:25:23.129Z"
   },
   {
    "duration": 5,
    "start_time": "2022-05-23T19:25:23.137Z"
   },
   {
    "duration": 6,
    "start_time": "2022-05-23T19:25:23.144Z"
   },
   {
    "duration": 25,
    "start_time": "2022-05-23T19:25:23.151Z"
   },
   {
    "duration": 16,
    "start_time": "2022-05-23T19:25:23.178Z"
   },
   {
    "duration": 13,
    "start_time": "2022-05-23T19:25:23.195Z"
   },
   {
    "duration": 5,
    "start_time": "2022-05-23T19:25:23.210Z"
   },
   {
    "duration": 15,
    "start_time": "2022-05-23T19:25:23.216Z"
   },
   {
    "duration": 36,
    "start_time": "2022-05-23T19:25:23.233Z"
   },
   {
    "duration": 32,
    "start_time": "2022-05-23T19:25:23.272Z"
   },
   {
    "duration": 20,
    "start_time": "2022-05-23T19:25:23.306Z"
   },
   {
    "duration": 15,
    "start_time": "2022-05-23T19:25:23.328Z"
   },
   {
    "duration": 39,
    "start_time": "2022-05-23T19:25:23.345Z"
   },
   {
    "duration": 6,
    "start_time": "2022-05-23T19:25:23.392Z"
   },
   {
    "duration": 7,
    "start_time": "2022-05-23T19:25:23.400Z"
   },
   {
    "duration": 4,
    "start_time": "2022-05-23T19:25:23.409Z"
   },
   {
    "duration": 15,
    "start_time": "2022-05-23T19:25:23.415Z"
   },
   {
    "duration": 9,
    "start_time": "2022-05-23T19:25:23.431Z"
   },
   {
    "duration": 33,
    "start_time": "2022-05-23T19:25:23.442Z"
   },
   {
    "duration": 30,
    "start_time": "2022-05-23T19:25:23.478Z"
   },
   {
    "duration": 7,
    "start_time": "2022-05-23T19:25:23.509Z"
   },
   {
    "duration": 29,
    "start_time": "2022-05-23T19:25:23.518Z"
   },
   {
    "duration": 7,
    "start_time": "2022-05-23T19:35:09.157Z"
   },
   {
    "duration": 4,
    "start_time": "2022-05-23T19:49:20.469Z"
   },
   {
    "duration": 3,
    "start_time": "2022-05-23T19:51:27.978Z"
   },
   {
    "duration": 145,
    "start_time": "2022-05-23T19:52:12.899Z"
   },
   {
    "duration": 3,
    "start_time": "2022-05-23T19:57:31.705Z"
   },
   {
    "duration": 186,
    "start_time": "2022-05-23T19:57:33.624Z"
   },
   {
    "duration": 7,
    "start_time": "2022-05-23T19:58:36.713Z"
   },
   {
    "duration": 116,
    "start_time": "2022-05-23T20:01:41.307Z"
   },
   {
    "duration": 11,
    "start_time": "2022-05-23T20:01:41.424Z"
   },
   {
    "duration": 36,
    "start_time": "2022-05-23T20:01:41.436Z"
   },
   {
    "duration": 14,
    "start_time": "2022-05-23T20:01:41.477Z"
   },
   {
    "duration": 3,
    "start_time": "2022-05-23T20:01:41.493Z"
   },
   {
    "duration": 6,
    "start_time": "2022-05-23T20:01:41.497Z"
   },
   {
    "duration": 12,
    "start_time": "2022-05-23T20:01:41.504Z"
   },
   {
    "duration": 18,
    "start_time": "2022-05-23T20:01:41.517Z"
   },
   {
    "duration": 4,
    "start_time": "2022-05-23T20:01:41.537Z"
   },
   {
    "duration": 7,
    "start_time": "2022-05-23T20:01:41.570Z"
   },
   {
    "duration": 10,
    "start_time": "2022-05-23T20:01:41.580Z"
   },
   {
    "duration": 9,
    "start_time": "2022-05-23T20:01:41.592Z"
   },
   {
    "duration": 8,
    "start_time": "2022-05-23T20:01:41.603Z"
   },
   {
    "duration": 8,
    "start_time": "2022-05-23T20:01:41.613Z"
   },
   {
    "duration": 4,
    "start_time": "2022-05-23T20:01:41.622Z"
   },
   {
    "duration": 13,
    "start_time": "2022-05-23T20:01:41.628Z"
   },
   {
    "duration": 34,
    "start_time": "2022-05-23T20:01:41.643Z"
   },
   {
    "duration": 6,
    "start_time": "2022-05-23T20:01:41.679Z"
   },
   {
    "duration": 16,
    "start_time": "2022-05-23T20:01:41.687Z"
   },
   {
    "duration": 17,
    "start_time": "2022-05-23T20:01:41.705Z"
   },
   {
    "duration": 68,
    "start_time": "2022-05-23T20:01:41.724Z"
   },
   {
    "duration": 5,
    "start_time": "2022-05-23T20:01:41.794Z"
   },
   {
    "duration": 8,
    "start_time": "2022-05-23T20:01:41.801Z"
   },
   {
    "duration": 6,
    "start_time": "2022-05-23T20:01:41.811Z"
   },
   {
    "duration": 19,
    "start_time": "2022-05-23T20:01:41.819Z"
   },
   {
    "duration": 15,
    "start_time": "2022-05-23T20:01:41.865Z"
   },
   {
    "duration": 15,
    "start_time": "2022-05-23T20:01:41.882Z"
   },
   {
    "duration": 14,
    "start_time": "2022-05-23T20:01:41.900Z"
   },
   {
    "duration": 5,
    "start_time": "2022-05-23T20:01:41.916Z"
   },
   {
    "duration": 21,
    "start_time": "2022-05-23T20:01:41.922Z"
   },
   {
    "duration": 27,
    "start_time": "2022-05-23T20:01:41.945Z"
   },
   {
    "duration": 7,
    "start_time": "2022-05-23T20:01:41.973Z"
   },
   {
    "duration": 156,
    "start_time": "2022-05-23T20:01:41.981Z"
   },
   {
    "duration": 7,
    "start_time": "2022-05-23T20:01:42.139Z"
   },
   {
    "duration": 103,
    "start_time": "2022-05-23T20:14:40.813Z"
   },
   {
    "duration": 10,
    "start_time": "2022-05-23T20:14:40.917Z"
   },
   {
    "duration": 37,
    "start_time": "2022-05-23T20:14:40.928Z"
   },
   {
    "duration": 14,
    "start_time": "2022-05-23T20:14:40.967Z"
   },
   {
    "duration": 4,
    "start_time": "2022-05-23T20:14:40.983Z"
   },
   {
    "duration": 5,
    "start_time": "2022-05-23T20:14:40.988Z"
   },
   {
    "duration": 12,
    "start_time": "2022-05-23T20:14:40.995Z"
   },
   {
    "duration": 9,
    "start_time": "2022-05-23T20:14:41.009Z"
   },
   {
    "duration": 11,
    "start_time": "2022-05-23T20:14:41.020Z"
   },
   {
    "duration": 8,
    "start_time": "2022-05-23T20:14:41.033Z"
   },
   {
    "duration": 29,
    "start_time": "2022-05-23T20:14:41.042Z"
   },
   {
    "duration": 13,
    "start_time": "2022-05-23T20:14:41.073Z"
   },
   {
    "duration": 12,
    "start_time": "2022-05-23T20:14:41.088Z"
   },
   {
    "duration": 9,
    "start_time": "2022-05-23T20:14:41.102Z"
   },
   {
    "duration": 5,
    "start_time": "2022-05-23T20:14:41.112Z"
   },
   {
    "duration": 15,
    "start_time": "2022-05-23T20:14:41.119Z"
   },
   {
    "duration": 11,
    "start_time": "2022-05-23T20:14:41.166Z"
   },
   {
    "duration": 3,
    "start_time": "2022-05-23T20:14:41.179Z"
   },
   {
    "duration": 19,
    "start_time": "2022-05-23T20:14:41.184Z"
   },
   {
    "duration": 15,
    "start_time": "2022-05-23T20:14:41.206Z"
   },
   {
    "duration": 57,
    "start_time": "2022-05-23T20:14:41.222Z"
   },
   {
    "duration": 5,
    "start_time": "2022-05-23T20:14:41.282Z"
   },
   {
    "duration": 9,
    "start_time": "2022-05-23T20:14:41.289Z"
   },
   {
    "duration": 10,
    "start_time": "2022-05-23T20:14:41.301Z"
   },
   {
    "duration": 21,
    "start_time": "2022-05-23T20:14:41.312Z"
   },
   {
    "duration": 32,
    "start_time": "2022-05-23T20:14:41.334Z"
   },
   {
    "duration": 8,
    "start_time": "2022-05-23T20:14:41.367Z"
   },
   {
    "duration": 14,
    "start_time": "2022-05-23T20:14:41.379Z"
   },
   {
    "duration": 9,
    "start_time": "2022-05-23T20:14:41.396Z"
   },
   {
    "duration": 24,
    "start_time": "2022-05-23T20:14:41.407Z"
   },
   {
    "duration": 4,
    "start_time": "2022-05-23T20:14:41.433Z"
   },
   {
    "duration": 26,
    "start_time": "2022-05-23T20:14:41.439Z"
   },
   {
    "duration": 151,
    "start_time": "2022-05-23T20:14:41.466Z"
   },
   {
    "duration": 8,
    "start_time": "2022-05-23T20:14:41.619Z"
   },
   {
    "duration": 6,
    "start_time": "2022-05-23T20:18:12.288Z"
   },
   {
    "duration": 11,
    "start_time": "2022-05-23T20:18:28.607Z"
   },
   {
    "duration": 16,
    "start_time": "2022-05-23T20:28:35.610Z"
   },
   {
    "duration": 10,
    "start_time": "2022-05-23T20:29:58.422Z"
   },
   {
    "duration": 16,
    "start_time": "2022-05-23T20:31:08.033Z"
   },
   {
    "duration": 14,
    "start_time": "2022-05-23T20:31:34.484Z"
   },
   {
    "duration": 16,
    "start_time": "2022-05-23T20:34:09.858Z"
   },
   {
    "duration": 354,
    "start_time": "2022-05-23T20:35:49.290Z"
   },
   {
    "duration": 8,
    "start_time": "2022-05-23T20:36:05.409Z"
   },
   {
    "duration": 288,
    "start_time": "2022-05-23T20:36:22.513Z"
   },
   {
    "duration": 9,
    "start_time": "2022-05-23T20:37:23.883Z"
   },
   {
    "duration": 9,
    "start_time": "2022-05-23T20:40:18.337Z"
   },
   {
    "duration": 96,
    "start_time": "2022-05-23T20:51:22.985Z"
   },
   {
    "duration": 11,
    "start_time": "2022-05-23T20:51:23.083Z"
   },
   {
    "duration": 29,
    "start_time": "2022-05-23T20:51:23.096Z"
   },
   {
    "duration": 25,
    "start_time": "2022-05-23T20:51:23.126Z"
   },
   {
    "duration": 12,
    "start_time": "2022-05-23T20:51:23.153Z"
   },
   {
    "duration": 29,
    "start_time": "2022-05-23T20:51:23.166Z"
   },
   {
    "duration": 20,
    "start_time": "2022-05-23T20:51:23.196Z"
   },
   {
    "duration": 21,
    "start_time": "2022-05-23T20:51:23.217Z"
   },
   {
    "duration": 19,
    "start_time": "2022-05-23T20:51:23.239Z"
   },
   {
    "duration": 10,
    "start_time": "2022-05-23T20:51:23.260Z"
   },
   {
    "duration": 6,
    "start_time": "2022-05-23T20:51:23.272Z"
   },
   {
    "duration": 12,
    "start_time": "2022-05-23T20:51:23.279Z"
   },
   {
    "duration": 9,
    "start_time": "2022-05-23T20:51:23.293Z"
   },
   {
    "duration": 13,
    "start_time": "2022-05-23T20:51:23.304Z"
   },
   {
    "duration": 4,
    "start_time": "2022-05-23T20:51:23.318Z"
   },
   {
    "duration": 14,
    "start_time": "2022-05-23T20:51:23.324Z"
   },
   {
    "duration": 26,
    "start_time": "2022-05-23T20:51:23.340Z"
   },
   {
    "duration": 4,
    "start_time": "2022-05-23T20:51:23.368Z"
   },
   {
    "duration": 17,
    "start_time": "2022-05-23T20:51:23.373Z"
   },
   {
    "duration": 15,
    "start_time": "2022-05-23T20:51:23.392Z"
   },
   {
    "duration": 28,
    "start_time": "2022-05-23T20:51:23.408Z"
   },
   {
    "duration": 4,
    "start_time": "2022-05-23T20:51:23.464Z"
   },
   {
    "duration": 7,
    "start_time": "2022-05-23T20:51:23.470Z"
   },
   {
    "duration": 6,
    "start_time": "2022-05-23T20:51:23.479Z"
   },
   {
    "duration": 13,
    "start_time": "2022-05-23T20:51:23.486Z"
   },
   {
    "duration": 8,
    "start_time": "2022-05-23T20:51:23.501Z"
   },
   {
    "duration": 9,
    "start_time": "2022-05-23T20:51:23.511Z"
   },
   {
    "duration": 13,
    "start_time": "2022-05-23T20:51:23.521Z"
   },
   {
    "duration": 4,
    "start_time": "2022-05-23T20:51:23.565Z"
   },
   {
    "duration": 20,
    "start_time": "2022-05-23T20:51:23.570Z"
   },
   {
    "duration": 17,
    "start_time": "2022-05-23T20:51:23.591Z"
   },
   {
    "duration": 14,
    "start_time": "2022-05-23T20:51:23.610Z"
   },
   {
    "duration": 157,
    "start_time": "2022-05-23T20:51:23.625Z"
   },
   {
    "duration": 7,
    "start_time": "2022-05-23T20:51:23.783Z"
   },
   {
    "duration": 29,
    "start_time": "2022-05-23T20:51:23.791Z"
   },
   {
    "duration": 9,
    "start_time": "2022-05-23T20:51:23.821Z"
   },
   {
    "duration": 18,
    "start_time": "2022-05-23T20:54:55.174Z"
   },
   {
    "duration": 8,
    "start_time": "2022-05-23T20:54:58.434Z"
   },
   {
    "duration": 9,
    "start_time": "2022-05-23T20:55:07.968Z"
   },
   {
    "duration": 8,
    "start_time": "2022-05-23T20:55:45.994Z"
   },
   {
    "duration": 4,
    "start_time": "2022-05-23T20:55:50.289Z"
   },
   {
    "duration": 5,
    "start_time": "2022-05-23T20:56:02.358Z"
   },
   {
    "duration": 5,
    "start_time": "2022-05-23T20:56:21.700Z"
   },
   {
    "duration": 8,
    "start_time": "2022-05-23T20:56:37.807Z"
   },
   {
    "duration": 5,
    "start_time": "2022-05-23T20:56:46.382Z"
   },
   {
    "duration": 15,
    "start_time": "2022-05-23T20:57:11.904Z"
   },
   {
    "duration": 4,
    "start_time": "2022-05-23T21:00:37.088Z"
   },
   {
    "duration": 6,
    "start_time": "2022-05-23T21:00:48.546Z"
   },
   {
    "duration": 6,
    "start_time": "2022-05-23T21:01:02.819Z"
   },
   {
    "duration": 6,
    "start_time": "2022-05-23T21:01:05.686Z"
   },
   {
    "duration": 6,
    "start_time": "2022-05-23T21:01:27.411Z"
   },
   {
    "duration": 6,
    "start_time": "2022-05-23T21:03:17.989Z"
   },
   {
    "duration": 6,
    "start_time": "2022-05-23T21:03:21.839Z"
   },
   {
    "duration": 7,
    "start_time": "2022-05-23T21:03:28.197Z"
   },
   {
    "duration": 6,
    "start_time": "2022-05-23T21:03:42.289Z"
   },
   {
    "duration": 4,
    "start_time": "2022-05-23T21:03:48.640Z"
   },
   {
    "duration": 10,
    "start_time": "2022-05-23T21:05:02.027Z"
   },
   {
    "duration": 7,
    "start_time": "2022-05-23T21:05:46.631Z"
   },
   {
    "duration": 18,
    "start_time": "2022-05-23T21:21:05.777Z"
   },
   {
    "duration": 15,
    "start_time": "2022-05-23T21:21:14.769Z"
   },
   {
    "duration": 9,
    "start_time": "2022-05-23T21:25:01.282Z"
   },
   {
    "duration": 20,
    "start_time": "2022-05-23T21:31:38.890Z"
   },
   {
    "duration": 11,
    "start_time": "2022-05-23T21:32:08.841Z"
   },
   {
    "duration": 91,
    "start_time": "2022-05-23T21:36:38.670Z"
   },
   {
    "duration": 9,
    "start_time": "2022-05-23T21:36:38.763Z"
   },
   {
    "duration": 10,
    "start_time": "2022-05-23T21:36:38.773Z"
   },
   {
    "duration": 11,
    "start_time": "2022-05-23T21:36:38.785Z"
   },
   {
    "duration": 3,
    "start_time": "2022-05-23T21:36:38.799Z"
   },
   {
    "duration": 4,
    "start_time": "2022-05-23T21:36:38.804Z"
   },
   {
    "duration": 8,
    "start_time": "2022-05-23T21:36:38.809Z"
   },
   {
    "duration": 8,
    "start_time": "2022-05-23T21:36:38.819Z"
   },
   {
    "duration": 41,
    "start_time": "2022-05-23T21:36:38.828Z"
   },
   {
    "duration": 7,
    "start_time": "2022-05-23T21:36:38.871Z"
   },
   {
    "duration": 8,
    "start_time": "2022-05-23T21:36:38.880Z"
   },
   {
    "duration": 12,
    "start_time": "2022-05-23T21:36:38.890Z"
   },
   {
    "duration": 14,
    "start_time": "2022-05-23T21:36:38.903Z"
   },
   {
    "duration": 8,
    "start_time": "2022-05-23T21:36:38.921Z"
   },
   {
    "duration": 5,
    "start_time": "2022-05-23T21:36:38.965Z"
   },
   {
    "duration": 22,
    "start_time": "2022-05-23T21:36:38.972Z"
   },
   {
    "duration": 22,
    "start_time": "2022-05-23T21:36:38.996Z"
   },
   {
    "duration": 8,
    "start_time": "2022-05-23T21:36:39.019Z"
   },
   {
    "duration": 18,
    "start_time": "2022-05-23T21:36:39.028Z"
   },
   {
    "duration": 14,
    "start_time": "2022-05-23T21:36:39.047Z"
   },
   {
    "duration": 27,
    "start_time": "2022-05-23T21:36:39.064Z"
   },
   {
    "duration": 4,
    "start_time": "2022-05-23T21:36:39.093Z"
   },
   {
    "duration": 5,
    "start_time": "2022-05-23T21:36:39.099Z"
   },
   {
    "duration": 6,
    "start_time": "2022-05-23T21:36:39.106Z"
   },
   {
    "duration": 14,
    "start_time": "2022-05-23T21:36:39.113Z"
   },
   {
    "duration": 38,
    "start_time": "2022-05-23T21:36:39.128Z"
   },
   {
    "duration": 7,
    "start_time": "2022-05-23T21:36:39.168Z"
   },
   {
    "duration": 11,
    "start_time": "2022-05-23T21:36:39.177Z"
   },
   {
    "duration": 6,
    "start_time": "2022-05-23T21:36:39.189Z"
   },
   {
    "duration": 24,
    "start_time": "2022-05-23T21:36:39.196Z"
   },
   {
    "duration": 4,
    "start_time": "2022-05-23T21:36:39.222Z"
   },
   {
    "duration": 12,
    "start_time": "2022-05-23T21:36:39.227Z"
   },
   {
    "duration": 158,
    "start_time": "2022-05-23T21:36:39.240Z"
   },
   {
    "duration": 7,
    "start_time": "2022-05-23T21:36:39.399Z"
   },
   {
    "duration": 26,
    "start_time": "2022-05-23T21:36:39.408Z"
   },
   {
    "duration": 9,
    "start_time": "2022-05-23T21:36:39.435Z"
   },
   {
    "duration": 27,
    "start_time": "2022-05-23T21:36:39.445Z"
   },
   {
    "duration": 7,
    "start_time": "2022-05-23T21:36:39.473Z"
   },
   {
    "duration": 16,
    "start_time": "2022-05-23T21:36:39.482Z"
   },
   {
    "duration": 7,
    "start_time": "2022-05-23T21:36:39.499Z"
   },
   {
    "duration": 16,
    "start_time": "2022-05-23T21:36:39.509Z"
   },
   {
    "duration": 39,
    "start_time": "2022-05-23T21:36:39.526Z"
   },
   {
    "duration": 89,
    "start_time": "2022-05-23T21:51:09.638Z"
   },
   {
    "duration": 9,
    "start_time": "2022-05-23T21:51:09.729Z"
   },
   {
    "duration": 10,
    "start_time": "2022-05-23T21:51:09.764Z"
   },
   {
    "duration": 12,
    "start_time": "2022-05-23T21:51:09.776Z"
   },
   {
    "duration": 3,
    "start_time": "2022-05-23T21:51:09.790Z"
   },
   {
    "duration": 4,
    "start_time": "2022-05-23T21:51:09.794Z"
   },
   {
    "duration": 11,
    "start_time": "2022-05-23T21:51:09.799Z"
   },
   {
    "duration": 6,
    "start_time": "2022-05-23T21:51:09.811Z"
   },
   {
    "duration": 6,
    "start_time": "2022-05-23T21:51:09.819Z"
   },
   {
    "duration": 39,
    "start_time": "2022-05-23T21:51:09.828Z"
   },
   {
    "duration": 5,
    "start_time": "2022-05-23T21:51:09.869Z"
   },
   {
    "duration": 11,
    "start_time": "2022-05-23T21:51:09.876Z"
   },
   {
    "duration": 11,
    "start_time": "2022-05-23T21:51:09.889Z"
   },
   {
    "duration": 11,
    "start_time": "2022-05-23T21:51:09.901Z"
   },
   {
    "duration": 7,
    "start_time": "2022-05-23T21:51:09.913Z"
   },
   {
    "duration": 15,
    "start_time": "2022-05-23T21:51:09.922Z"
   },
   {
    "duration": 11,
    "start_time": "2022-05-23T21:51:09.964Z"
   },
   {
    "duration": 5,
    "start_time": "2022-05-23T21:51:09.976Z"
   },
   {
    "duration": 16,
    "start_time": "2022-05-23T21:51:09.983Z"
   },
   {
    "duration": 18,
    "start_time": "2022-05-23T21:51:10.001Z"
   },
   {
    "duration": 61,
    "start_time": "2022-05-23T21:51:10.021Z"
   },
   {
    "duration": 5,
    "start_time": "2022-05-23T21:51:10.084Z"
   },
   {
    "duration": 7,
    "start_time": "2022-05-23T21:51:10.091Z"
   },
   {
    "duration": 6,
    "start_time": "2022-05-23T21:51:10.099Z"
   },
   {
    "duration": 17,
    "start_time": "2022-05-23T21:51:10.107Z"
   },
   {
    "duration": 44,
    "start_time": "2022-05-23T21:51:10.125Z"
   },
   {
    "duration": 9,
    "start_time": "2022-05-23T21:51:10.170Z"
   },
   {
    "duration": 12,
    "start_time": "2022-05-23T21:51:10.182Z"
   },
   {
    "duration": 4,
    "start_time": "2022-05-23T21:51:10.196Z"
   },
   {
    "duration": 18,
    "start_time": "2022-05-23T21:51:10.201Z"
   },
   {
    "duration": 5,
    "start_time": "2022-05-23T21:51:10.221Z"
   },
   {
    "duration": 3,
    "start_time": "2022-05-23T21:51:10.228Z"
   },
   {
    "duration": 139,
    "start_time": "2022-05-23T21:51:10.265Z"
   },
   {
    "duration": 7,
    "start_time": "2022-05-23T21:51:10.405Z"
   },
   {
    "duration": 26,
    "start_time": "2022-05-23T21:51:10.414Z"
   },
   {
    "duration": 32,
    "start_time": "2022-05-23T21:51:10.442Z"
   },
   {
    "duration": 24,
    "start_time": "2022-05-23T21:51:10.476Z"
   },
   {
    "duration": 8,
    "start_time": "2022-05-23T21:51:10.502Z"
   },
   {
    "duration": 23,
    "start_time": "2022-05-23T21:51:10.512Z"
   },
   {
    "duration": 7,
    "start_time": "2022-05-23T21:51:10.537Z"
   },
   {
    "duration": 20,
    "start_time": "2022-05-23T21:51:10.565Z"
   },
   {
    "duration": 10,
    "start_time": "2022-05-23T21:51:10.586Z"
   },
   {
    "duration": 1092,
    "start_time": "2022-05-24T05:28:19.681Z"
   },
   {
    "duration": 9,
    "start_time": "2022-05-24T05:28:20.776Z"
   },
   {
    "duration": 11,
    "start_time": "2022-05-24T05:28:20.787Z"
   },
   {
    "duration": 13,
    "start_time": "2022-05-24T05:28:20.800Z"
   },
   {
    "duration": 4,
    "start_time": "2022-05-24T05:28:20.815Z"
   },
   {
    "duration": 7,
    "start_time": "2022-05-24T05:28:20.820Z"
   },
   {
    "duration": 10,
    "start_time": "2022-05-24T05:28:20.851Z"
   },
   {
    "duration": 13,
    "start_time": "2022-05-24T05:28:20.862Z"
   },
   {
    "duration": 8,
    "start_time": "2022-05-24T05:28:20.876Z"
   },
   {
    "duration": 8,
    "start_time": "2022-05-24T05:28:20.886Z"
   },
   {
    "duration": 12,
    "start_time": "2022-05-24T05:28:20.895Z"
   },
   {
    "duration": 15,
    "start_time": "2022-05-24T05:28:20.909Z"
   },
   {
    "duration": 10,
    "start_time": "2022-05-24T05:28:20.925Z"
   },
   {
    "duration": 21,
    "start_time": "2022-05-24T05:28:20.936Z"
   },
   {
    "duration": 14,
    "start_time": "2022-05-24T05:28:20.959Z"
   },
   {
    "duration": 10,
    "start_time": "2022-05-24T05:28:20.974Z"
   },
   {
    "duration": 14,
    "start_time": "2022-05-24T05:28:20.986Z"
   },
   {
    "duration": 7,
    "start_time": "2022-05-24T05:28:21.001Z"
   },
   {
    "duration": 16,
    "start_time": "2022-05-24T05:28:21.009Z"
   },
   {
    "duration": 39,
    "start_time": "2022-05-24T05:28:21.027Z"
   },
   {
    "duration": 35,
    "start_time": "2022-05-24T05:28:21.068Z"
   },
   {
    "duration": 4,
    "start_time": "2022-05-24T05:28:21.106Z"
   },
   {
    "duration": 8,
    "start_time": "2022-05-24T05:28:21.112Z"
   },
   {
    "duration": 30,
    "start_time": "2022-05-24T05:28:21.122Z"
   },
   {
    "duration": 13,
    "start_time": "2022-05-24T05:28:21.153Z"
   },
   {
    "duration": 15,
    "start_time": "2022-05-24T05:28:21.168Z"
   },
   {
    "duration": 13,
    "start_time": "2022-05-24T05:28:21.184Z"
   },
   {
    "duration": 14,
    "start_time": "2022-05-24T05:28:21.200Z"
   },
   {
    "duration": 7,
    "start_time": "2022-05-24T05:28:21.216Z"
   },
   {
    "duration": 33,
    "start_time": "2022-05-24T05:28:21.224Z"
   },
   {
    "duration": 5,
    "start_time": "2022-05-24T05:28:21.259Z"
   },
   {
    "duration": 8,
    "start_time": "2022-05-24T05:28:21.265Z"
   },
   {
    "duration": 301,
    "start_time": "2022-05-24T05:28:21.274Z"
   },
   {
    "duration": 9,
    "start_time": "2022-05-24T05:28:21.577Z"
   },
   {
    "duration": 69,
    "start_time": "2022-05-24T05:28:21.588Z"
   },
   {
    "duration": 14,
    "start_time": "2022-05-24T05:28:21.659Z"
   },
   {
    "duration": 86,
    "start_time": "2022-05-24T05:28:21.675Z"
   },
   {
    "duration": 8,
    "start_time": "2022-05-24T05:28:21.763Z"
   },
   {
    "duration": 18,
    "start_time": "2022-05-24T05:28:21.772Z"
   },
   {
    "duration": 9,
    "start_time": "2022-05-24T05:28:21.852Z"
   },
   {
    "duration": 22,
    "start_time": "2022-05-24T05:28:21.863Z"
   },
   {
    "duration": 8,
    "start_time": "2022-05-24T05:28:21.886Z"
   },
   {
    "duration": 31,
    "start_time": "2022-05-24T05:32:02.495Z"
   },
   {
    "duration": 11,
    "start_time": "2022-05-24T05:32:47.379Z"
   },
   {
    "duration": 4,
    "start_time": "2022-05-24T06:54:29.406Z"
   },
   {
    "duration": 5,
    "start_time": "2022-05-24T06:55:33.070Z"
   },
   {
    "duration": 3,
    "start_time": "2022-05-24T06:59:40.556Z"
   },
   {
    "duration": 3,
    "start_time": "2022-05-24T07:00:27.607Z"
   },
   {
    "duration": 5,
    "start_time": "2022-05-24T07:01:31.417Z"
   },
   {
    "duration": 4,
    "start_time": "2022-05-24T07:02:56.908Z"
   },
   {
    "duration": 4,
    "start_time": "2022-05-24T07:04:04.219Z"
   },
   {
    "duration": 5,
    "start_time": "2022-05-24T07:05:08.681Z"
   },
   {
    "duration": 5,
    "start_time": "2022-05-24T07:05:33.505Z"
   },
   {
    "duration": 4,
    "start_time": "2022-05-24T07:05:36.182Z"
   },
   {
    "duration": 89,
    "start_time": "2022-05-24T07:09:26.753Z"
   },
   {
    "duration": 9,
    "start_time": "2022-05-24T07:09:26.844Z"
   },
   {
    "duration": 13,
    "start_time": "2022-05-24T07:09:26.855Z"
   },
   {
    "duration": 13,
    "start_time": "2022-05-24T07:09:26.894Z"
   },
   {
    "duration": 8,
    "start_time": "2022-05-24T07:09:26.909Z"
   },
   {
    "duration": 6,
    "start_time": "2022-05-24T07:09:26.918Z"
   },
   {
    "duration": 10,
    "start_time": "2022-05-24T07:09:26.926Z"
   },
   {
    "duration": 6,
    "start_time": "2022-05-24T07:09:26.937Z"
   },
   {
    "duration": 12,
    "start_time": "2022-05-24T07:09:26.945Z"
   },
   {
    "duration": 8,
    "start_time": "2022-05-24T07:09:26.960Z"
   },
   {
    "duration": 27,
    "start_time": "2022-05-24T07:09:26.970Z"
   },
   {
    "duration": 19,
    "start_time": "2022-05-24T07:09:26.998Z"
   },
   {
    "duration": 18,
    "start_time": "2022-05-24T07:09:27.018Z"
   },
   {
    "duration": 21,
    "start_time": "2022-05-24T07:09:27.038Z"
   },
   {
    "duration": 11,
    "start_time": "2022-05-24T07:09:27.061Z"
   },
   {
    "duration": 26,
    "start_time": "2022-05-24T07:09:27.073Z"
   },
   {
    "duration": 20,
    "start_time": "2022-05-24T07:09:27.101Z"
   },
   {
    "duration": 33,
    "start_time": "2022-05-24T07:09:27.123Z"
   },
   {
    "duration": 32,
    "start_time": "2022-05-24T07:09:27.157Z"
   },
   {
    "duration": 33,
    "start_time": "2022-05-24T07:09:27.190Z"
   },
   {
    "duration": 32,
    "start_time": "2022-05-24T07:09:27.224Z"
   },
   {
    "duration": 3,
    "start_time": "2022-05-24T07:09:27.258Z"
   },
   {
    "duration": 24,
    "start_time": "2022-05-24T07:09:27.262Z"
   },
   {
    "duration": 27,
    "start_time": "2022-05-24T07:09:27.287Z"
   },
   {
    "duration": 32,
    "start_time": "2022-05-24T07:09:27.316Z"
   },
   {
    "duration": 13,
    "start_time": "2022-05-24T07:09:27.349Z"
   },
   {
    "duration": 25,
    "start_time": "2022-05-24T07:09:27.363Z"
   },
   {
    "duration": 14,
    "start_time": "2022-05-24T07:09:27.391Z"
   },
   {
    "duration": 18,
    "start_time": "2022-05-24T07:09:27.407Z"
   },
   {
    "duration": 29,
    "start_time": "2022-05-24T07:09:27.427Z"
   },
   {
    "duration": 9,
    "start_time": "2022-05-24T07:09:27.457Z"
   },
   {
    "duration": 25,
    "start_time": "2022-05-24T07:09:27.467Z"
   },
   {
    "duration": 138,
    "start_time": "2022-05-24T07:09:27.494Z"
   },
   {
    "duration": 6,
    "start_time": "2022-05-24T07:09:27.633Z"
   },
   {
    "duration": 23,
    "start_time": "2022-05-24T07:09:27.640Z"
   },
   {
    "duration": 19,
    "start_time": "2022-05-24T07:09:27.665Z"
   },
   {
    "duration": 22,
    "start_time": "2022-05-24T07:09:27.685Z"
   },
   {
    "duration": 18,
    "start_time": "2022-05-24T07:09:27.709Z"
   },
   {
    "duration": 19,
    "start_time": "2022-05-24T07:09:27.728Z"
   },
   {
    "duration": 25,
    "start_time": "2022-05-24T07:09:27.749Z"
   },
   {
    "duration": 16,
    "start_time": "2022-05-24T07:09:27.776Z"
   },
   {
    "duration": 34,
    "start_time": "2022-05-24T07:09:27.793Z"
   },
   {
    "duration": 11,
    "start_time": "2022-05-24T07:09:27.828Z"
   },
   {
    "duration": 28,
    "start_time": "2022-05-24T07:09:27.840Z"
   },
   {
    "duration": 16,
    "start_time": "2022-05-24T07:09:27.869Z"
   },
   {
    "duration": 37,
    "start_time": "2022-05-24T07:09:27.887Z"
   },
   {
    "duration": 6,
    "start_time": "2022-05-24T07:09:27.926Z"
   },
   {
    "duration": 4,
    "start_time": "2022-05-24T07:12:13.792Z"
   },
   {
    "duration": 4,
    "start_time": "2022-05-24T07:14:16.098Z"
   },
   {
    "duration": 4,
    "start_time": "2022-05-24T07:14:49.827Z"
   },
   {
    "duration": 4,
    "start_time": "2022-05-24T07:15:43.214Z"
   },
   {
    "duration": 4,
    "start_time": "2022-05-24T07:16:48.180Z"
   },
   {
    "duration": 5,
    "start_time": "2022-05-24T07:17:59.469Z"
   },
   {
    "duration": 3,
    "start_time": "2022-05-24T07:18:58.450Z"
   },
   {
    "duration": 4,
    "start_time": "2022-05-24T07:19:31.162Z"
   },
   {
    "duration": 4,
    "start_time": "2022-05-24T07:19:32.702Z"
   },
   {
    "duration": 41,
    "start_time": "2022-05-24T07:20:52.077Z"
   },
   {
    "duration": 40,
    "start_time": "2022-05-24T07:20:59.110Z"
   },
   {
    "duration": 89,
    "start_time": "2022-05-24T07:21:56.767Z"
   },
   {
    "duration": 8,
    "start_time": "2022-05-24T07:21:56.858Z"
   },
   {
    "duration": 37,
    "start_time": "2022-05-24T07:21:56.867Z"
   },
   {
    "duration": 19,
    "start_time": "2022-05-24T07:21:56.909Z"
   },
   {
    "duration": 4,
    "start_time": "2022-05-24T07:21:56.930Z"
   },
   {
    "duration": 7,
    "start_time": "2022-05-24T07:21:56.935Z"
   },
   {
    "duration": 16,
    "start_time": "2022-05-24T07:21:56.943Z"
   },
   {
    "duration": 7,
    "start_time": "2022-05-24T07:21:56.960Z"
   },
   {
    "duration": 7,
    "start_time": "2022-05-24T07:21:56.969Z"
   },
   {
    "duration": 20,
    "start_time": "2022-05-24T07:21:56.978Z"
   },
   {
    "duration": 8,
    "start_time": "2022-05-24T07:21:56.999Z"
   },
   {
    "duration": 15,
    "start_time": "2022-05-24T07:21:57.008Z"
   },
   {
    "duration": 9,
    "start_time": "2022-05-24T07:21:57.025Z"
   },
   {
    "duration": 7,
    "start_time": "2022-05-24T07:21:57.036Z"
   },
   {
    "duration": 10,
    "start_time": "2022-05-24T07:21:57.044Z"
   },
   {
    "duration": 13,
    "start_time": "2022-05-24T07:21:57.055Z"
   },
   {
    "duration": 33,
    "start_time": "2022-05-24T07:21:57.070Z"
   },
   {
    "duration": 4,
    "start_time": "2022-05-24T07:21:57.105Z"
   },
   {
    "duration": 17,
    "start_time": "2022-05-24T07:21:57.111Z"
   },
   {
    "duration": 15,
    "start_time": "2022-05-24T07:21:57.130Z"
   },
   {
    "duration": 60,
    "start_time": "2022-05-24T07:21:57.147Z"
   },
   {
    "duration": 4,
    "start_time": "2022-05-24T07:21:57.209Z"
   },
   {
    "duration": 7,
    "start_time": "2022-05-24T07:21:57.215Z"
   },
   {
    "duration": 6,
    "start_time": "2022-05-24T07:21:57.223Z"
   },
   {
    "duration": 14,
    "start_time": "2022-05-24T07:21:57.230Z"
   },
   {
    "duration": 7,
    "start_time": "2022-05-24T07:21:57.245Z"
   },
   {
    "duration": 14,
    "start_time": "2022-05-24T07:21:57.254Z"
   },
   {
    "duration": 11,
    "start_time": "2022-05-24T07:21:57.293Z"
   },
   {
    "duration": 4,
    "start_time": "2022-05-24T07:21:57.306Z"
   },
   {
    "duration": 17,
    "start_time": "2022-05-24T07:21:57.312Z"
   },
   {
    "duration": 4,
    "start_time": "2022-05-24T07:21:57.330Z"
   },
   {
    "duration": 4,
    "start_time": "2022-05-24T07:21:57.336Z"
   },
   {
    "duration": 149,
    "start_time": "2022-05-24T07:21:57.341Z"
   },
   {
    "duration": 6,
    "start_time": "2022-05-24T07:21:57.492Z"
   },
   {
    "duration": 16,
    "start_time": "2022-05-24T07:21:57.499Z"
   },
   {
    "duration": 8,
    "start_time": "2022-05-24T07:21:57.517Z"
   },
   {
    "duration": 7,
    "start_time": "2022-05-24T07:21:57.526Z"
   },
   {
    "duration": 5,
    "start_time": "2022-05-24T07:21:57.534Z"
   },
   {
    "duration": 5,
    "start_time": "2022-05-24T07:21:57.540Z"
   },
   {
    "duration": 9,
    "start_time": "2022-05-24T07:21:57.546Z"
   },
   {
    "duration": 6,
    "start_time": "2022-05-24T07:21:57.556Z"
   },
   {
    "duration": 42,
    "start_time": "2022-05-24T07:21:57.563Z"
   },
   {
    "duration": 7,
    "start_time": "2022-05-24T07:21:57.607Z"
   },
   {
    "duration": 5,
    "start_time": "2022-05-24T07:21:57.615Z"
   },
   {
    "duration": 5,
    "start_time": "2022-05-24T07:21:57.621Z"
   },
   {
    "duration": 6,
    "start_time": "2022-05-24T07:21:57.627Z"
   },
   {
    "duration": 7,
    "start_time": "2022-05-24T07:21:57.634Z"
   },
   {
    "duration": 6,
    "start_time": "2022-05-24T07:21:57.642Z"
   },
   {
    "duration": 45,
    "start_time": "2022-05-24T07:21:57.649Z"
   },
   {
    "duration": 7,
    "start_time": "2022-05-24T07:21:57.695Z"
   },
   {
    "duration": 17,
    "start_time": "2022-05-24T07:21:57.703Z"
   },
   {
    "duration": 7,
    "start_time": "2022-05-24T07:21:57.721Z"
   },
   {
    "duration": 710,
    "start_time": "2022-05-24T07:23:58.420Z"
   },
   {
    "duration": 86,
    "start_time": "2022-05-24T07:25:06.096Z"
   },
   {
    "duration": 13,
    "start_time": "2022-05-24T07:25:06.184Z"
   },
   {
    "duration": 11,
    "start_time": "2022-05-24T07:25:06.199Z"
   },
   {
    "duration": 11,
    "start_time": "2022-05-24T07:25:06.212Z"
   },
   {
    "duration": 8,
    "start_time": "2022-05-24T07:25:06.225Z"
   },
   {
    "duration": 11,
    "start_time": "2022-05-24T07:25:06.235Z"
   },
   {
    "duration": 11,
    "start_time": "2022-05-24T07:25:06.247Z"
   },
   {
    "duration": 15,
    "start_time": "2022-05-24T07:25:06.260Z"
   },
   {
    "duration": 4,
    "start_time": "2022-05-24T07:25:06.294Z"
   },
   {
    "duration": 6,
    "start_time": "2022-05-24T07:25:06.301Z"
   },
   {
    "duration": 6,
    "start_time": "2022-05-24T07:25:06.308Z"
   },
   {
    "duration": 7,
    "start_time": "2022-05-24T07:25:06.315Z"
   },
   {
    "duration": 8,
    "start_time": "2022-05-24T07:25:06.323Z"
   },
   {
    "duration": 5,
    "start_time": "2022-05-24T07:25:06.333Z"
   },
   {
    "duration": 7,
    "start_time": "2022-05-24T07:25:06.339Z"
   },
   {
    "duration": 9,
    "start_time": "2022-05-24T07:25:06.348Z"
   },
   {
    "duration": 41,
    "start_time": "2022-05-24T07:25:06.359Z"
   },
   {
    "duration": 3,
    "start_time": "2022-05-24T07:25:06.402Z"
   },
   {
    "duration": 15,
    "start_time": "2022-05-24T07:25:06.406Z"
   },
   {
    "duration": 13,
    "start_time": "2022-05-24T07:25:06.423Z"
   },
   {
    "duration": 25,
    "start_time": "2022-05-24T07:25:06.437Z"
   },
   {
    "duration": 4,
    "start_time": "2022-05-24T07:25:06.463Z"
   },
   {
    "duration": 28,
    "start_time": "2022-05-24T07:25:06.468Z"
   },
   {
    "duration": 6,
    "start_time": "2022-05-24T07:25:06.497Z"
   },
   {
    "duration": 14,
    "start_time": "2022-05-24T07:25:06.504Z"
   },
   {
    "duration": 8,
    "start_time": "2022-05-24T07:25:06.519Z"
   },
   {
    "duration": 14,
    "start_time": "2022-05-24T07:25:06.528Z"
   },
   {
    "duration": 12,
    "start_time": "2022-05-24T07:25:06.545Z"
   },
   {
    "duration": 5,
    "start_time": "2022-05-24T07:25:06.558Z"
   },
   {
    "duration": 39,
    "start_time": "2022-05-24T07:25:06.564Z"
   },
   {
    "duration": 5,
    "start_time": "2022-05-24T07:25:06.604Z"
   },
   {
    "duration": 6,
    "start_time": "2022-05-24T07:25:06.610Z"
   },
   {
    "duration": 138,
    "start_time": "2022-05-24T07:25:06.617Z"
   },
   {
    "duration": 6,
    "start_time": "2022-05-24T07:25:06.756Z"
   },
   {
    "duration": 31,
    "start_time": "2022-05-24T07:25:06.763Z"
   },
   {
    "duration": 7,
    "start_time": "2022-05-24T07:25:06.796Z"
   },
   {
    "duration": 6,
    "start_time": "2022-05-24T07:25:06.804Z"
   },
   {
    "duration": 5,
    "start_time": "2022-05-24T07:25:06.811Z"
   },
   {
    "duration": 8,
    "start_time": "2022-05-24T07:25:06.817Z"
   },
   {
    "duration": 8,
    "start_time": "2022-05-24T07:25:06.826Z"
   },
   {
    "duration": 5,
    "start_time": "2022-05-24T07:25:06.835Z"
   },
   {
    "duration": 16,
    "start_time": "2022-05-24T07:25:06.841Z"
   },
   {
    "duration": 7,
    "start_time": "2022-05-24T07:25:06.858Z"
   },
   {
    "duration": 4,
    "start_time": "2022-05-24T07:25:06.894Z"
   },
   {
    "duration": 7,
    "start_time": "2022-05-24T07:25:06.900Z"
   },
   {
    "duration": 7,
    "start_time": "2022-05-24T07:25:06.908Z"
   },
   {
    "duration": 5,
    "start_time": "2022-05-24T07:25:06.916Z"
   },
   {
    "duration": 5,
    "start_time": "2022-05-24T07:25:06.922Z"
   },
   {
    "duration": 18,
    "start_time": "2022-05-24T07:25:06.928Z"
   },
   {
    "duration": 6,
    "start_time": "2022-05-24T07:25:06.948Z"
   },
   {
    "duration": 485,
    "start_time": "2022-05-24T07:25:06.956Z"
   },
   {
    "duration": 0,
    "start_time": "2022-05-24T07:25:07.443Z"
   },
   {
    "duration": 0,
    "start_time": "2022-05-24T07:25:07.445Z"
   },
   {
    "duration": 462,
    "start_time": "2022-05-24T07:25:33.712Z"
   },
   {
    "duration": 449,
    "start_time": "2022-05-24T07:25:59.648Z"
   },
   {
    "duration": 3,
    "start_time": "2022-05-24T07:26:24.206Z"
   },
   {
    "duration": 4,
    "start_time": "2022-05-24T07:27:09.902Z"
   },
   {
    "duration": 4,
    "start_time": "2022-05-24T07:27:53.801Z"
   },
   {
    "duration": 5,
    "start_time": "2022-05-24T07:28:29.377Z"
   },
   {
    "duration": 4,
    "start_time": "2022-05-24T07:29:12.126Z"
   },
   {
    "duration": 4,
    "start_time": "2022-05-24T07:29:55.526Z"
   },
   {
    "duration": 85,
    "start_time": "2022-05-24T07:31:37.846Z"
   },
   {
    "duration": 8,
    "start_time": "2022-05-24T07:31:37.933Z"
   },
   {
    "duration": 9,
    "start_time": "2022-05-24T07:31:37.943Z"
   },
   {
    "duration": 42,
    "start_time": "2022-05-24T07:31:37.953Z"
   },
   {
    "duration": 3,
    "start_time": "2022-05-24T07:31:37.997Z"
   },
   {
    "duration": 6,
    "start_time": "2022-05-24T07:31:38.002Z"
   },
   {
    "duration": 9,
    "start_time": "2022-05-24T07:31:38.009Z"
   },
   {
    "duration": 5,
    "start_time": "2022-05-24T07:31:38.020Z"
   },
   {
    "duration": 5,
    "start_time": "2022-05-24T07:31:38.026Z"
   },
   {
    "duration": 5,
    "start_time": "2022-05-24T07:31:38.033Z"
   },
   {
    "duration": 7,
    "start_time": "2022-05-24T07:31:38.040Z"
   },
   {
    "duration": 7,
    "start_time": "2022-05-24T07:31:38.048Z"
   },
   {
    "duration": 47,
    "start_time": "2022-05-24T07:31:38.056Z"
   },
   {
    "duration": 6,
    "start_time": "2022-05-24T07:31:38.104Z"
   },
   {
    "duration": 4,
    "start_time": "2022-05-24T07:31:38.112Z"
   },
   {
    "duration": 9,
    "start_time": "2022-05-24T07:31:38.117Z"
   },
   {
    "duration": 10,
    "start_time": "2022-05-24T07:31:38.127Z"
   },
   {
    "duration": 7,
    "start_time": "2022-05-24T07:31:38.138Z"
   },
   {
    "duration": 15,
    "start_time": "2022-05-24T07:31:38.146Z"
   },
   {
    "duration": 44,
    "start_time": "2022-05-24T07:31:38.162Z"
   },
   {
    "duration": 28,
    "start_time": "2022-05-24T07:31:38.207Z"
   },
   {
    "duration": 4,
    "start_time": "2022-05-24T07:31:38.236Z"
   },
   {
    "duration": 9,
    "start_time": "2022-05-24T07:31:38.241Z"
   },
   {
    "duration": 5,
    "start_time": "2022-05-24T07:31:38.252Z"
   },
   {
    "duration": 36,
    "start_time": "2022-05-24T07:31:38.258Z"
   },
   {
    "duration": 8,
    "start_time": "2022-05-24T07:31:38.295Z"
   },
   {
    "duration": 11,
    "start_time": "2022-05-24T07:31:38.304Z"
   },
   {
    "duration": 13,
    "start_time": "2022-05-24T07:31:38.318Z"
   },
   {
    "duration": 4,
    "start_time": "2022-05-24T07:31:38.332Z"
   },
   {
    "duration": 19,
    "start_time": "2022-05-24T07:31:38.337Z"
   },
   {
    "duration": 4,
    "start_time": "2022-05-24T07:31:38.358Z"
   },
   {
    "duration": 5,
    "start_time": "2022-05-24T07:31:38.363Z"
   },
   {
    "duration": 152,
    "start_time": "2022-05-24T07:31:38.369Z"
   },
   {
    "duration": 6,
    "start_time": "2022-05-24T07:31:38.522Z"
   },
   {
    "duration": 19,
    "start_time": "2022-05-24T07:31:38.529Z"
   },
   {
    "duration": 8,
    "start_time": "2022-05-24T07:31:38.550Z"
   },
   {
    "duration": 7,
    "start_time": "2022-05-24T07:31:38.559Z"
   },
   {
    "duration": 6,
    "start_time": "2022-05-24T07:31:38.568Z"
   },
   {
    "duration": 9,
    "start_time": "2022-05-24T07:31:38.594Z"
   },
   {
    "duration": 7,
    "start_time": "2022-05-24T07:31:38.604Z"
   },
   {
    "duration": 8,
    "start_time": "2022-05-24T07:31:38.612Z"
   },
   {
    "duration": 16,
    "start_time": "2022-05-24T07:31:38.621Z"
   },
   {
    "duration": 7,
    "start_time": "2022-05-24T07:31:38.639Z"
   },
   {
    "duration": 8,
    "start_time": "2022-05-24T07:31:38.647Z"
   },
   {
    "duration": 8,
    "start_time": "2022-05-24T07:31:38.656Z"
   },
   {
    "duration": 11,
    "start_time": "2022-05-24T07:31:38.665Z"
   },
   {
    "duration": 18,
    "start_time": "2022-05-24T07:31:38.677Z"
   },
   {
    "duration": 3,
    "start_time": "2022-05-24T07:31:38.696Z"
   },
   {
    "duration": 19,
    "start_time": "2022-05-24T07:31:38.701Z"
   },
   {
    "duration": 6,
    "start_time": "2022-05-24T07:31:38.721Z"
   },
   {
    "duration": 6,
    "start_time": "2022-05-24T07:31:38.729Z"
   },
   {
    "duration": 7,
    "start_time": "2022-05-24T07:31:38.736Z"
   },
   {
    "duration": 10,
    "start_time": "2022-05-24T07:31:38.744Z"
   },
   {
    "duration": 7,
    "start_time": "2022-05-24T07:31:38.755Z"
   },
   {
    "duration": 32,
    "start_time": "2022-05-24T07:31:38.763Z"
   },
   {
    "duration": 21,
    "start_time": "2022-05-24T07:31:38.796Z"
   },
   {
    "duration": 7,
    "start_time": "2022-05-24T07:31:38.818Z"
   },
   {
    "duration": 4,
    "start_time": "2022-05-24T07:37:48.746Z"
   },
   {
    "duration": 4,
    "start_time": "2022-05-24T07:39:22.668Z"
   },
   {
    "duration": 4,
    "start_time": "2022-05-24T07:41:09.917Z"
   },
   {
    "duration": 5,
    "start_time": "2022-05-24T07:42:20.156Z"
   },
   {
    "duration": 104,
    "start_time": "2022-05-24T07:46:19.456Z"
   },
   {
    "duration": 9,
    "start_time": "2022-05-24T07:46:19.562Z"
   },
   {
    "duration": 12,
    "start_time": "2022-05-24T07:46:19.595Z"
   },
   {
    "duration": 12,
    "start_time": "2022-05-24T07:46:19.609Z"
   },
   {
    "duration": 4,
    "start_time": "2022-05-24T07:46:19.623Z"
   },
   {
    "duration": 5,
    "start_time": "2022-05-24T07:46:19.628Z"
   },
   {
    "duration": 12,
    "start_time": "2022-05-24T07:46:19.635Z"
   },
   {
    "duration": 6,
    "start_time": "2022-05-24T07:46:19.649Z"
   },
   {
    "duration": 42,
    "start_time": "2022-05-24T07:46:19.656Z"
   },
   {
    "duration": 10,
    "start_time": "2022-05-24T07:46:19.701Z"
   },
   {
    "duration": 10,
    "start_time": "2022-05-24T07:46:19.712Z"
   },
   {
    "duration": 14,
    "start_time": "2022-05-24T07:46:19.723Z"
   },
   {
    "duration": 12,
    "start_time": "2022-05-24T07:46:19.738Z"
   },
   {
    "duration": 21,
    "start_time": "2022-05-24T07:46:19.753Z"
   },
   {
    "duration": 5,
    "start_time": "2022-05-24T07:46:19.776Z"
   },
   {
    "duration": 16,
    "start_time": "2022-05-24T07:46:19.783Z"
   },
   {
    "duration": 10,
    "start_time": "2022-05-24T07:46:19.800Z"
   },
   {
    "duration": 4,
    "start_time": "2022-05-24T07:46:19.811Z"
   },
   {
    "duration": 17,
    "start_time": "2022-05-24T07:46:19.816Z"
   },
   {
    "duration": 17,
    "start_time": "2022-05-24T07:46:19.835Z"
   },
   {
    "duration": 56,
    "start_time": "2022-05-24T07:46:19.853Z"
   },
   {
    "duration": 6,
    "start_time": "2022-05-24T07:46:19.911Z"
   },
   {
    "duration": 9,
    "start_time": "2022-05-24T07:46:19.918Z"
   },
   {
    "duration": 7,
    "start_time": "2022-05-24T07:46:19.928Z"
   },
   {
    "duration": 16,
    "start_time": "2022-05-24T07:46:19.937Z"
   },
   {
    "duration": 9,
    "start_time": "2022-05-24T07:46:19.955Z"
   },
   {
    "duration": 10,
    "start_time": "2022-05-24T07:46:19.995Z"
   },
   {
    "duration": 20,
    "start_time": "2022-05-24T07:46:20.010Z"
   },
   {
    "duration": 16,
    "start_time": "2022-05-24T07:46:20.032Z"
   },
   {
    "duration": 29,
    "start_time": "2022-05-24T07:46:20.050Z"
   },
   {
    "duration": 6,
    "start_time": "2022-05-24T07:46:20.081Z"
   },
   {
    "duration": 15,
    "start_time": "2022-05-24T07:46:20.093Z"
   },
   {
    "duration": 153,
    "start_time": "2022-05-24T07:46:20.109Z"
   },
   {
    "duration": 6,
    "start_time": "2022-05-24T07:46:20.264Z"
   },
   {
    "duration": 31,
    "start_time": "2022-05-24T07:46:20.272Z"
   },
   {
    "duration": 9,
    "start_time": "2022-05-24T07:46:20.305Z"
   },
   {
    "duration": 10,
    "start_time": "2022-05-24T07:46:20.316Z"
   },
   {
    "duration": 12,
    "start_time": "2022-05-24T07:46:20.327Z"
   },
   {
    "duration": 7,
    "start_time": "2022-05-24T07:46:20.340Z"
   },
   {
    "duration": 8,
    "start_time": "2022-05-24T07:46:20.348Z"
   },
   {
    "duration": 11,
    "start_time": "2022-05-24T07:46:20.357Z"
   },
   {
    "duration": 34,
    "start_time": "2022-05-24T07:46:20.369Z"
   },
   {
    "duration": 9,
    "start_time": "2022-05-24T07:46:20.404Z"
   },
   {
    "duration": 6,
    "start_time": "2022-05-24T07:46:20.415Z"
   },
   {
    "duration": 10,
    "start_time": "2022-05-24T07:46:20.423Z"
   },
   {
    "duration": 9,
    "start_time": "2022-05-24T07:46:20.435Z"
   },
   {
    "duration": 14,
    "start_time": "2022-05-24T07:46:20.445Z"
   },
   {
    "duration": 5,
    "start_time": "2022-05-24T07:46:20.461Z"
   },
   {
    "duration": 38,
    "start_time": "2022-05-24T07:46:20.467Z"
   },
   {
    "duration": 9,
    "start_time": "2022-05-24T07:46:20.507Z"
   },
   {
    "duration": 8,
    "start_time": "2022-05-24T07:46:20.517Z"
   },
   {
    "duration": 17,
    "start_time": "2022-05-24T07:46:20.527Z"
   },
   {
    "duration": 13,
    "start_time": "2022-05-24T07:46:20.545Z"
   },
   {
    "duration": 5,
    "start_time": "2022-05-24T07:46:20.560Z"
   },
   {
    "duration": 10,
    "start_time": "2022-05-24T07:46:20.566Z"
   },
   {
    "duration": 37,
    "start_time": "2022-05-24T07:46:20.578Z"
   },
   {
    "duration": 9,
    "start_time": "2022-05-24T07:46:20.617Z"
   },
   {
    "duration": 10,
    "start_time": "2022-05-24T07:46:20.628Z"
   },
   {
    "duration": 11,
    "start_time": "2022-05-24T07:46:20.639Z"
   },
   {
    "duration": 15,
    "start_time": "2022-05-24T07:46:20.652Z"
   },
   {
    "duration": 11,
    "start_time": "2022-05-24T07:46:20.670Z"
   },
   {
    "duration": 73,
    "start_time": "2022-05-24T07:49:39.347Z"
   },
   {
    "duration": 33,
    "start_time": "2022-05-24T07:49:39.422Z"
   },
   {
    "duration": 38,
    "start_time": "2022-05-24T07:49:39.457Z"
   },
   {
    "duration": 13,
    "start_time": "2022-05-24T07:49:39.497Z"
   },
   {
    "duration": 25,
    "start_time": "2022-05-24T07:49:39.511Z"
   },
   {
    "duration": 4,
    "start_time": "2022-05-24T07:49:39.538Z"
   },
   {
    "duration": 10,
    "start_time": "2022-05-24T07:49:39.544Z"
   },
   {
    "duration": 10,
    "start_time": "2022-05-24T07:49:39.557Z"
   },
   {
    "duration": 30,
    "start_time": "2022-05-24T07:49:39.568Z"
   },
   {
    "duration": 15,
    "start_time": "2022-05-24T07:49:39.600Z"
   },
   {
    "duration": 7,
    "start_time": "2022-05-24T07:49:39.617Z"
   },
   {
    "duration": 9,
    "start_time": "2022-05-24T07:49:39.625Z"
   },
   {
    "duration": 8,
    "start_time": "2022-05-24T07:49:39.636Z"
   },
   {
    "duration": 15,
    "start_time": "2022-05-24T07:49:39.645Z"
   },
   {
    "duration": 33,
    "start_time": "2022-05-24T07:49:39.662Z"
   },
   {
    "duration": 4,
    "start_time": "2022-05-24T07:49:39.697Z"
   },
   {
    "duration": 11,
    "start_time": "2022-05-24T07:49:39.702Z"
   },
   {
    "duration": 18,
    "start_time": "2022-05-24T07:49:39.715Z"
   },
   {
    "duration": 4,
    "start_time": "2022-05-24T07:49:39.735Z"
   },
   {
    "duration": 27,
    "start_time": "2022-05-24T07:49:39.740Z"
   },
   {
    "duration": 37,
    "start_time": "2022-05-24T07:49:39.769Z"
   },
   {
    "duration": 27,
    "start_time": "2022-05-24T07:49:39.808Z"
   },
   {
    "duration": 5,
    "start_time": "2022-05-24T07:49:39.837Z"
   },
   {
    "duration": 13,
    "start_time": "2022-05-24T07:49:39.844Z"
   },
   {
    "duration": 5,
    "start_time": "2022-05-24T07:49:39.858Z"
   },
   {
    "duration": 41,
    "start_time": "2022-05-24T07:49:39.864Z"
   },
   {
    "duration": 11,
    "start_time": "2022-05-24T07:49:39.907Z"
   },
   {
    "duration": 10,
    "start_time": "2022-05-24T07:49:39.923Z"
   },
   {
    "duration": 18,
    "start_time": "2022-05-24T07:49:39.935Z"
   },
   {
    "duration": 9,
    "start_time": "2022-05-24T07:49:39.955Z"
   },
   {
    "duration": 44,
    "start_time": "2022-05-24T07:49:39.965Z"
   },
   {
    "duration": 7,
    "start_time": "2022-05-24T07:49:40.010Z"
   },
   {
    "duration": 5,
    "start_time": "2022-05-24T07:49:40.018Z"
   },
   {
    "duration": 170,
    "start_time": "2022-05-24T07:49:40.025Z"
   },
   {
    "duration": 6,
    "start_time": "2022-05-24T07:49:40.197Z"
   },
   {
    "duration": 22,
    "start_time": "2022-05-24T07:49:40.205Z"
   },
   {
    "duration": 11,
    "start_time": "2022-05-24T07:49:40.228Z"
   },
   {
    "duration": 7,
    "start_time": "2022-05-24T07:49:40.240Z"
   },
   {
    "duration": 7,
    "start_time": "2022-05-24T07:49:40.248Z"
   },
   {
    "duration": 8,
    "start_time": "2022-05-24T07:49:40.256Z"
   },
   {
    "duration": 31,
    "start_time": "2022-05-24T07:49:40.265Z"
   },
   {
    "duration": 7,
    "start_time": "2022-05-24T07:49:40.298Z"
   },
   {
    "duration": 23,
    "start_time": "2022-05-24T07:49:40.306Z"
   },
   {
    "duration": 8,
    "start_time": "2022-05-24T07:49:40.330Z"
   },
   {
    "duration": 8,
    "start_time": "2022-05-24T07:49:40.340Z"
   },
   {
    "duration": 13,
    "start_time": "2022-05-24T07:49:40.349Z"
   },
   {
    "duration": 31,
    "start_time": "2022-05-24T07:49:40.364Z"
   },
   {
    "duration": 6,
    "start_time": "2022-05-24T07:49:40.397Z"
   },
   {
    "duration": 10,
    "start_time": "2022-05-24T07:49:40.405Z"
   },
   {
    "duration": 25,
    "start_time": "2022-05-24T07:49:40.417Z"
   },
   {
    "duration": 14,
    "start_time": "2022-05-24T07:49:40.444Z"
   },
   {
    "duration": 12,
    "start_time": "2022-05-24T07:49:40.460Z"
   },
   {
    "duration": 8,
    "start_time": "2022-05-24T07:49:40.474Z"
   },
   {
    "duration": 11,
    "start_time": "2022-05-24T07:49:40.484Z"
   },
   {
    "duration": 7,
    "start_time": "2022-05-24T07:49:40.496Z"
   },
   {
    "duration": 6,
    "start_time": "2022-05-24T07:49:40.504Z"
   },
   {
    "duration": 18,
    "start_time": "2022-05-24T07:49:40.511Z"
   },
   {
    "duration": 7,
    "start_time": "2022-05-24T07:49:40.531Z"
   },
   {
    "duration": 9,
    "start_time": "2022-05-24T07:49:40.539Z"
   },
   {
    "duration": 14,
    "start_time": "2022-05-24T07:49:40.550Z"
   },
   {
    "duration": 29,
    "start_time": "2022-05-24T07:49:40.566Z"
   },
   {
    "duration": 12,
    "start_time": "2022-05-24T07:49:40.597Z"
   },
   {
    "duration": 68,
    "start_time": "2022-05-24T07:50:00.451Z"
   },
   {
    "duration": 22,
    "start_time": "2022-05-24T07:50:00.521Z"
   },
   {
    "duration": 10,
    "start_time": "2022-05-24T07:50:00.544Z"
   },
   {
    "duration": 45,
    "start_time": "2022-05-24T07:50:00.556Z"
   },
   {
    "duration": 19,
    "start_time": "2022-05-24T07:50:00.603Z"
   },
   {
    "duration": 11,
    "start_time": "2022-05-24T07:50:00.624Z"
   },
   {
    "duration": 13,
    "start_time": "2022-05-24T07:50:00.637Z"
   },
   {
    "duration": 20,
    "start_time": "2022-05-24T07:50:00.652Z"
   },
   {
    "duration": 22,
    "start_time": "2022-05-24T07:50:00.674Z"
   },
   {
    "duration": 15,
    "start_time": "2022-05-24T07:50:00.699Z"
   },
   {
    "duration": 8,
    "start_time": "2022-05-24T07:50:00.716Z"
   },
   {
    "duration": 11,
    "start_time": "2022-05-24T07:50:00.726Z"
   },
   {
    "duration": 14,
    "start_time": "2022-05-24T07:50:00.738Z"
   },
   {
    "duration": 15,
    "start_time": "2022-05-24T07:50:00.754Z"
   },
   {
    "duration": 25,
    "start_time": "2022-05-24T07:50:00.770Z"
   },
   {
    "duration": 4,
    "start_time": "2022-05-24T07:50:00.796Z"
   },
   {
    "duration": 22,
    "start_time": "2022-05-24T07:50:00.801Z"
   },
   {
    "duration": 33,
    "start_time": "2022-05-24T07:50:00.824Z"
   },
   {
    "duration": 13,
    "start_time": "2022-05-24T07:50:00.860Z"
   },
   {
    "duration": 30,
    "start_time": "2022-05-24T07:50:00.876Z"
   },
   {
    "duration": 24,
    "start_time": "2022-05-24T07:50:00.909Z"
   },
   {
    "duration": 31,
    "start_time": "2022-05-24T07:50:00.935Z"
   },
   {
    "duration": 5,
    "start_time": "2022-05-24T07:50:00.967Z"
   },
   {
    "duration": 8,
    "start_time": "2022-05-24T07:50:00.995Z"
   },
   {
    "duration": 21,
    "start_time": "2022-05-24T07:50:01.004Z"
   },
   {
    "duration": 45,
    "start_time": "2022-05-24T07:50:01.027Z"
   },
   {
    "duration": 20,
    "start_time": "2022-05-24T07:50:01.074Z"
   },
   {
    "duration": 22,
    "start_time": "2022-05-24T07:50:01.098Z"
   },
   {
    "duration": 41,
    "start_time": "2022-05-24T07:50:01.121Z"
   },
   {
    "duration": 26,
    "start_time": "2022-05-24T07:50:01.164Z"
   },
   {
    "duration": 31,
    "start_time": "2022-05-24T07:50:01.192Z"
   },
   {
    "duration": 19,
    "start_time": "2022-05-24T07:50:01.225Z"
   },
   {
    "duration": 11,
    "start_time": "2022-05-24T07:50:01.245Z"
   },
   {
    "duration": 150,
    "start_time": "2022-05-24T07:50:01.258Z"
   },
   {
    "duration": 7,
    "start_time": "2022-05-24T07:50:01.410Z"
   },
   {
    "duration": 44,
    "start_time": "2022-05-24T07:50:01.419Z"
   },
   {
    "duration": 12,
    "start_time": "2022-05-24T07:50:01.465Z"
   },
   {
    "duration": 36,
    "start_time": "2022-05-24T07:50:01.479Z"
   },
   {
    "duration": 14,
    "start_time": "2022-05-24T07:50:01.517Z"
   },
   {
    "duration": 23,
    "start_time": "2022-05-24T07:50:01.533Z"
   },
   {
    "duration": 25,
    "start_time": "2022-05-24T07:50:01.557Z"
   },
   {
    "duration": 20,
    "start_time": "2022-05-24T07:50:01.584Z"
   },
   {
    "duration": 34,
    "start_time": "2022-05-24T07:50:01.606Z"
   },
   {
    "duration": 20,
    "start_time": "2022-05-24T07:50:01.641Z"
   },
   {
    "duration": 23,
    "start_time": "2022-05-24T07:50:01.663Z"
   },
   {
    "duration": 26,
    "start_time": "2022-05-24T07:50:01.688Z"
   },
   {
    "duration": 21,
    "start_time": "2022-05-24T07:50:01.716Z"
   },
   {
    "duration": 10,
    "start_time": "2022-05-24T07:50:01.739Z"
   },
   {
    "duration": 11,
    "start_time": "2022-05-24T07:50:01.751Z"
   },
   {
    "duration": 29,
    "start_time": "2022-05-24T07:50:01.764Z"
   },
   {
    "duration": 10,
    "start_time": "2022-05-24T07:50:01.795Z"
   },
   {
    "duration": 22,
    "start_time": "2022-05-24T07:50:01.807Z"
   },
   {
    "duration": 9,
    "start_time": "2022-05-24T07:50:01.830Z"
   },
   {
    "duration": 51,
    "start_time": "2022-05-24T07:50:01.841Z"
   },
   {
    "duration": 16,
    "start_time": "2022-05-24T07:50:01.893Z"
   },
   {
    "duration": 23,
    "start_time": "2022-05-24T07:50:01.911Z"
   },
   {
    "duration": 81,
    "start_time": "2022-05-24T07:50:01.936Z"
   },
   {
    "duration": 22,
    "start_time": "2022-05-24T07:50:02.019Z"
   },
   {
    "duration": 33,
    "start_time": "2022-05-24T07:50:02.043Z"
   },
   {
    "duration": 30,
    "start_time": "2022-05-24T07:50:02.078Z"
   },
   {
    "duration": 29,
    "start_time": "2022-05-24T07:50:02.110Z"
   },
   {
    "duration": 12,
    "start_time": "2022-05-24T07:50:02.141Z"
   },
   {
    "duration": 92,
    "start_time": "2022-05-24T07:50:50.403Z"
   },
   {
    "duration": 34,
    "start_time": "2022-05-24T07:50:50.498Z"
   },
   {
    "duration": 12,
    "start_time": "2022-05-24T07:50:50.535Z"
   },
   {
    "duration": 44,
    "start_time": "2022-05-24T07:50:50.550Z"
   },
   {
    "duration": 16,
    "start_time": "2022-05-24T07:50:50.597Z"
   },
   {
    "duration": 15,
    "start_time": "2022-05-24T07:50:50.615Z"
   },
   {
    "duration": 15,
    "start_time": "2022-05-24T07:50:50.632Z"
   },
   {
    "duration": 20,
    "start_time": "2022-05-24T07:50:50.649Z"
   },
   {
    "duration": 8,
    "start_time": "2022-05-24T07:50:50.671Z"
   },
   {
    "duration": 6,
    "start_time": "2022-05-24T07:50:50.681Z"
   },
   {
    "duration": 14,
    "start_time": "2022-05-24T07:50:50.688Z"
   },
   {
    "duration": 25,
    "start_time": "2022-05-24T07:50:50.704Z"
   },
   {
    "duration": 16,
    "start_time": "2022-05-24T07:50:50.730Z"
   },
   {
    "duration": 9,
    "start_time": "2022-05-24T07:50:50.748Z"
   },
   {
    "duration": 6,
    "start_time": "2022-05-24T07:50:50.758Z"
   },
   {
    "duration": 4,
    "start_time": "2022-05-24T07:50:50.765Z"
   },
   {
    "duration": 26,
    "start_time": "2022-05-24T07:50:50.771Z"
   },
   {
    "duration": 15,
    "start_time": "2022-05-24T07:50:50.799Z"
   },
   {
    "duration": 3,
    "start_time": "2022-05-24T07:50:50.816Z"
   },
   {
    "duration": 17,
    "start_time": "2022-05-24T07:50:50.820Z"
   },
   {
    "duration": 17,
    "start_time": "2022-05-24T07:50:50.838Z"
   },
   {
    "duration": 60,
    "start_time": "2022-05-24T07:50:50.857Z"
   },
   {
    "duration": 4,
    "start_time": "2022-05-24T07:50:50.919Z"
   },
   {
    "duration": 8,
    "start_time": "2022-05-24T07:50:50.925Z"
   },
   {
    "duration": 6,
    "start_time": "2022-05-24T07:50:50.935Z"
   },
   {
    "duration": 13,
    "start_time": "2022-05-24T07:50:50.943Z"
   },
   {
    "duration": 42,
    "start_time": "2022-05-24T07:50:50.957Z"
   },
   {
    "duration": 7,
    "start_time": "2022-05-24T07:50:51.002Z"
   },
   {
    "duration": 14,
    "start_time": "2022-05-24T07:50:51.011Z"
   },
   {
    "duration": 5,
    "start_time": "2022-05-24T07:50:51.027Z"
   },
   {
    "duration": 25,
    "start_time": "2022-05-24T07:50:51.033Z"
   },
   {
    "duration": 5,
    "start_time": "2022-05-24T07:50:51.060Z"
   },
   {
    "duration": 31,
    "start_time": "2022-05-24T07:50:51.068Z"
   },
   {
    "duration": 165,
    "start_time": "2022-05-24T07:50:51.101Z"
   },
   {
    "duration": 6,
    "start_time": "2022-05-24T07:50:51.268Z"
   },
   {
    "duration": 35,
    "start_time": "2022-05-24T07:50:51.276Z"
   },
   {
    "duration": 12,
    "start_time": "2022-05-24T07:50:51.314Z"
   },
   {
    "duration": 7,
    "start_time": "2022-05-24T07:50:51.327Z"
   },
   {
    "duration": 8,
    "start_time": "2022-05-24T07:50:51.336Z"
   },
   {
    "duration": 9,
    "start_time": "2022-05-24T07:50:51.346Z"
   },
   {
    "duration": 39,
    "start_time": "2022-05-24T07:50:51.357Z"
   },
   {
    "duration": 22,
    "start_time": "2022-05-24T07:50:51.398Z"
   },
   {
    "duration": 31,
    "start_time": "2022-05-24T07:50:51.422Z"
   },
   {
    "duration": 9,
    "start_time": "2022-05-24T07:50:51.455Z"
   },
   {
    "duration": 11,
    "start_time": "2022-05-24T07:50:51.465Z"
   },
   {
    "duration": 11,
    "start_time": "2022-05-24T07:50:51.478Z"
   },
   {
    "duration": 11,
    "start_time": "2022-05-24T07:50:51.494Z"
   },
   {
    "duration": 11,
    "start_time": "2022-05-24T07:50:51.506Z"
   },
   {
    "duration": 7,
    "start_time": "2022-05-24T07:50:51.519Z"
   },
   {
    "duration": 25,
    "start_time": "2022-05-24T07:50:51.527Z"
   },
   {
    "duration": 12,
    "start_time": "2022-05-24T07:50:51.554Z"
   },
   {
    "duration": 10,
    "start_time": "2022-05-24T07:50:51.569Z"
   },
   {
    "duration": 6,
    "start_time": "2022-05-24T07:50:51.581Z"
   },
   {
    "duration": 18,
    "start_time": "2022-05-24T07:50:51.588Z"
   },
   {
    "duration": 13,
    "start_time": "2022-05-24T07:50:51.608Z"
   },
   {
    "duration": 10,
    "start_time": "2022-05-24T07:50:51.622Z"
   },
   {
    "duration": 20,
    "start_time": "2022-05-24T07:50:51.634Z"
   },
   {
    "duration": 10,
    "start_time": "2022-05-24T07:50:51.655Z"
   },
   {
    "duration": 9,
    "start_time": "2022-05-24T07:50:51.667Z"
   },
   {
    "duration": 5,
    "start_time": "2022-05-24T07:50:51.678Z"
   },
   {
    "duration": 4,
    "start_time": "2022-05-24T07:50:51.694Z"
   },
   {
    "duration": 10,
    "start_time": "2022-05-24T07:50:51.700Z"
   },
   {
    "duration": 520,
    "start_time": "2022-05-24T19:32:09.119Z"
   },
   {
    "duration": 33,
    "start_time": "2022-05-24T19:32:09.641Z"
   },
   {
    "duration": 10,
    "start_time": "2022-05-24T19:32:09.676Z"
   },
   {
    "duration": 20,
    "start_time": "2022-05-24T19:32:09.688Z"
   },
   {
    "duration": 28,
    "start_time": "2022-05-24T19:32:09.709Z"
   },
   {
    "duration": 6,
    "start_time": "2022-05-24T19:32:09.739Z"
   },
   {
    "duration": 12,
    "start_time": "2022-05-24T19:32:09.746Z"
   },
   {
    "duration": 11,
    "start_time": "2022-05-24T19:32:09.759Z"
   },
   {
    "duration": 6,
    "start_time": "2022-05-24T19:32:09.772Z"
   },
   {
    "duration": 6,
    "start_time": "2022-05-24T19:32:09.781Z"
   },
   {
    "duration": 38,
    "start_time": "2022-05-24T19:32:09.788Z"
   },
   {
    "duration": 5,
    "start_time": "2022-05-24T19:32:09.828Z"
   },
   {
    "duration": 16,
    "start_time": "2022-05-24T19:32:09.835Z"
   },
   {
    "duration": 12,
    "start_time": "2022-05-24T19:32:09.853Z"
   },
   {
    "duration": 8,
    "start_time": "2022-05-24T19:32:09.867Z"
   },
   {
    "duration": 15,
    "start_time": "2022-05-24T19:32:09.877Z"
   },
   {
    "duration": 33,
    "start_time": "2022-05-24T19:32:09.894Z"
   },
   {
    "duration": 15,
    "start_time": "2022-05-24T19:32:09.929Z"
   },
   {
    "duration": 4,
    "start_time": "2022-05-24T19:32:09.946Z"
   },
   {
    "duration": 27,
    "start_time": "2022-05-24T19:32:09.952Z"
   },
   {
    "duration": 21,
    "start_time": "2022-05-24T19:32:09.981Z"
   },
   {
    "duration": 59,
    "start_time": "2022-05-24T19:32:10.004Z"
   },
   {
    "duration": 4,
    "start_time": "2022-05-24T19:32:10.064Z"
   },
   {
    "duration": 12,
    "start_time": "2022-05-24T19:32:10.070Z"
   },
   {
    "duration": 15,
    "start_time": "2022-05-24T19:32:10.084Z"
   },
   {
    "duration": 31,
    "start_time": "2022-05-24T19:32:10.100Z"
   },
   {
    "duration": 13,
    "start_time": "2022-05-24T19:32:10.133Z"
   },
   {
    "duration": 15,
    "start_time": "2022-05-24T19:32:10.150Z"
   },
   {
    "duration": 20,
    "start_time": "2022-05-24T19:32:10.166Z"
   },
   {
    "duration": 22,
    "start_time": "2022-05-24T19:32:10.188Z"
   },
   {
    "duration": 19,
    "start_time": "2022-05-24T19:32:10.211Z"
   },
   {
    "duration": 10,
    "start_time": "2022-05-24T19:32:10.232Z"
   },
   {
    "duration": 4,
    "start_time": "2022-05-24T19:32:10.244Z"
   },
   {
    "duration": 159,
    "start_time": "2022-05-24T19:32:10.249Z"
   },
   {
    "duration": 7,
    "start_time": "2022-05-24T19:32:10.409Z"
   },
   {
    "duration": 20,
    "start_time": "2022-05-24T19:32:10.426Z"
   },
   {
    "duration": 9,
    "start_time": "2022-05-24T19:32:10.448Z"
   },
   {
    "duration": 6,
    "start_time": "2022-05-24T19:32:10.459Z"
   },
   {
    "duration": 15,
    "start_time": "2022-05-24T19:32:10.466Z"
   },
   {
    "duration": 15,
    "start_time": "2022-05-24T19:32:10.483Z"
   },
   {
    "duration": 29,
    "start_time": "2022-05-24T19:32:10.500Z"
   },
   {
    "duration": 10,
    "start_time": "2022-05-24T19:32:10.531Z"
   },
   {
    "duration": 34,
    "start_time": "2022-05-24T19:32:10.543Z"
   },
   {
    "duration": 10,
    "start_time": "2022-05-24T19:32:10.579Z"
   },
   {
    "duration": 18,
    "start_time": "2022-05-24T19:32:10.591Z"
   },
   {
    "duration": 11,
    "start_time": "2022-05-24T19:32:10.611Z"
   },
   {
    "duration": 8,
    "start_time": "2022-05-24T19:32:10.624Z"
   },
   {
    "duration": 11,
    "start_time": "2022-05-24T19:32:10.633Z"
   },
   {
    "duration": 33,
    "start_time": "2022-05-24T19:32:10.646Z"
   },
   {
    "duration": 21,
    "start_time": "2022-05-24T19:32:10.681Z"
   },
   {
    "duration": 9,
    "start_time": "2022-05-24T19:32:10.703Z"
   },
   {
    "duration": 9,
    "start_time": "2022-05-24T19:32:10.713Z"
   },
   {
    "duration": 6,
    "start_time": "2022-05-24T19:32:10.725Z"
   },
   {
    "duration": 7,
    "start_time": "2022-05-24T19:32:10.733Z"
   },
   {
    "duration": 12,
    "start_time": "2022-05-24T19:32:10.742Z"
   },
   {
    "duration": 8,
    "start_time": "2022-05-24T19:32:10.756Z"
   },
   {
    "duration": 22,
    "start_time": "2022-05-24T19:32:10.766Z"
   },
   {
    "duration": 8,
    "start_time": "2022-05-24T19:32:10.790Z"
   },
   {
    "duration": 29,
    "start_time": "2022-05-24T19:32:10.800Z"
   },
   {
    "duration": 8,
    "start_time": "2022-05-24T19:32:10.830Z"
   },
   {
    "duration": 5,
    "start_time": "2022-05-24T19:32:10.840Z"
   },
   {
    "duration": 6,
    "start_time": "2022-05-24T19:32:10.847Z"
   },
   {
    "duration": 26,
    "start_time": "2022-05-24T19:43:26.963Z"
   },
   {
    "duration": 20,
    "start_time": "2022-05-24T19:43:57.758Z"
   }
  ],
  "kernelspec": {
   "display_name": "Python 3 (ipykernel)",
   "language": "python",
   "name": "python3"
  },
  "language_info": {
   "codemirror_mode": {
    "name": "ipython",
    "version": 3
   },
   "file_extension": ".py",
   "mimetype": "text/x-python",
   "name": "python",
   "nbconvert_exporter": "python",
   "pygments_lexer": "ipython3",
   "version": "3.9.5"
  },
  "toc": {
   "base_numbering": 1,
   "nav_menu": {},
   "number_sections": true,
   "sideBar": true,
   "skip_h1_title": true,
   "title_cell": "Table of Contents",
   "title_sidebar": "Contents",
   "toc_cell": false,
   "toc_position": {},
   "toc_section_display": true,
   "toc_window_display": false
  }
 },
 "nbformat": 4,
 "nbformat_minor": 5
}
